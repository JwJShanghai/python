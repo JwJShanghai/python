{
 "metadata": {
  "name": ""
 },
 "nbformat": 3,
 "nbformat_minor": 0,
 "worksheets": [
  {
   "cells": [
    {
     "cell_type": "code",
     "collapsed": false,
     "input": [
      "import random\n",
      "import itertools"
     ],
     "language": "python",
     "metadata": {},
     "outputs": [],
     "prompt_number": 2
    },
    {
     "cell_type": "code",
     "collapsed": false,
     "input": [
      "deck = [r+s for r in '23456789TJQKA' for s in 'SHDC']\n",
      "joker_deck = deck + ['?R', '?B']\n",
      "double_deck = 2 * deck\n",
      "\n",
      "def deal(players, n=5, whole=0, deck=[r+s for r in '23456789TJQKA' for s in 'SHDC']):\n",
      "    random.shuffle(deck)\n",
      "    return [deck[n*i:n*(i+1)] for i in range(players)], deck[-1-whole:-1]\n"
     ],
     "language": "python",
     "metadata": {},
     "outputs": [],
     "prompt_number": 24
    },
    {
     "cell_type": "code",
     "collapsed": false,
     "input": [
      "hands, whole = deal(5, whole=2, deck=double_deck)\n",
      "print(whole, hands)"
     ],
     "language": "python",
     "metadata": {},
     "outputs": [
      {
       "output_type": "stream",
       "stream": "stdout",
       "text": [
        "['3C', 'JS'] [['QD', '4S', '9H', '9S', '9D'], ['5D', '3S', '7H', '2C', '6S'], ['8D', 'KC', '7D', '3H', '3S'], ['6H', 'JS', 'QC', 'AC', 'KS'], ['3C', '5C', 'TS', 'KD', '5H']]\n"
       ]
      }
     ],
     "prompt_number": 25
    },
    {
     "cell_type": "code",
     "collapsed": false,
     "input": [
      "for hand in hands:\n",
      "    reversed_hand = list(reversed(hand))\n",
      "    print(reversed_hand)"
     ],
     "language": "python",
     "metadata": {},
     "outputs": [
      {
       "output_type": "stream",
       "stream": "stdout",
       "text": [
        "['9D', '9S', '9H', '4S', 'QD']\n",
        "['6S', '2C', '7H', '3S', '5D']\n",
        "['3S', '3H', '7D', 'KC', '8D']\n",
        "['KS', 'AC', 'QC', 'JS', '6H']\n",
        "['5H', 'KD', 'TS', '5C', '3C']\n"
       ]
      }
     ],
     "prompt_number": 26
    },
    {
     "cell_type": "code",
     "collapsed": false,
     "input": [],
     "language": "python",
     "metadata": {},
     "outputs": []
    }
   ],
   "metadata": {}
  }
 ]
}