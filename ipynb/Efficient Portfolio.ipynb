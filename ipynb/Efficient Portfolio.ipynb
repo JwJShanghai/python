{
 "metadata": {
  "name": ""
 },
 "nbformat": 3,
 "nbformat_minor": 0,
 "worksheets": [
  {
   "cells": [
    {
     "cell_type": "code",
     "collapsed": false,
     "input": [
      "import pandas as pd\n",
      "import numpy as np\n",
      "from scipy.optimize import minimize\n",
      "from matplotlib.pyplot import plot, scatter, show\n",
      "from pandas.io.data import DataReader\n",
      "from datetime import datetime"
     ],
     "language": "python",
     "metadata": {},
     "outputs": [],
     "prompt_number": 1
    },
    {
     "cell_type": "code",
     "collapsed": false,
     "input": [
      "%matplotlib inline"
     ],
     "language": "python",
     "metadata": {},
     "outputs": [],
     "prompt_number": 2
    },
    {
     "cell_type": "code",
     "collapsed": false,
     "input": [
      "start = datetime(2011,11,1)\n",
      "end = datetime.today()\n",
      "\n",
      "# stock list\n",
      "L = ['SPY', 'SBUX', 'DISCK']\n",
      "\n",
      "#set up DataFrames\n",
      "daily_price  = pd.DataFrame(index=pd.bdate_range(start, end)) # business days\n",
      "daily_return = pd.DataFrame(index=pd.bdate_range(start, end))"
     ],
     "language": "python",
     "metadata": {},
     "outputs": [],
     "prompt_number": 3
    },
    {
     "cell_type": "code",
     "collapsed": false,
     "input": [
      "# get daily equity \"Adj Close\" from start to end\n",
      "# would like to build a database of SP500 stocks instead\n",
      "\n",
      "daily_price = DataReader(L, 'yahoo', start, end)['Adj Close']\n",
      "\n",
      "daily_return = np.log(1+daily_price.pct_change())  # for a continuous return number\n",
      "# cumulative_return = daily_return.cumsum()        useful for a normalized return chart"
     ],
     "language": "python",
     "metadata": {},
     "outputs": [],
     "prompt_number": 4
    },
    {
     "cell_type": "code",
     "collapsed": false,
     "input": [
      "# create expected return vector, stdev vector and covariance, correlation matrices\n",
      "\n",
      "R = daily_return.mean() # expected return vector\n",
      "AAR = (1+R)**250-1      # average annual return vector\n",
      "S = daily_return.std()  # expected standard deviation vector\n",
      "C = daily_return.cov()  # covariance matrix\n",
      "Corr =  daily_return.corr() # and a correlation matrix for info"
     ],
     "language": "python",
     "metadata": {},
     "outputs": [],
     "prompt_number": 5
    },
    {
     "cell_type": "code",
     "collapsed": false,
     "input": [
      "np.matrix(C)"
     ],
     "language": "python",
     "metadata": {},
     "outputs": [
      {
       "metadata": {},
       "output_type": "pyout",
       "prompt_number": 22,
       "text": [
        "matrix([[  1.89388111e-04,   8.00361638e-05,   6.73242704e-05],\n",
        "        [  8.00361638e-05,   2.43237015e-04,   6.63674188e-05],\n",
        "        [  6.73242704e-05,   6.63674188e-05,   7.01936328e-05]])"
       ]
      }
     ],
     "prompt_number": 22
    },
    {
     "cell_type": "code",
     "collapsed": false,
     "input": [
      "R*252 # annualized continuous return"
     ],
     "language": "python",
     "metadata": {},
     "outputs": [
      {
       "metadata": {},
       "output_type": "pyout",
       "prompt_number": 7,
       "text": [
        "DISCK    0.282268\n",
        "SBUX     0.255616\n",
        "SPY      0.183109\n",
        "dtype: float64"
       ]
      }
     ],
     "prompt_number": 7
    },
    {
     "cell_type": "code",
     "collapsed": false,
     "input": [
      "np.exp(R*252)-1 # equivalent average annual return"
     ],
     "language": "python",
     "metadata": {},
     "outputs": [
      {
       "metadata": {},
       "output_type": "pyout",
       "prompt_number": 8,
       "text": [
        "DISCK    0.326135\n",
        "SBUX     0.291257\n",
        "SPY      0.200946\n",
        "dtype: float64"
       ]
      }
     ],
     "prompt_number": 8
    },
    {
     "cell_type": "code",
     "collapsed": false,
     "input": [
      "S*np.sqrt(252) # annualized STD"
     ],
     "language": "python",
     "metadata": {},
     "outputs": [
      {
       "metadata": {},
       "output_type": "pyout",
       "prompt_number": 9,
       "text": [
        "DISCK    0.218462\n",
        "SBUX     0.247580\n",
        "SPY      0.132999\n",
        "dtype: float64"
       ]
      }
     ],
     "prompt_number": 9
    },
    {
     "cell_type": "code",
     "collapsed": false,
     "input": [
      "def port_return(W):\n",
      "    return np.dot(R, W)\n",
      "    \n",
      "def port_var(W):\n",
      "    return np.dot(W, np.dot(C, W))"
     ],
     "language": "python",
     "metadata": {},
     "outputs": [],
     "prompt_number": 10
    },
    {
     "cell_type": "code",
     "collapsed": false,
     "input": [
      "# Given risk-free rate, assets returns and covariances, this function calculates\n",
      "# mean-variance frontier and associated weights\n",
      "\n",
      "def find_frontier(R, C, rf):\n",
      "        def fitness(W, R, C, r):\n",
      "                # For given level of return r, find weights that minimize portfolio variance.\n",
      "                mean, var = port_return(W), port_var(W)\n",
      "                # Big penalty for not meeting stated portfolio return effectively serves as optimization constraint\n",
      "                penalty = 50*abs(mean-r)\n",
      "                return var + penalty\n",
      "        frontier_mean, frontier_var, frontier_weights = [], [], []\n",
      "        for r in np.linspace(min(R), max(R), num=20):   # iterate through a range of returns on Y axis\n",
      "                W = np.ones([len(L)])/len(L)            # start optimization with equal weights\n",
      "                b_ = [(0.,1.) for i in range(len(L))]\n",
      "                c_ = ({'type':'eq', 'fun': lambda W: sum(W)-1. })\n",
      "                optimized = minimize(fitness, W, (R, C, r), method='SLSQP', constraints=c_, bounds=b_)   \n",
      "                if not optimized.success: \n",
      "                        raise BaseException(optimized.message)\n",
      "                # add point to the min-var frontier [x,y] = [optimized.x, r]\n",
      "                frontier_mean.append(r)                                                 # return\n",
      "                frontier_var.append(np.sqrt(port_var(optimized.x)))   # min-variance based on optimized weights\n",
      "                frontier_weights.append(optimized.x)\n",
      "        return np.array(frontier_mean), np.array(frontier_var), frontier_weights"
     ],
     "language": "python",
     "metadata": {},
     "outputs": [],
     "prompt_number": 11
    },
    {
     "cell_type": "code",
     "collapsed": false,
     "input": [
      "# finds tangential optimum portfolio based on rf input\n",
      "\n",
      "def tangent_weights(C, rf):\n",
      "    def Sharpe(W, C, rf):\n",
      "        mean, var = port_return(W), port_var(W) \n",
      "        util = (mean - rf) / np.sqrt(var)               # calculates the Sharpe Ratio\n",
      "        return 1/util                                   # maximize utility, minimize the function\n",
      "    W = np.ones([len(L)])/len(L)\n",
      "    b_ = [(0., 1.) for i in range(len(L))]              # weights between 0 and 100%, no shorts\n",
      "    c_ = ({'type':'eq', 'fun': lambda W: sum(W)-1. })   # weights must add to 100%\n",
      "    res = minimize(Sharpe, W, (C, rf), method='SLSQP', constraints=c_, bounds=b_) # the magic scipy function!\n",
      "    if not res.success:\n",
      "        raise BaseException(res.message)\n",
      "    return res.x"
     ],
     "language": "python",
     "metadata": {},
     "outputs": [],
     "prompt_number": 12
    },
    {
     "cell_type": "code",
     "collapsed": false,
     "input": [
      "def min_var_weights(C, rf):\n",
      "    def mvp(W, C, rf):\n",
      "        return port_var(W)\n",
      "    W = np.ones([len(L)])/len(L)\n",
      "    b_ = [(0., 1.) for i in range(len(L))]              # weights between 0 and 100%, no shorts\n",
      "    c_ = ({'type':'eq', 'fun': lambda W: sum(W)-1. })   # weights must add to 100%\n",
      "    res = minimize(mvp, W, (C, rf), method='SLSQP', constraints=c_, bounds=b_) # the magic scipy function!\n",
      "    if not res.success:\n",
      "        raise BaseException(res.message)\n",
      "    return res.x"
     ],
     "language": "python",
     "metadata": {},
     "outputs": [],
     "prompt_number": 13
    },
    {
     "cell_type": "code",
     "collapsed": false,
     "input": [
      "rf = .01\n",
      "\n",
      "T_W = tangent_weights(C, rf)\n",
      "MV_W = min_var_weights(C, rf)\n",
      "F_M, F_S, F_W = find_frontier(R, C, rf)"
     ],
     "language": "python",
     "metadata": {},
     "outputs": [],
     "prompt_number": 14
    },
    {
     "cell_type": "code",
     "collapsed": true,
     "input": [
      "print('tangential weights:')\n",
      "for i, stock in enumerate(T_W):\n",
      "    print('{}      {:.2%}'.format(L[i],stock))\n",
      "    \n",
      "print('minimum variance weights:')\n",
      "for i, stock in enumerate(MV_W):\n",
      "    print('{}      {:.2%}'.format(L[i],stock))"
     ],
     "language": "python",
     "metadata": {},
     "outputs": [
      {
       "output_type": "stream",
       "stream": "stdout",
       "text": [
        "tangential weights:\n",
        "SPY      0.00%\n",
        "SBUX      100.00%\n",
        "DISCK      0.00%\n",
        "minimum variance weights:\n",
        "SPY      33.33%\n",
        "SBUX      33.33%\n",
        "DISCK      33.33%\n"
       ]
      }
     ],
     "prompt_number": 15
    },
    {
     "cell_type": "code",
     "collapsed": false,
     "input": [
      "sharpe = (port_return(T_W) - rf) / np.sqrt(port_var(T_W))\n",
      "mean, std = port_return(T_W), np.sqrt(port_var(T_W))\n",
      "print('tangent portfolio has a {:.2%} average daily return with a {:.2%} standard deviation'.format(mean, std))\n",
      "print('This portfolio has a Sharpe ratio of {:.3} using a risk free rate of {:.2}'.format(sharpe,rf))"
     ],
     "language": "python",
     "metadata": {},
     "outputs": [
      {
       "output_type": "stream",
       "stream": "stdout",
       "text": [
        "tangent portfolio has a 0.10% average daily return with a 1.56% standard deviation\n",
        "This portfolio has a Sharpe ratio of -0.576 using a risk free rate of 0.01\n"
       ]
      }
     ],
     "prompt_number": 16
    },
    {
     "cell_type": "code",
     "collapsed": false,
     "input": [
      "plot(F_S,F_M)\n",
      "scatter(S,R)\n",
      "show()"
     ],
     "language": "python",
     "metadata": {},
     "outputs": [
      {
       "metadata": {},
       "output_type": "display_data",
       "png": "[encoded data removed]",
       "text": [
        "<matplotlib.figure.Figure at 0x10849efd0>"
       ]
      }
     ],
     "prompt_number": 17
    },
    {
     "cell_type": "code",
     "collapsed": false,
     "input": [
      "F_W = pd.DataFrame(F_W)\n",
      "F_W.plot()\n",
      "show()"
     ],
     "language": "python",
     "metadata": {},
     "outputs": [
      {
       "metadata": {},
       "output_type": "display_data",
       "png": "[encoded data removed]",
       "text": [
        "<matplotlib.figure.Figure at 0x10a065350>"
       ]
      }
     ],
     "prompt_number": 18
    },
    {
     "cell_type": "code",
     "collapsed": false,
     "input": [
      "W = np.ones([len(L)])/len(L)"
     ],
     "language": "python",
     "metadata": {},
     "outputs": [],
     "prompt_number": 19
    },
    {
     "cell_type": "code",
     "collapsed": false,
     "input": [
      "port_exp_return = np.exp(port_return(W)*252)-1\n",
      "port_exp_return = port_return(W)\n",
      "port_std = np.sqrt(port_var(W)*252)\n",
      "port_std = port_var(W)\n",
      "print('equal weight portfolio has a {:.2%} average annual return with a {:.2%} standard deviation'.format(port_exp_return, port_std))"
     ],
     "language": "python",
     "metadata": {},
     "outputs": [
      {
       "output_type": "stream",
       "stream": "stdout",
       "text": [
        "equal weight portfolio has a 0.10% average annual return with a 0.01% standard deviation\n"
       ]
      }
     ],
     "prompt_number": 20
    },
    {
     "cell_type": "code",
     "collapsed": false,
     "input": [],
     "language": "python",
     "metadata": {},
     "outputs": [],
     "prompt_number": 20
    }
   ],
   "metadata": {}
  }
 ]
}