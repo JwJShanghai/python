{
 "metadata": {
  "name": ""
 },
 "nbformat": 3,
 "nbformat_minor": 0,
 "worksheets": [
  {
   "cells": [
    {
     "cell_type": "code",
     "collapsed": false,
     "input": [
      "import pandas as pd\n",
      "import numpy as np\n",
      "from scipy.optimize import minimize\n",
      "from matplotlib.pyplot import plot, scatter, show\n",
      "from pandas.io.data import DataReader\n",
      "from datetime import datetime"
     ],
     "language": "python",
     "metadata": {},
     "outputs": [],
     "prompt_number": 1
    },
    {
     "cell_type": "code",
     "collapsed": false,
     "input": [
      "%matplotlib inline"
     ],
     "language": "python",
     "metadata": {},
     "outputs": [],
     "prompt_number": 2
    },
    {
     "cell_type": "code",
     "collapsed": false,
     "input": [
      "start = datetime(2011,11,1)\n",
      "end = datetime.today()\n",
      "\n",
      "# stock list\n",
      "L = ['SPY', 'SBUX', 'DISCK', 'DIS', 'COST', 'GLD']\n",
      "\n",
      "#set up DataFrames\n",
      "daily_price  = pd.DataFrame(index=pd.bdate_range(start, end)) # business days\n",
      "daily_return = pd.DataFrame(index=pd.bdate_range(start, end))"
     ],
     "language": "python",
     "metadata": {},
     "outputs": [],
     "prompt_number": 3
    },
    {
     "cell_type": "code",
     "collapsed": false,
     "input": [
      "# get daily equity \"Adj Close\" from start to end\n",
      "# would like to build a database of SP500 stocks instead\n",
      "\n",
      "daily_price = DataReader(L, 'yahoo', start, end)['Adj Close']\n",
      "\n",
      "daily_return = np.log(1+daily_price.pct_change())  # for a continuous return number\n",
      "# cumulative_return = daily_return.cumsum()        useful for a normalized return chart"
     ],
     "language": "python",
     "metadata": {},
     "outputs": [],
     "prompt_number": 4
    },
    {
     "cell_type": "code",
     "collapsed": false,
     "input": [
      "# create expected return vector, stdev vector and covariance, correlation matrices\n",
      "\n",
      "R = daily_return.mean() # expected return vector\n",
      "AAR = (1+R)**250-1      # average annual return vector\n",
      "S = daily_return.std()  # expected standard deviation vector\n",
      "C = daily_return.cov()  # covariance matrix\n",
      "Corr =  daily_return.corr() # and a correlation matrix for info"
     ],
     "language": "python",
     "metadata": {},
     "outputs": [],
     "prompt_number": 5
    },
    {
     "cell_type": "code",
     "collapsed": false,
     "input": [
      "C"
     ],
     "language": "python",
     "metadata": {},
     "outputs": [
      {
       "html": [
        "<div style=\"max-height:1000px;max-width:1500px;overflow:auto;\">\n",
        "<table border=\"1\" class=\"dataframe\">\n",
        "  <thead>\n",
        "    <tr style=\"text-align: right;\">\n",
        "      <th></th>\n",
        "      <th>COST</th>\n",
        "      <th>DIS</th>\n",
        "      <th>DISCK</th>\n",
        "      <th>GLD</th>\n",
        "      <th>SBUX</th>\n",
        "      <th>SPY</th>\n",
        "    </tr>\n",
        "  </thead>\n",
        "  <tbody>\n",
        "    <tr>\n",
        "      <th>COST</th>\n",
        "      <td> 0.000099</td>\n",
        "      <td> 0.000050</td>\n",
        "      <td> 0.000049</td>\n",
        "      <td> 0.000012</td>\n",
        "      <td> 0.000047</td>\n",
        "      <td> 0.000047</td>\n",
        "    </tr>\n",
        "    <tr>\n",
        "      <th>DIS</th>\n",
        "      <td> 0.000050</td>\n",
        "      <td> 0.000153</td>\n",
        "      <td> 0.000083</td>\n",
        "      <td> 0.000017</td>\n",
        "      <td> 0.000083</td>\n",
        "      <td> 0.000077</td>\n",
        "    </tr>\n",
        "    <tr>\n",
        "      <th>DISCK</th>\n",
        "      <td> 0.000049</td>\n",
        "      <td> 0.000083</td>\n",
        "      <td> 0.000196</td>\n",
        "      <td> 0.000019</td>\n",
        "      <td> 0.000080</td>\n",
        "      <td> 0.000069</td>\n",
        "    </tr>\n",
        "    <tr>\n",
        "      <th>GLD</th>\n",
        "      <td> 0.000012</td>\n",
        "      <td> 0.000017</td>\n",
        "      <td> 0.000019</td>\n",
        "      <td> 0.000147</td>\n",
        "      <td> 0.000014</td>\n",
        "      <td> 0.000028</td>\n",
        "    </tr>\n",
        "    <tr>\n",
        "      <th>SBUX</th>\n",
        "      <td> 0.000047</td>\n",
        "      <td> 0.000083</td>\n",
        "      <td> 0.000080</td>\n",
        "      <td> 0.000014</td>\n",
        "      <td> 0.000251</td>\n",
        "      <td> 0.000067</td>\n",
        "    </tr>\n",
        "    <tr>\n",
        "      <th>SPY</th>\n",
        "      <td> 0.000047</td>\n",
        "      <td> 0.000077</td>\n",
        "      <td> 0.000069</td>\n",
        "      <td> 0.000028</td>\n",
        "      <td> 0.000067</td>\n",
        "      <td> 0.000072</td>\n",
        "    </tr>\n",
        "  </tbody>\n",
        "</table>\n",
        "</div>"
       ],
       "metadata": {},
       "output_type": "pyout",
       "prompt_number": 6,
       "text": [
        "           COST       DIS     DISCK       GLD      SBUX       SPY\n",
        "COST   0.000099  0.000050  0.000049  0.000012  0.000047  0.000047\n",
        "DIS    0.000050  0.000153  0.000083  0.000017  0.000083  0.000077\n",
        "DISCK  0.000049  0.000083  0.000196  0.000019  0.000080  0.000069\n",
        "GLD    0.000012  0.000017  0.000019  0.000147  0.000014  0.000028\n",
        "SBUX   0.000047  0.000083  0.000080  0.000014  0.000251  0.000067\n",
        "SPY    0.000047  0.000077  0.000069  0.000028  0.000067  0.000072"
       ]
      }
     ],
     "prompt_number": 6
    },
    {
     "cell_type": "code",
     "collapsed": false,
     "input": [
      "Corr"
     ],
     "language": "python",
     "metadata": {},
     "outputs": [
      {
       "html": [
        "<div style=\"max-height:1000px;max-width:1500px;overflow:auto;\">\n",
        "<table border=\"1\" class=\"dataframe\">\n",
        "  <thead>\n",
        "    <tr style=\"text-align: right;\">\n",
        "      <th></th>\n",
        "      <th>COST</th>\n",
        "      <th>DIS</th>\n",
        "      <th>DISCK</th>\n",
        "      <th>GLD</th>\n",
        "      <th>SBUX</th>\n",
        "      <th>SPY</th>\n",
        "    </tr>\n",
        "  </thead>\n",
        "  <tbody>\n",
        "    <tr>\n",
        "      <th>COST</th>\n",
        "      <td> 1.000000</td>\n",
        "      <td> 0.406859</td>\n",
        "      <td> 0.352797</td>\n",
        "      <td> 0.098437</td>\n",
        "      <td> 0.297806</td>\n",
        "      <td> 0.555799</td>\n",
        "    </tr>\n",
        "    <tr>\n",
        "      <th>DIS</th>\n",
        "      <td> 0.406859</td>\n",
        "      <td> 1.000000</td>\n",
        "      <td> 0.476027</td>\n",
        "      <td> 0.113967</td>\n",
        "      <td> 0.421362</td>\n",
        "      <td> 0.733158</td>\n",
        "    </tr>\n",
        "    <tr>\n",
        "      <th>DISCK</th>\n",
        "      <td> 0.352797</td>\n",
        "      <td> 0.476027</td>\n",
        "      <td> 1.000000</td>\n",
        "      <td> 0.112274</td>\n",
        "      <td> 0.361256</td>\n",
        "      <td> 0.580484</td>\n",
        "    </tr>\n",
        "    <tr>\n",
        "      <th>GLD</th>\n",
        "      <td> 0.098437</td>\n",
        "      <td> 0.113967</td>\n",
        "      <td> 0.112274</td>\n",
        "      <td> 1.000000</td>\n",
        "      <td> 0.071645</td>\n",
        "      <td> 0.269430</td>\n",
        "    </tr>\n",
        "    <tr>\n",
        "      <th>SBUX</th>\n",
        "      <td> 0.297806</td>\n",
        "      <td> 0.421362</td>\n",
        "      <td> 0.361256</td>\n",
        "      <td> 0.071645</td>\n",
        "      <td> 1.000000</td>\n",
        "      <td> 0.499461</td>\n",
        "    </tr>\n",
        "    <tr>\n",
        "      <th>SPY</th>\n",
        "      <td> 0.555799</td>\n",
        "      <td> 0.733158</td>\n",
        "      <td> 0.580484</td>\n",
        "      <td> 0.269430</td>\n",
        "      <td> 0.499461</td>\n",
        "      <td> 1.000000</td>\n",
        "    </tr>\n",
        "  </tbody>\n",
        "</table>\n",
        "</div>"
       ],
       "metadata": {},
       "output_type": "pyout",
       "prompt_number": 7,
       "text": [
        "           COST       DIS     DISCK       GLD      SBUX       SPY\n",
        "COST   1.000000  0.406859  0.352797  0.098437  0.297806  0.555799\n",
        "DIS    0.406859  1.000000  0.476027  0.113967  0.421362  0.733158\n",
        "DISCK  0.352797  0.476027  1.000000  0.112274  0.361256  0.580484\n",
        "GLD    0.098437  0.113967  0.112274  1.000000  0.071645  0.269430\n",
        "SBUX   0.297806  0.421362  0.361256  0.071645  1.000000  0.499461\n",
        "SPY    0.555799  0.733158  0.580484  0.269430  0.499461  1.000000"
       ]
      }
     ],
     "prompt_number": 7
    },
    {
     "cell_type": "code",
     "collapsed": false,
     "input": [
      "R*252 # annualized continuous return"
     ],
     "language": "python",
     "metadata": {},
     "outputs": [
      {
       "metadata": {},
       "output_type": "pyout",
       "prompt_number": 9,
       "text": [
        "COST     0.227877\n",
        "DIS      0.373835\n",
        "DISCK    0.369635\n",
        "GLD     -0.139498\n",
        "SBUX     0.357276\n",
        "SPY      0.205028\n",
        "dtype: float64"
       ]
      }
     ],
     "prompt_number": 9
    },
    {
     "cell_type": "code",
     "collapsed": false,
     "input": [
      "np.exp(R*252)-1 # equivalent average annual return"
     ],
     "language": "python",
     "metadata": {},
     "outputs": [
      {
       "metadata": {},
       "output_type": "pyout",
       "prompt_number": 10,
       "text": [
        "COST     0.255930\n",
        "DIS      0.453297\n",
        "DISCK    0.447206\n",
        "GLD     -0.130206\n",
        "SBUX     0.429430\n",
        "SPY      0.227559\n",
        "dtype: float64"
       ]
      }
     ],
     "prompt_number": 10
    },
    {
     "cell_type": "code",
     "collapsed": false,
     "input": [
      "S*np.sqrt(252) # annualized STD"
     ],
     "language": "python",
     "metadata": {},
     "outputs": [
      {
       "metadata": {},
       "output_type": "pyout",
       "prompt_number": 11,
       "text": [
        "COST     0.157630\n",
        "DIS      0.196666\n",
        "DISCK    0.222474\n",
        "GLD      0.192194\n",
        "SBUX     0.251667\n",
        "SPY      0.134855\n",
        "dtype: float64"
       ]
      }
     ],
     "prompt_number": 11
    },
    {
     "cell_type": "code",
     "collapsed": false,
     "input": [
      "def port_return(W):\n",
      "    return np.dot(R, W)\n",
      "    \n",
      "def port_var(W):\n",
      "    return np.dot(W, np.dot(C, W))"
     ],
     "language": "python",
     "metadata": {},
     "outputs": [],
     "prompt_number": 12
    },
    {
     "cell_type": "code",
     "collapsed": false,
     "input": [
      "# Given risk-free rate, assets returns and covariances, this function calculates\n",
      "# mean-variance frontier and associated weights\n",
      "\n",
      "def find_frontier(R, C, rf):\n",
      "        def fitness(W, R, C, r):\n",
      "                # For given level of return r, find weights that minimize portfolio variance.\n",
      "                mean, var = port_return(W), port_var(W)\n",
      "                # Big penalty for not meeting stated portfolio return effectively serves as optimization constraint\n",
      "                penalty = 50*abs(mean-r)\n",
      "                return var + penalty\n",
      "        frontier_mean, frontier_var, frontier_weights = [], [], []\n",
      "        for r in np.linspace(min(R), max(R), num=20):   # iterate through a range of returns on Y axis\n",
      "                W = np.ones([len(L)])/len(L)            # start optimization with equal weights\n",
      "                b_ = [(0.,1.) for i in range(len(L))]\n",
      "                c_ = ({'type':'eq', 'fun': lambda W: sum(W)-1. })\n",
      "                optimized = minimize(fitness, W, (R, C, r), method='SLSQP', constraints=c_, bounds=b_)   \n",
      "                if not optimized.success: \n",
      "                        raise BaseException(optimized.message)\n",
      "                # add point to the min-var frontier [x,y] = [optimized.x, r]\n",
      "                frontier_mean.append(r)                                                 # return\n",
      "                frontier_var.append(np.sqrt(port_var(optimized.x)))   # min-variance based on optimized weights\n",
      "                frontier_weights.append(optimized.x)\n",
      "        return np.array(frontier_mean), np.array(frontier_var), frontier_weights"
     ],
     "language": "python",
     "metadata": {},
     "outputs": [],
     "prompt_number": 16
    },
    {
     "cell_type": "code",
     "collapsed": false,
     "input": [
      "# finds tangential optimum portfolio based on rf input\n",
      "\n",
      "def tangent_weights(C, rf):\n",
      "    def Sharpe(W, C, rf):\n",
      "        mean, var = port_return(W), port_var(W) \n",
      "        util = (mean - rf) / np.sqrt(var)               # calculates the Sharpe Ratio\n",
      "        return 1/util                                   # maximize utility, minimize the function\n",
      "    W = np.ones([len(L)])/len(L)\n",
      "    b_ = [(0., 1.) for i in range(len(L))]              # weights between 0 and 100%, no shorts\n",
      "    c_ = ({'type':'eq', 'fun': lambda W: sum(W)-1. })   # weights must add to 100%\n",
      "    res = minimize(Sharpe, W, (C, rf), method='SLSQP', constraints=c_, bounds=b_) # the magic scipy function!\n",
      "    if not res.success:\n",
      "        raise BaseException(res.message)\n",
      "    return res.x"
     ],
     "language": "python",
     "metadata": {},
     "outputs": [],
     "prompt_number": 13
    },
    {
     "cell_type": "code",
     "collapsed": false,
     "input": [
      "def min_var_weights(C, rf):\n",
      "    def mvp(W, C, rf):\n",
      "        return port_var(W)\n",
      "    W = np.ones([len(L)])/len(L)\n",
      "    b_ = [(0., 1.) for i in range(len(L))]              # weights between 0 and 100%, no shorts\n",
      "    c_ = ({'type':'eq', 'fun': lambda W: sum(W)-1. })   # weights must add to 100%\n",
      "    res = minimize(mvp, W, (C, rf), method='SLSQP', constraints=c_, bounds=b_) # the magic scipy function!\n",
      "    if not res.success:\n",
      "        raise BaseException(res.message)\n",
      "    return res.x"
     ],
     "language": "python",
     "metadata": {},
     "outputs": [],
     "prompt_number": 14
    },
    {
     "cell_type": "code",
     "collapsed": false,
     "input": [
      "rf = 0.\n",
      "\n",
      "T_W = tangent_weights(C, rf)\n",
      "MV_W = min_var_weights(C, rf)\n",
      "F_M, F_S, F_W = find_frontier(R, C, rf)"
     ],
     "language": "python",
     "metadata": {},
     "outputs": [],
     "prompt_number": 17
    },
    {
     "cell_type": "code",
     "collapsed": true,
     "input": [
      "print('tangential weights:')\n",
      "for i, stock in enumerate(T_W):\n",
      "    print('{}      {:.2%}'.format(L[i],stock))\n",
      "    \n",
      "print('minimum variance weights:')\n",
      "for i, stock in enumerate(MV_W):\n",
      "    print('{}      {:.2%}'.format(L[i],stock))"
     ],
     "language": "python",
     "metadata": {},
     "outputs": [
      {
       "output_type": "stream",
       "stream": "stdout",
       "text": [
        "tangential weights:\n",
        "SPY      25.29%\n",
        "SBUX      37.72%\n",
        "DISCK      23.02%\n",
        "DIS      -0.00%\n",
        "COST      13.97%\n",
        "GLD      0.00%\n",
        "minimum variance weights:\n",
        "SPY      16.67%\n",
        "SBUX      16.67%\n",
        "DISCK      16.67%\n",
        "DIS      16.67%\n",
        "COST      16.67%\n",
        "GLD      16.67%\n"
       ]
      }
     ],
     "prompt_number": 28
    },
    {
     "cell_type": "code",
     "collapsed": false,
     "input": [
      "sharpe = (port_return(T_W) - rf) / np.sqrt(port_var(T_W))\n",
      "mean, std = port_return(T_W), np.sqrt(port_var(T_W))\n",
      "print('tangent portfolio has a {:.2%} average daily return with a {:.2%} standard deviation'.format(mean, std))\n",
      "print('This portfolio has a Sharpe ratio of {:.3} using a risk free rate of {:.2}'.format(sharpe,rf))"
     ],
     "language": "python",
     "metadata": {},
     "outputs": [
      {
       "output_type": "stream",
       "stream": "stdout",
       "text": [
        "tangent portfolio has a 0.13% average daily return with a 0.95% standard deviation\n",
        "This portfolio has a Sharpe ratio of 0.139 using a risk free rate of 0.0\n"
       ]
      }
     ],
     "prompt_number": 30
    },
    {
     "cell_type": "code",
     "collapsed": false,
     "input": [
      "plot(F_S,F_M)\n",
      "scatter(S,R)\n",
      "show()"
     ],
     "language": "python",
     "metadata": {},
     "outputs": [
      {
       "metadata": {},
       "output_type": "display_data",
       "png": "[encoded data removed]",
       "text": [
        "<matplotlib.figure.Figure at 0x109176a50>"
       ]
      }
     ],
     "prompt_number": 31
    },
    {
     "cell_type": "code",
     "collapsed": false,
     "input": [
      "F_W = pd.DataFrame(F_W)\n",
      "F_W.plot()\n",
      "show()"
     ],
     "language": "python",
     "metadata": {},
     "outputs": [
      {
       "metadata": {},
       "output_type": "display_data",
       "png": "[encoded data removed]",
       "text": [
        "<matplotlib.figure.Figure at 0x1035177d0>"
       ]
      }
     ],
     "prompt_number": 32
    },
    {
     "cell_type": "code",
     "collapsed": false,
     "input": [
      "W = np.ones([len(L)])/len(L)"
     ],
     "language": "python",
     "metadata": {},
     "outputs": [],
     "prompt_number": 33
    },
    {
     "cell_type": "code",
     "collapsed": false,
     "input": [
      "port_exp_return = np.exp(port_return(W)*252)-1\n",
      "port_std = np.sqrt(port_var(W)*252)\n",
      "print('equal weight portfolio has a {:.2%} average annual return with a {:.2%} standard deviation'.format(port_exp_return, port_std))"
     ],
     "language": "python",
     "metadata": {},
     "outputs": [
      {
       "output_type": "stream",
       "stream": "stdout",
       "text": [
        "equal weight portfolio has a 26.16% average annual return with a 12.97% standard deviation\n"
       ]
      }
     ],
     "prompt_number": 34
    },
    {
     "cell_type": "code",
     "collapsed": false,
     "input": [],
     "language": "python",
     "metadata": {},
     "outputs": []
    }
   ],
   "metadata": {}
  }
 ]
}