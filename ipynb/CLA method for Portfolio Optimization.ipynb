{
 "metadata": {
  "name": ""
 },
 "nbformat": 3,
 "nbformat_minor": 0,
 "worksheets": [
  {
   "cells": [
    {
     "cell_type": "code",
     "collapsed": false,
     "input": [
      "import pandas as pd\n",
      "import numpy as np\n",
      "from scipy.optimize import minimize\n",
      "from matplotlib.pyplot import plot, scatter, show\n",
      "from pandas.io.data import DataReader\n",
      "from datetime import datetime"
     ],
     "language": "python",
     "metadata": {},
     "outputs": [],
     "prompt_number": 1
    },
    {
     "cell_type": "code",
     "collapsed": false,
     "input": [
      "#---------------------------------------------------------------\n",
      "# Class CLA (algorithm for solving efficient portfolios)\n",
      "#---------------------------------------------------------------\n",
      "class CLA:\n",
      "    def __init__(self,mean,covar,lB,uB):\n",
      "        # Initialize the class\n",
      "        self.mean=mean\n",
      "        self.covar=covar\n",
      "        self.lB=lB\n",
      "        self.uB=uB\n",
      "        self.w=[] # solution\n",
      "        self.l=[] # lambdas\n",
      "        self.g=[] # gammas\n",
      "        self.f=[] # free weights\n",
      "#---------------------------------------------------------------\n",
      "    def solve(self):\n",
      "        # Compute the turning points,free sets and weights\n",
      "        f,w=self.initAlgo()\n",
      "        self.w.append(np.copy(w)) # store solution\n",
      "        self.l.append(None)\n",
      "        self.g.append(None)\n",
      "        self.f.append(f[:])\n",
      "        while True:\n",
      "            #1) case a): Bound one free weight\n",
      "            l_in=None\n",
      "            if len(f)>1:\n",
      "                covarF,covarFB,meanF,wB=self.getMatrices(f)\n",
      "                covarF_inv=np.linalg.inv(covarF)\n",
      "                j=0\n",
      "                for i in f:\n",
      "                    l,bi=self.computeLambda(covarF_inv,covarFB,meanF,wB,j,[self.lB[i],self.uB[i]])\n",
      "                    if l>l_in:l_in,i_in,bi_in=l,i,bi\n",
      "                    j+=1\n",
      "            #2) case b): Free one bounded weight\n",
      "            l_out=None\n",
      "            if len(f)<self.mean.shape[0]:\n",
      "                b=self.getB(f)\n",
      "                for i in b:\n",
      "                    covarF,covarFB,meanF,wB=self.getMatrices(f+[i])\n",
      "                    covarF_inv=np.linalg.inv(covarF)\n",
      "                    l,bi=self.computeLambda(covarF_inv,covarFB,meanF,wB,meanF.shape[0]-1, \\\n",
      "                        self.w[-1][i])\n",
      "                    if (self.l[-1]==None or l<self.l[-1]) and l>l_out:l_out,i_out=l,i                \n",
      "            if (l_in==None or l_in<0) and (l_out==None or l_out<0):\n",
      "                #3) compute minimum variance solution\n",
      "                self.l.append(0)\n",
      "                covarF,covarFB,meanF,wB=self.getMatrices(f)\n",
      "                covarF_inv=np.linalg.inv(covarF)\n",
      "                meanF=np.zeros(meanF.shape)\n",
      "            else:\n",
      "                #4) decide lambda\n",
      "                if l_in>l_out:\n",
      "                    self.l.append(l_in)\n",
      "                    f.remove(i_in)\n",
      "                    w[i_in]=bi_in # set value at the correct boundary\n",
      "                else:\n",
      "                    self.l.append(l_out)\n",
      "                    f.append(i_out)\n",
      "                covarF,covarFB,meanF,wB=self.getMatrices(f)\n",
      "                covarF_inv=np.linalg.inv(covarF)\n",
      "            #5) compute solution vector\n",
      "            wF,g=self.computeW(covarF_inv,covarFB,meanF,wB)\n",
      "            for i in range(len(f)):w[f[i]]=wF[i]\n",
      "            self.w.append(np.copy(w)) # store solution\n",
      "            self.g.append(g)\n",
      "            self.f.append(f[:])\n",
      "            if self.l[-1]==0:break\n",
      "        #6) Purge turning points\n",
      "        self.purgeNumErr(10e-10)\n",
      "        self.purgeExcess()\n",
      "#---------------------------------------------------------------    \n",
      "    def initAlgo(self):\n",
      "        # Initialize the algo\n",
      "        #1) Form structured array\n",
      "        a=np.zeros((self.mean.shape[0]),dtype=[('id',int),('mu',float)])\n",
      "        b=[self.mean[i] for i in range(self.mean.shape[0])] # dump array into list\n",
      "        a[:]=zip(range(self.mean.shape[0]),b) # fill structured array\n",
      "        #2) Sort structured array\n",
      "        b=np.sort(a,order='mu')\n",
      "        #3) First free weight\n",
      "        i,w=b.shape[0],np.copy(self.lB)\n",
      "        while sum(w)<1:\n",
      "            i-=1\n",
      "            w[b[i][0]]=self.uB[b[i][0]]\n",
      "        w[b[i][0]]+=1-sum(w)\n",
      "        return [b[i][0]],w\n",
      "#---------------------------------------------------------------    \n",
      "    def computeBi(self,c,bi):\n",
      "        if c>0:\n",
      "            bi=bi[1][0]\n",
      "        if c<0:\n",
      "            bi=bi[0][0]\n",
      "        return bi\n",
      "#---------------------------------------------------------------\n",
      "    def computeW(self,covarF_inv,covarFB,meanF,wB):\n",
      "        #1) compute gamma\n",
      "        onesF=np.ones(meanF.shape)\n",
      "        g1=np.dot(np.dot(onesF.T,covarF_inv),meanF)\n",
      "        g2=np.dot(np.dot(onesF.T,covarF_inv),onesF)\n",
      "        if wB==None:\n",
      "            g,w1=float(-self.l[-1]*g1/g2+1/g2),0\n",
      "        else:\n",
      "            onesB=np.ones(wB.shape)\n",
      "            g3=np.dot(onesB.T,wB)\n",
      "            g4=np.dot(covarF_inv,covarFB)\n",
      "            w1=np.dot(g4,wB)\n",
      "            g4=np.dot(onesF.T,w1)\n",
      "            g=float(-self.l[-1]*g1/g2+(1-g3+g4)/g2)\n",
      "        #2) compute weights\n",
      "        w2=np.dot(covarF_inv,onesF)\n",
      "        w3=np.dot(covarF_inv,meanF)\n",
      "        return -w1+g*w2+self.l[-1]*w3,g\n",
      "#---------------------------------------------------------------\n",
      "    def computeLambda(self,covarF_inv,covarFB,meanF,wB,i,bi):\n",
      "        #1) C\n",
      "        onesF=np.ones(meanF.shape)\n",
      "        c1=np.dot(np.dot(onesF.T,covarF_inv),onesF)\n",
      "        c2=np.dot(covarF_inv,meanF)\n",
      "        c3=np.dot(np.dot(onesF.T,covarF_inv),meanF)\n",
      "        c4=np.dot(covarF_inv,onesF)\n",
      "        c=-c1*c2[i]+c3*c4[i]\n",
      "        if c==0:return None,None\n",
      "        #2) bi\n",
      "        if type(bi)==list:bi=self.computeBi(c,bi)\n",
      "        #3) Lambda\n",
      "        if wB==None:\n",
      "            # All free assets\n",
      "            return float((c4[i]-c1*bi)/c),bi\n",
      "        else:\n",
      "            onesB=np.ones(wB.shape)\n",
      "            l1=np.dot(onesB.T,wB)\n",
      "            l2=np.dot(covarF_inv,covarFB)\n",
      "            l3=np.dot(l2,wB)\n",
      "            l2=np.dot(onesF.T,l3)\n",
      "            return float(((1-l1+l2)*c4[i]-c1*(bi+l3[i]))/c),bi\n",
      "#---------------------------------------------------------------\n",
      "    def getMatrices(self,f):\n",
      "        # Slice covarF,covarFB,covarB,meanF,meanB,wF,wB\n",
      "        covarF=self.reduceMatrix(self.covar,f,f)\n",
      "        meanF=self.reduceMatrix(self.mean,f,[0])\n",
      "        b=self.getB(f)\n",
      "        covarFB=self.reduceMatrix(self.covar,f,b)\n",
      "        wB=self.reduceMatrix(self.w[-1],b,[0])\n",
      "        return covarF,covarFB,meanF,wB\n",
      "#---------------------------------------------------------------\n",
      "    def getB(self,f):\n",
      "        return self.diffLists(range(self.mean.shape[0]),f)\n",
      "#---------------------------------------------------------------\n",
      "    def diffLists(self,list1,list2):\n",
      "        return list(set(list1)-set(list2))\n",
      "#---------------------------------------------------------------\n",
      "    def reduceMatrix(self,matrix,listX,listY):\n",
      "        # Reduce a matrix to the provided list of rows and columns\n",
      "        if len(listX)==0 or len(listY)==0:return\n",
      "        matrix_=matrix[:,listY[0]:listY[0]+1]\n",
      "        for i in listY[1:]:\n",
      "            a=matrix[:,i:i+1]\n",
      "            matrix_=np.append(matrix_,a,1)\n",
      "        matrix__=matrix_[listX[0]:listX[0]+1,:]\n",
      "        for i in listX[1:]:\n",
      "            a=matrix_[i:i+1,:]\n",
      "            matrix__=np.append(matrix__,a,0)\n",
      "        return matrix__\n",
      "#---------------------------------------------------------------    \n",
      "    def purgeNumErr(self,tol):\n",
      "        # Purge violations of inequality constraints (associated with ill-conditioned covar matrix)\n",
      "        i=0\n",
      "        while True:\n",
      "            flag=False\n",
      "            if i==len(self.w):break\n",
      "            if abs(sum(self.w[i])-1)>tol:\n",
      "                flag=True\n",
      "            else:\n",
      "                for j in range(self.w[i].shape[0]):\n",
      "                    if self.w[i][j]-self.lB[j]<-tol or self.w[i][j]-self.uB[j]>tol:\n",
      "                        flag=True;break\n",
      "            if flag==True:\n",
      "                del self.w[i]\n",
      "                del self.l[i]\n",
      "                del self.g[i]\n",
      "                del self.f[i]\n",
      "            else:\n",
      "                i+=1\n",
      "        return\n",
      "#---------------------------------------------------------------    \n",
      "    def purgeExcess(self):\n",
      "        # Remove violations of the convex hull\n",
      "        i,repeat=0,False\n",
      "        while True:\n",
      "            if repeat==False:i+=1\n",
      "            if i==len(self.w)-1:break\n",
      "            w=self.w[i]\n",
      "            mu=np.dot(w.T,self.mean)[0,0]\n",
      "            j,repeat=i+1,False\n",
      "            while True:\n",
      "                if j==len(self.w):break\n",
      "                w=self.w[j]\n",
      "                mu_=np.dot(w.T,self.mean)[0,0]\n",
      "                if mu<mu_:\n",
      "                    del self.w[i]\n",
      "                    del self.l[i]\n",
      "                    del self.g[i]\n",
      "                    del self.f[i]\n",
      "                    repeat=True\n",
      "                    break\n",
      "                else:\n",
      "                    j+=1\n",
      "        return\n",
      "#---------------------------------------------------------------\n",
      "    def getMinVar(self):\n",
      "        # Get the minimum variance solution\n",
      "        var=[]\n",
      "        for w in self.w:\n",
      "            a=np.dot(np.dot(w.T,self.covar),w)\n",
      "            var.append(a)\n",
      "        return min(var)**.5,self.w[var.index(min(var))]\n",
      "#---------------------------------------------------------------\n",
      "    def getMaxSR(self):\n",
      "        # Get the max Sharpe ratio portfolio\n",
      "        #1) Compute the local max SR portfolio between any two neighbor turning points\n",
      "        w_sr,sr=[],[]\n",
      "        for i in range(len(self.w)-1):\n",
      "            w0=np.copy(self.w[i])\n",
      "            w1=np.copy(self.w[i+1])\n",
      "            kargs={'minimum':False,'args':(w0,w1)}\n",
      "            a,b=self.goldenSection(self.evalSR,0,1,**kargs)\n",
      "            w_sr.append(a*w0+(1-a)*w1)\n",
      "            sr.append(b)\n",
      "        return max(sr),w_sr[sr.index(max(sr))]\n",
      "#---------------------------------------------------------------\n",
      "    def evalSR(self,a,w0,w1):\n",
      "        # Evaluate SR of the portfolio within the convex combination\n",
      "        w=a*w0+(1-a)*w1\n",
      "        b=np.dot(w.T,self.mean)[0,0]\n",
      "        c=np.dot(np.dot(w.T,self.covar),w)[0,0]**.5\n",
      "        return b/c\n",
      "#---------------------------------------------------------------\n",
      "    def goldenSection(self,obj,a,b,**kargs):\n",
      "        # Golden section method. Maximum if kargs['minimum']==False is passed \n",
      "        from math import log,ceil\n",
      "        tol,sign,args=1.0e-9,1,None\n",
      "        if 'minimum' in kargs and kargs['minimum']==False:sign=-1\n",
      "        if 'args' in kargs:args=kargs['args']\n",
      "        numIter=int(ceil(-2.078087*log(tol/abs(b-a))))\n",
      "        r=0.618033989\n",
      "        c=1.0-r\n",
      "        # Initialize\n",
      "        x1=r*a+c*b;x2=c*a+r*b\n",
      "        f1=sign*obj(x1,*args);f2=sign*obj(x2,*args)\n",
      "        # Loop\n",
      "        for i in range(numIter):\n",
      "            if f1>f2:\n",
      "                a=x1\n",
      "                x1=x2;f1=f2\n",
      "                x2=c*a+r*b;f2=sign*obj(x2,*args)\n",
      "            else:\n",
      "                b=x2\n",
      "                x2=x1;f2=f1\n",
      "                x1=r*a+c*b;f1=sign*obj(x1,*args)\n",
      "        if f1<f2:return x1,sign*f1\n",
      "        else:return x2,sign*f2\n",
      "#---------------------------------------------------------------\n",
      "    def efFrontier(self,points):\n",
      "        # Get the efficient frontier\n",
      "        mu,sigma,weights=[],[],[]\n",
      "        a=np.linspace(0,1,points/len(self.w))[:-1] # remove the 1, to avoid duplications\n",
      "        b=range(len(self.w)-1)\n",
      "        for i in b:\n",
      "            w0,w1=self.w[i],self.w[i+1]\n",
      "            if i==b[-1]:a=np.linspace(0,1,points/len(self.w)) # include the 1 in the last iteration\n",
      "            for j in a:\n",
      "                w=w1*j+(1-j)*w0\n",
      "                weights.append(np.copy(w))\n",
      "                mu.append(np.dot(w.T,self.mean)[0,0])\n",
      "                sigma.append(np.dot(np.dot(w.T,self.covar),w)[0,0]**.5)\n",
      "        return mu,sigma,weights\n",
      "#---------------------------------------------------------------\n",
      "# end Class CLA\n",
      "#---------------------------------------------------------------"
     ],
     "language": "python",
     "metadata": {},
     "outputs": [],
     "prompt_number": 2
    },
    {
     "cell_type": "code",
     "collapsed": false,
     "input": [
      "#---------------------------------------------------------------\n",
      "def plot2D(x,y,xLabel='',yLabel='',title='',pathChart=None):\n",
      "    import matplotlib.pyplot as mpl\n",
      "    fig=mpl.figure()\n",
      "    ax=fig.add_subplot(1,1,1) #one row, one column, first plot\n",
      "    ax.plot(x,y,color='blue')\n",
      "    ax.set_xlabel(xLabel)\n",
      "    ax.set_ylabel(yLabel,rotation=90)\n",
      "    mpl.xticks(rotation='vertical')\n",
      "    mpl.title(title)\n",
      "    if pathChart==None:\n",
      "        mpl.show()\n",
      "    else:\n",
      "        mpl.savefig(pathChart)\n",
      "    mpl.clf() # reset pylab\n",
      "    return"
     ],
     "language": "python",
     "metadata": {},
     "outputs": [],
     "prompt_number": 3
    },
    {
     "cell_type": "code",
     "collapsed": false,
     "input": [
      "#---------------------------------------------------------------\n",
      "# Main Section\n",
      "#---------------------------------------------------------------\n",
      "start = datetime(2011,8,11)\n",
      "end = datetime.today()\n",
      "\n",
      "# stock list\n",
      "L = np.array(['AAPL', 'SPY', 'DDD', 'SBUX'])\n",
      "\n",
      "#set up DataFrames\n",
      "daily_price  = pd.DataFrame(index=pd.bdate_range(start, end)) # business days\n",
      "daily_return = pd.DataFrame(index=pd.bdate_range(start, end))"
     ],
     "language": "python",
     "metadata": {},
     "outputs": [],
     "prompt_number": 4
    },
    {
     "cell_type": "code",
     "collapsed": false,
     "input": [
      "# get daily equity \"Adj Close\" from start to end\n",
      "# would like to build a database of SP500 stocks instead\n",
      "\n",
      "daily_price = DataReader(L, 'yahoo', start, end)['Adj Close']\n",
      "daily_return = np.log(1+daily_price.pct_change())  # for a continuous return number\n",
      "# cumulative_return = daily_return.cumsum()        useful for a normalized return chart"
     ],
     "language": "python",
     "metadata": {},
     "outputs": [],
     "prompt_number": 5
    },
    {
     "cell_type": "code",
     "collapsed": false,
     "input": [
      "# create expected return vector, stdev vector and covariance, correlation matrices\n",
      "\n",
      "R = daily_return.mean() # expected return vector\n",
      "S = daily_return.std()  # expected standard deviation vector\n",
      "C = daily_return.cov()  # covariance matrix\n",
      "Corr =  daily_return.corr() # and a correlation matrix for info"
     ],
     "language": "python",
     "metadata": {},
     "outputs": [],
     "prompt_number": 6
    },
    {
     "cell_type": "code",
     "collapsed": false,
     "input": [
      "R"
     ],
     "language": "python",
     "metadata": {},
     "outputs": [
      {
       "metadata": {},
       "output_type": "pyout",
       "prompt_number": 7,
       "text": [
        "AAPL    0.000632\n",
        "DDD     0.003206\n",
        "SBUX    0.001420\n",
        "SPY     0.000836\n",
        "dtype: float64"
       ]
      }
     ],
     "prompt_number": 7
    },
    {
     "cell_type": "code",
     "collapsed": false,
     "input": [
      "#2) Load data, set seed\n",
      "headers=L\n",
      "headers"
     ],
     "language": "python",
     "metadata": {},
     "outputs": [
      {
       "metadata": {},
       "output_type": "pyout",
       "prompt_number": 8,
       "text": [
        "array(['AAPL', 'SPY', 'DDD', 'SBUX'], \n",
        "      dtype='<U4')"
       ]
      }
     ],
     "prompt_number": 8
    },
    {
     "cell_type": "code",
     "collapsed": false,
     "input": [
      "mean=np.array(R)\n",
      "type(mean)\n",
      "mean.shape[0]"
     ],
     "language": "python",
     "metadata": {},
     "outputs": [
      {
       "metadata": {},
       "output_type": "pyout",
       "prompt_number": 9,
       "text": [
        "4"
       ]
      }
     ],
     "prompt_number": 9
    },
    {
     "cell_type": "code",
     "collapsed": false,
     "input": [
      "lB=np.array([0.]*len(L))\n",
      "lB"
     ],
     "language": "python",
     "metadata": {},
     "outputs": [
      {
       "metadata": {},
       "output_type": "pyout",
       "prompt_number": 10,
       "text": [
        "array([ 0.,  0.,  0.,  0.])"
       ]
      }
     ],
     "prompt_number": 10
    },
    {
     "cell_type": "code",
     "collapsed": false,
     "input": [
      "uB=np.array([1.]*len(L))\n",
      "uB"
     ],
     "language": "python",
     "metadata": {},
     "outputs": [
      {
       "metadata": {},
       "output_type": "pyout",
       "prompt_number": 11,
       "text": [
        "array([ 1.,  1.,  1.,  1.])"
       ]
      }
     ],
     "prompt_number": 11
    },
    {
     "cell_type": "code",
     "collapsed": false,
     "input": [
      "covar=np.array(C)\n",
      "covar"
     ],
     "language": "python",
     "metadata": {},
     "outputs": [
      {
       "metadata": {},
       "output_type": "pyout",
       "prompt_number": 12,
       "text": [
        "array([[  3.38413101e-04,   1.88455340e-04,   9.25271185e-05,\n",
        "          8.28695579e-05],\n",
        "       [  1.88455340e-04,   1.29034495e-03,   1.84622891e-04,\n",
        "          1.89528437e-04],\n",
        "       [  9.25271185e-05,   1.84622891e-04,   2.95470688e-04,\n",
        "          1.00749709e-04],\n",
        "       [  8.28695579e-05,   1.89528437e-04,   1.00749709e-04,\n",
        "          9.94522257e-05]])"
       ]
      }
     ],
     "prompt_number": 12
    },
    {
     "cell_type": "code",
     "collapsed": false,
     "input": [
      "#3) Invoke object\n",
      "cla=CLA(mean,covar,lB,uB)\n",
      "cla.solve()\n",
      "print(cla.w) # print all turning points"
     ],
     "language": "python",
     "metadata": {},
     "outputs": [
      {
       "ename": "TypeError",
       "evalue": "expected an object with a buffer interface",
       "output_type": "pyerr",
       "traceback": [
        "\u001b[0;31m---------------------------------------------------------------------------\u001b[0m\n\u001b[0;31mTypeError\u001b[0m                                 Traceback (most recent call last)",
        "\u001b[0;32m<ipython-input-13-86c9b1845d69>\u001b[0m in \u001b[0;36m<module>\u001b[0;34m()\u001b[0m\n\u001b[1;32m      1\u001b[0m \u001b[0;31m#3) Invoke object\u001b[0m\u001b[0;34m\u001b[0m\u001b[0;34m\u001b[0m\u001b[0m\n\u001b[1;32m      2\u001b[0m \u001b[0mcla\u001b[0m\u001b[0;34m=\u001b[0m\u001b[0mCLA\u001b[0m\u001b[0;34m(\u001b[0m\u001b[0mmean\u001b[0m\u001b[0;34m,\u001b[0m\u001b[0mcovar\u001b[0m\u001b[0;34m,\u001b[0m\u001b[0mlB\u001b[0m\u001b[0;34m,\u001b[0m\u001b[0muB\u001b[0m\u001b[0;34m)\u001b[0m\u001b[0;34m\u001b[0m\u001b[0m\n\u001b[0;32m----> 3\u001b[0;31m \u001b[0mcla\u001b[0m\u001b[0;34m.\u001b[0m\u001b[0msolve\u001b[0m\u001b[0;34m(\u001b[0m\u001b[0;34m)\u001b[0m\u001b[0;34m\u001b[0m\u001b[0m\n\u001b[0m\u001b[1;32m      4\u001b[0m \u001b[0mprint\u001b[0m\u001b[0;34m(\u001b[0m\u001b[0mcla\u001b[0m\u001b[0;34m.\u001b[0m\u001b[0mw\u001b[0m\u001b[0;34m)\u001b[0m \u001b[0;31m# print all turning points\u001b[0m\u001b[0;34m\u001b[0m\u001b[0m\n",
        "\u001b[0;32m<ipython-input-2-45dac6181cbd>\u001b[0m in \u001b[0;36msolve\u001b[0;34m(self)\u001b[0m\n\u001b[1;32m     16\u001b[0m     \u001b[0;32mdef\u001b[0m \u001b[0msolve\u001b[0m\u001b[0;34m(\u001b[0m\u001b[0mself\u001b[0m\u001b[0;34m)\u001b[0m\u001b[0;34m:\u001b[0m\u001b[0;34m\u001b[0m\u001b[0m\n\u001b[1;32m     17\u001b[0m         \u001b[0;31m# Compute the turning points,free sets and weights\u001b[0m\u001b[0;34m\u001b[0m\u001b[0;34m\u001b[0m\u001b[0m\n\u001b[0;32m---> 18\u001b[0;31m         \u001b[0mf\u001b[0m\u001b[0;34m,\u001b[0m\u001b[0mw\u001b[0m\u001b[0;34m=\u001b[0m\u001b[0mself\u001b[0m\u001b[0;34m.\u001b[0m\u001b[0minitAlgo\u001b[0m\u001b[0;34m(\u001b[0m\u001b[0;34m)\u001b[0m\u001b[0;34m\u001b[0m\u001b[0m\n\u001b[0m\u001b[1;32m     19\u001b[0m         \u001b[0mself\u001b[0m\u001b[0;34m.\u001b[0m\u001b[0mw\u001b[0m\u001b[0;34m.\u001b[0m\u001b[0mappend\u001b[0m\u001b[0;34m(\u001b[0m\u001b[0mnp\u001b[0m\u001b[0;34m.\u001b[0m\u001b[0mcopy\u001b[0m\u001b[0;34m(\u001b[0m\u001b[0mw\u001b[0m\u001b[0;34m)\u001b[0m\u001b[0;34m)\u001b[0m \u001b[0;31m# store solution\u001b[0m\u001b[0;34m\u001b[0m\u001b[0m\n\u001b[1;32m     20\u001b[0m         \u001b[0mself\u001b[0m\u001b[0;34m.\u001b[0m\u001b[0ml\u001b[0m\u001b[0;34m.\u001b[0m\u001b[0mappend\u001b[0m\u001b[0;34m(\u001b[0m\u001b[0;32mNone\u001b[0m\u001b[0;34m)\u001b[0m\u001b[0;34m\u001b[0m\u001b[0m\n",
        "\u001b[0;32m<ipython-input-2-45dac6181cbd>\u001b[0m in \u001b[0;36minitAlgo\u001b[0;34m(self)\u001b[0m\n\u001b[1;32m     74\u001b[0m         \u001b[0ma\u001b[0m\u001b[0;34m=\u001b[0m\u001b[0mnp\u001b[0m\u001b[0;34m.\u001b[0m\u001b[0mzeros\u001b[0m\u001b[0;34m(\u001b[0m\u001b[0;34m(\u001b[0m\u001b[0mself\u001b[0m\u001b[0;34m.\u001b[0m\u001b[0mmean\u001b[0m\u001b[0;34m.\u001b[0m\u001b[0mshape\u001b[0m\u001b[0;34m[\u001b[0m\u001b[0;36m0\u001b[0m\u001b[0;34m]\u001b[0m\u001b[0;34m)\u001b[0m\u001b[0;34m,\u001b[0m\u001b[0mdtype\u001b[0m\u001b[0;34m=\u001b[0m\u001b[0;34m[\u001b[0m\u001b[0;34m(\u001b[0m\u001b[0;34m'id'\u001b[0m\u001b[0;34m,\u001b[0m\u001b[0mint\u001b[0m\u001b[0;34m)\u001b[0m\u001b[0;34m,\u001b[0m\u001b[0;34m(\u001b[0m\u001b[0;34m'mu'\u001b[0m\u001b[0;34m,\u001b[0m\u001b[0mfloat\u001b[0m\u001b[0;34m)\u001b[0m\u001b[0;34m]\u001b[0m\u001b[0;34m)\u001b[0m\u001b[0;34m\u001b[0m\u001b[0m\n\u001b[1;32m     75\u001b[0m         \u001b[0mb\u001b[0m\u001b[0;34m=\u001b[0m\u001b[0;34m[\u001b[0m\u001b[0mself\u001b[0m\u001b[0;34m.\u001b[0m\u001b[0mmean\u001b[0m\u001b[0;34m[\u001b[0m\u001b[0mi\u001b[0m\u001b[0;34m]\u001b[0m \u001b[0;32mfor\u001b[0m \u001b[0mi\u001b[0m \u001b[0;32min\u001b[0m \u001b[0mrange\u001b[0m\u001b[0;34m(\u001b[0m\u001b[0mself\u001b[0m\u001b[0;34m.\u001b[0m\u001b[0mmean\u001b[0m\u001b[0;34m.\u001b[0m\u001b[0mshape\u001b[0m\u001b[0;34m[\u001b[0m\u001b[0;36m0\u001b[0m\u001b[0;34m]\u001b[0m\u001b[0;34m)\u001b[0m\u001b[0;34m]\u001b[0m \u001b[0;31m# dump array into list\u001b[0m\u001b[0;34m\u001b[0m\u001b[0m\n\u001b[0;32m---> 76\u001b[0;31m         \u001b[0ma\u001b[0m\u001b[0;34m[\u001b[0m\u001b[0;34m:\u001b[0m\u001b[0;34m]\u001b[0m\u001b[0;34m=\u001b[0m\u001b[0mzip\u001b[0m\u001b[0;34m(\u001b[0m\u001b[0mrange\u001b[0m\u001b[0;34m(\u001b[0m\u001b[0mself\u001b[0m\u001b[0;34m.\u001b[0m\u001b[0mmean\u001b[0m\u001b[0;34m.\u001b[0m\u001b[0mshape\u001b[0m\u001b[0;34m[\u001b[0m\u001b[0;36m0\u001b[0m\u001b[0;34m]\u001b[0m\u001b[0;34m)\u001b[0m\u001b[0;34m,\u001b[0m\u001b[0mb\u001b[0m\u001b[0;34m)\u001b[0m \u001b[0;31m# fill structured array\u001b[0m\u001b[0;34m\u001b[0m\u001b[0m\n\u001b[0m\u001b[1;32m     77\u001b[0m         \u001b[0;31m#2) Sort structured array\u001b[0m\u001b[0;34m\u001b[0m\u001b[0;34m\u001b[0m\u001b[0m\n\u001b[1;32m     78\u001b[0m         \u001b[0mb\u001b[0m\u001b[0;34m=\u001b[0m\u001b[0mnp\u001b[0m\u001b[0;34m.\u001b[0m\u001b[0msort\u001b[0m\u001b[0;34m(\u001b[0m\u001b[0ma\u001b[0m\u001b[0;34m,\u001b[0m\u001b[0morder\u001b[0m\u001b[0;34m=\u001b[0m\u001b[0;34m'mu'\u001b[0m\u001b[0;34m)\u001b[0m\u001b[0;34m\u001b[0m\u001b[0m\n",
        "\u001b[0;31mTypeError\u001b[0m: expected an object with a buffer interface"
       ]
      }
     ],
     "prompt_number": 13
    },
    {
     "cell_type": "code",
     "collapsed": false,
     "input": [
      "#4) Plot frontier\n",
      "mu,sigma,weights=cla.efFrontier(100)\n",
      "plot2D(sigma,mu,'Risk','Expected Excess Return','CLA-derived Efficient Frontier')"
     ],
     "language": "python",
     "metadata": {},
     "outputs": [
      {
       "ename": "ZeroDivisionError",
       "evalue": "division by zero",
       "output_type": "pyerr",
       "traceback": [
        "\u001b[0;31m---------------------------------------------------------------------------\u001b[0m\n\u001b[0;31mZeroDivisionError\u001b[0m                         Traceback (most recent call last)",
        "\u001b[0;32m<ipython-input-15-753363e43f72>\u001b[0m in \u001b[0;36m<module>\u001b[0;34m()\u001b[0m\n\u001b[1;32m      1\u001b[0m \u001b[0;31m#4) Plot frontier\u001b[0m\u001b[0;34m\u001b[0m\u001b[0;34m\u001b[0m\u001b[0m\n\u001b[0;32m----> 2\u001b[0;31m \u001b[0mmu\u001b[0m\u001b[0;34m,\u001b[0m\u001b[0msigma\u001b[0m\u001b[0;34m,\u001b[0m\u001b[0mweights\u001b[0m\u001b[0;34m=\u001b[0m\u001b[0mcla\u001b[0m\u001b[0;34m.\u001b[0m\u001b[0mefFrontier\u001b[0m\u001b[0;34m(\u001b[0m\u001b[0;36m100\u001b[0m\u001b[0;34m)\u001b[0m\u001b[0;34m\u001b[0m\u001b[0m\n\u001b[0m\u001b[1;32m      3\u001b[0m \u001b[0mplot2D\u001b[0m\u001b[0;34m(\u001b[0m\u001b[0msigma\u001b[0m\u001b[0;34m,\u001b[0m\u001b[0mmu\u001b[0m\u001b[0;34m,\u001b[0m\u001b[0;34m'Risk'\u001b[0m\u001b[0;34m,\u001b[0m\u001b[0;34m'Expected Excess Return'\u001b[0m\u001b[0;34m,\u001b[0m\u001b[0;34m'CLA-derived Efficient Frontier'\u001b[0m\u001b[0;34m)\u001b[0m\u001b[0;34m\u001b[0m\u001b[0m\n",
        "\u001b[0;32m<ipython-input-3-45dac6181cbd>\u001b[0m in \u001b[0;36mefFrontier\u001b[0;34m(self, points)\u001b[0m\n\u001b[1;32m    263\u001b[0m         \u001b[0;31m# Get the efficient frontier\u001b[0m\u001b[0;34m\u001b[0m\u001b[0;34m\u001b[0m\u001b[0m\n\u001b[1;32m    264\u001b[0m         \u001b[0mmu\u001b[0m\u001b[0;34m,\u001b[0m\u001b[0msigma\u001b[0m\u001b[0;34m,\u001b[0m\u001b[0mweights\u001b[0m\u001b[0;34m=\u001b[0m\u001b[0;34m[\u001b[0m\u001b[0;34m]\u001b[0m\u001b[0;34m,\u001b[0m\u001b[0;34m[\u001b[0m\u001b[0;34m]\u001b[0m\u001b[0;34m,\u001b[0m\u001b[0;34m[\u001b[0m\u001b[0;34m]\u001b[0m\u001b[0;34m\u001b[0m\u001b[0m\n\u001b[0;32m--> 265\u001b[0;31m         \u001b[0ma\u001b[0m\u001b[0;34m=\u001b[0m\u001b[0mnp\u001b[0m\u001b[0;34m.\u001b[0m\u001b[0mlinspace\u001b[0m\u001b[0;34m(\u001b[0m\u001b[0;36m0\u001b[0m\u001b[0;34m,\u001b[0m\u001b[0;36m1\u001b[0m\u001b[0;34m,\u001b[0m\u001b[0mpoints\u001b[0m\u001b[0;34m/\u001b[0m\u001b[0mlen\u001b[0m\u001b[0;34m(\u001b[0m\u001b[0mself\u001b[0m\u001b[0;34m.\u001b[0m\u001b[0mw\u001b[0m\u001b[0;34m)\u001b[0m\u001b[0;34m)\u001b[0m\u001b[0;34m[\u001b[0m\u001b[0;34m:\u001b[0m\u001b[0;34m-\u001b[0m\u001b[0;36m1\u001b[0m\u001b[0;34m]\u001b[0m \u001b[0;31m# remove the 1, to avoid duplications\u001b[0m\u001b[0;34m\u001b[0m\u001b[0m\n\u001b[0m\u001b[1;32m    266\u001b[0m         \u001b[0mb\u001b[0m\u001b[0;34m=\u001b[0m\u001b[0mrange\u001b[0m\u001b[0;34m(\u001b[0m\u001b[0mlen\u001b[0m\u001b[0;34m(\u001b[0m\u001b[0mself\u001b[0m\u001b[0;34m.\u001b[0m\u001b[0mw\u001b[0m\u001b[0;34m)\u001b[0m\u001b[0;34m-\u001b[0m\u001b[0;36m1\u001b[0m\u001b[0;34m)\u001b[0m\u001b[0;34m\u001b[0m\u001b[0m\n\u001b[1;32m    267\u001b[0m         \u001b[0;32mfor\u001b[0m \u001b[0mi\u001b[0m \u001b[0;32min\u001b[0m \u001b[0mb\u001b[0m\u001b[0;34m:\u001b[0m\u001b[0;34m\u001b[0m\u001b[0m\n",
        "\u001b[0;31mZeroDivisionError\u001b[0m: division by zero"
       ]
      }
     ],
     "prompt_number": 15
    },
    {
     "cell_type": "code",
     "collapsed": false,
     "input": [
      "#5) Get Maximum Sharpe ratio portfolio\n",
      "sr,w_sr=cla.getMaxSR()\n",
      "print(np.dot(np.dot(w_sr.T,cla.covar),w_sr)[0,0]**.5,sr)\n",
      "print(w_sr)"
     ],
     "language": "python",
     "metadata": {},
     "outputs": [
      {
       "ename": "ValueError",
       "evalue": "max() arg is an empty sequence",
       "output_type": "pyerr",
       "traceback": [
        "\u001b[0;31m---------------------------------------------------------------------------\u001b[0m\n\u001b[0;31mValueError\u001b[0m                                Traceback (most recent call last)",
        "\u001b[0;32m<ipython-input-16-f30279bb0718>\u001b[0m in \u001b[0;36m<module>\u001b[0;34m()\u001b[0m\n\u001b[1;32m      1\u001b[0m \u001b[0;31m#5) Get Maximum Sharpe ratio portfolio\u001b[0m\u001b[0;34m\u001b[0m\u001b[0;34m\u001b[0m\u001b[0m\n\u001b[0;32m----> 2\u001b[0;31m \u001b[0msr\u001b[0m\u001b[0;34m,\u001b[0m\u001b[0mw_sr\u001b[0m\u001b[0;34m=\u001b[0m\u001b[0mcla\u001b[0m\u001b[0;34m.\u001b[0m\u001b[0mgetMaxSR\u001b[0m\u001b[0;34m(\u001b[0m\u001b[0;34m)\u001b[0m\u001b[0;34m\u001b[0m\u001b[0m\n\u001b[0m\u001b[1;32m      3\u001b[0m \u001b[0mprint\u001b[0m\u001b[0;34m(\u001b[0m\u001b[0mnp\u001b[0m\u001b[0;34m.\u001b[0m\u001b[0mdot\u001b[0m\u001b[0;34m(\u001b[0m\u001b[0mnp\u001b[0m\u001b[0;34m.\u001b[0m\u001b[0mdot\u001b[0m\u001b[0;34m(\u001b[0m\u001b[0mw_sr\u001b[0m\u001b[0;34m.\u001b[0m\u001b[0mT\u001b[0m\u001b[0;34m,\u001b[0m\u001b[0mcla\u001b[0m\u001b[0;34m.\u001b[0m\u001b[0mcovar\u001b[0m\u001b[0;34m)\u001b[0m\u001b[0;34m,\u001b[0m\u001b[0mw_sr\u001b[0m\u001b[0;34m)\u001b[0m\u001b[0;34m[\u001b[0m\u001b[0;36m0\u001b[0m\u001b[0;34m,\u001b[0m\u001b[0;36m0\u001b[0m\u001b[0;34m]\u001b[0m\u001b[0;34m**\u001b[0m\u001b[0;36m.5\u001b[0m\u001b[0;34m,\u001b[0m\u001b[0msr\u001b[0m\u001b[0;34m)\u001b[0m\u001b[0;34m\u001b[0m\u001b[0m\n\u001b[1;32m      4\u001b[0m \u001b[0mprint\u001b[0m\u001b[0;34m(\u001b[0m\u001b[0mw_sr\u001b[0m\u001b[0;34m)\u001b[0m\u001b[0;34m\u001b[0m\u001b[0m\n",
        "\u001b[0;32m<ipython-input-3-45dac6181cbd>\u001b[0m in \u001b[0;36mgetMaxSR\u001b[0;34m(self)\u001b[0m\n\u001b[1;32m    226\u001b[0m             \u001b[0mw_sr\u001b[0m\u001b[0;34m.\u001b[0m\u001b[0mappend\u001b[0m\u001b[0;34m(\u001b[0m\u001b[0ma\u001b[0m\u001b[0;34m*\u001b[0m\u001b[0mw0\u001b[0m\u001b[0;34m+\u001b[0m\u001b[0;34m(\u001b[0m\u001b[0;36m1\u001b[0m\u001b[0;34m-\u001b[0m\u001b[0ma\u001b[0m\u001b[0;34m)\u001b[0m\u001b[0;34m*\u001b[0m\u001b[0mw1\u001b[0m\u001b[0;34m)\u001b[0m\u001b[0;34m\u001b[0m\u001b[0m\n\u001b[1;32m    227\u001b[0m             \u001b[0msr\u001b[0m\u001b[0;34m.\u001b[0m\u001b[0mappend\u001b[0m\u001b[0;34m(\u001b[0m\u001b[0mb\u001b[0m\u001b[0;34m)\u001b[0m\u001b[0;34m\u001b[0m\u001b[0m\n\u001b[0;32m--> 228\u001b[0;31m         \u001b[0;32mreturn\u001b[0m \u001b[0mmax\u001b[0m\u001b[0;34m(\u001b[0m\u001b[0msr\u001b[0m\u001b[0;34m)\u001b[0m\u001b[0;34m,\u001b[0m\u001b[0mw_sr\u001b[0m\u001b[0;34m[\u001b[0m\u001b[0msr\u001b[0m\u001b[0;34m.\u001b[0m\u001b[0mindex\u001b[0m\u001b[0;34m(\u001b[0m\u001b[0mmax\u001b[0m\u001b[0;34m(\u001b[0m\u001b[0msr\u001b[0m\u001b[0;34m)\u001b[0m\u001b[0;34m)\u001b[0m\u001b[0;34m]\u001b[0m\u001b[0;34m\u001b[0m\u001b[0m\n\u001b[0m\u001b[1;32m    229\u001b[0m \u001b[0;31m#---------------------------------------------------------------\u001b[0m\u001b[0;34m\u001b[0m\u001b[0;34m\u001b[0m\u001b[0m\n\u001b[1;32m    230\u001b[0m     \u001b[0;32mdef\u001b[0m \u001b[0mevalSR\u001b[0m\u001b[0;34m(\u001b[0m\u001b[0mself\u001b[0m\u001b[0;34m,\u001b[0m\u001b[0ma\u001b[0m\u001b[0;34m,\u001b[0m\u001b[0mw0\u001b[0m\u001b[0;34m,\u001b[0m\u001b[0mw1\u001b[0m\u001b[0;34m)\u001b[0m\u001b[0;34m:\u001b[0m\u001b[0;34m\u001b[0m\u001b[0m\n",
        "\u001b[0;31mValueError\u001b[0m: max() arg is an empty sequence"
       ]
      }
     ],
     "prompt_number": 16
    },
    {
     "cell_type": "code",
     "collapsed": false,
     "input": [
      "#6) Get Minimum Variance portfolio\n",
      "mv,w_mv=cla.getMinVar()\n",
      "print(mv)\n",
      "print(w_mv)"
     ],
     "language": "python",
     "metadata": {},
     "outputs": [
      {
       "ename": "ValueError",
       "evalue": "min() arg is an empty sequence",
       "output_type": "pyerr",
       "traceback": [
        "\u001b[0;31m---------------------------------------------------------------------------\u001b[0m\n\u001b[0;31mValueError\u001b[0m                                Traceback (most recent call last)",
        "\u001b[0;32m<ipython-input-17-e11e3fc1e732>\u001b[0m in \u001b[0;36m<module>\u001b[0;34m()\u001b[0m\n\u001b[1;32m      1\u001b[0m \u001b[0;31m#6) Get Minimum Variance portfolio\u001b[0m\u001b[0;34m\u001b[0m\u001b[0;34m\u001b[0m\u001b[0m\n\u001b[0;32m----> 2\u001b[0;31m \u001b[0mmv\u001b[0m\u001b[0;34m,\u001b[0m\u001b[0mw_mv\u001b[0m\u001b[0;34m=\u001b[0m\u001b[0mcla\u001b[0m\u001b[0;34m.\u001b[0m\u001b[0mgetMinVar\u001b[0m\u001b[0;34m(\u001b[0m\u001b[0;34m)\u001b[0m\u001b[0;34m\u001b[0m\u001b[0m\n\u001b[0m\u001b[1;32m      3\u001b[0m \u001b[0mprint\u001b[0m\u001b[0;34m(\u001b[0m\u001b[0mmv\u001b[0m\u001b[0;34m)\u001b[0m\u001b[0;34m\u001b[0m\u001b[0m\n\u001b[1;32m      4\u001b[0m \u001b[0mprint\u001b[0m\u001b[0;34m(\u001b[0m\u001b[0mw_mv\u001b[0m\u001b[0;34m)\u001b[0m\u001b[0;34m\u001b[0m\u001b[0m\n",
        "\u001b[0;32m<ipython-input-3-45dac6181cbd>\u001b[0m in \u001b[0;36mgetMinVar\u001b[0;34m(self)\u001b[0m\n\u001b[1;32m    213\u001b[0m             \u001b[0ma\u001b[0m\u001b[0;34m=\u001b[0m\u001b[0mnp\u001b[0m\u001b[0;34m.\u001b[0m\u001b[0mdot\u001b[0m\u001b[0;34m(\u001b[0m\u001b[0mnp\u001b[0m\u001b[0;34m.\u001b[0m\u001b[0mdot\u001b[0m\u001b[0;34m(\u001b[0m\u001b[0mw\u001b[0m\u001b[0;34m.\u001b[0m\u001b[0mT\u001b[0m\u001b[0;34m,\u001b[0m\u001b[0mself\u001b[0m\u001b[0;34m.\u001b[0m\u001b[0mcovar\u001b[0m\u001b[0;34m)\u001b[0m\u001b[0;34m,\u001b[0m\u001b[0mw\u001b[0m\u001b[0;34m)\u001b[0m\u001b[0;34m\u001b[0m\u001b[0m\n\u001b[1;32m    214\u001b[0m             \u001b[0mvar\u001b[0m\u001b[0;34m.\u001b[0m\u001b[0mappend\u001b[0m\u001b[0;34m(\u001b[0m\u001b[0ma\u001b[0m\u001b[0;34m)\u001b[0m\u001b[0;34m\u001b[0m\u001b[0m\n\u001b[0;32m--> 215\u001b[0;31m         \u001b[0;32mreturn\u001b[0m \u001b[0mmin\u001b[0m\u001b[0;34m(\u001b[0m\u001b[0mvar\u001b[0m\u001b[0;34m)\u001b[0m\u001b[0;34m**\u001b[0m\u001b[0;36m.5\u001b[0m\u001b[0;34m,\u001b[0m\u001b[0mself\u001b[0m\u001b[0;34m.\u001b[0m\u001b[0mw\u001b[0m\u001b[0;34m[\u001b[0m\u001b[0mvar\u001b[0m\u001b[0;34m.\u001b[0m\u001b[0mindex\u001b[0m\u001b[0;34m(\u001b[0m\u001b[0mmin\u001b[0m\u001b[0;34m(\u001b[0m\u001b[0mvar\u001b[0m\u001b[0;34m)\u001b[0m\u001b[0;34m)\u001b[0m\u001b[0;34m]\u001b[0m\u001b[0;34m\u001b[0m\u001b[0m\n\u001b[0m\u001b[1;32m    216\u001b[0m \u001b[0;31m#---------------------------------------------------------------\u001b[0m\u001b[0;34m\u001b[0m\u001b[0;34m\u001b[0m\u001b[0m\n\u001b[1;32m    217\u001b[0m     \u001b[0;32mdef\u001b[0m \u001b[0mgetMaxSR\u001b[0m\u001b[0;34m(\u001b[0m\u001b[0mself\u001b[0m\u001b[0;34m)\u001b[0m\u001b[0;34m:\u001b[0m\u001b[0;34m\u001b[0m\u001b[0m\n",
        "\u001b[0;31mValueError\u001b[0m: min() arg is an empty sequence"
       ]
      }
     ],
     "prompt_number": 17
    },
    {
     "cell_type": "code",
     "collapsed": false,
     "input": [],
     "language": "python",
     "metadata": {},
     "outputs": []
    }
   ],
   "metadata": {}
  }
 ]
}