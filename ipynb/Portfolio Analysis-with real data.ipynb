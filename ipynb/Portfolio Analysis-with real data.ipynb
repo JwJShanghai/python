{
 "metadata": {
  "name": "",
  "signature": "sha256:1572112144ef0b17004e3b492939145e7ed1c5aeb967a8fb70d6b569d1cd04b9"
 },
 "nbformat": 3,
 "nbformat_minor": 0,
 "worksheets": [
  {
   "cells": [
    {
     "cell_type": "code",
     "collapsed": false,
     "input": [
      "import numpy as np\n",
      "import matplotlib.pyplot as plt\n",
      "import pandas as pd\n",
      "from pandas.io.data import DataReader\n",
      "from datetime import datetime"
     ],
     "language": "python",
     "metadata": {},
     "outputs": [],
     "prompt_number": 1
    },
    {
     "cell_type": "code",
     "collapsed": false,
     "input": [
      "%matplotlib inline"
     ],
     "language": "python",
     "metadata": {},
     "outputs": [],
     "prompt_number": 2
    },
    {
     "cell_type": "raw",
     "metadata": {},
     "source": [
      "Run the next three cells for real data"
     ]
    },
    {
     "cell_type": "code",
     "collapsed": false,
     "input": [
      "start = datetime(2004,4,1)\n",
      "end = datetime.today()\n",
      "\n",
      "# stock list\n",
      "L = ['DDD', 'DIS', 'COST', 'SBUX']\n",
      "\n",
      "#set up DataFrames\n",
      "daily_price  = pd.DataFrame(index=pd.bdate_range(start, end)) # business days\n",
      "daily_return = pd.DataFrame(index=pd.bdate_range(start, end))"
     ],
     "language": "python",
     "metadata": {},
     "outputs": [],
     "prompt_number": 3
    },
    {
     "cell_type": "code",
     "collapsed": false,
     "input": [
      "# get daily equity \"Adj Close\" from start to end\n",
      "# would like to build a database of SP500 stocks instead\n",
      "\n",
      "daily_price = DataReader(L, 'yahoo', start, end)['Adj Close']\n",
      "\n",
      "daily_return = np.log(1+daily_price.pct_change())  # for a continuous return number\n",
      "# cumulative_return = daily_return.cumsum()        useful for a normalized return chart"
     ],
     "language": "python",
     "metadata": {},
     "outputs": [],
     "prompt_number": 4
    },
    {
     "cell_type": "code",
     "collapsed": false,
     "input": [
      "# create expected return vector, stdev vector and covariance, correlation matrices\n",
      "\n",
      "R = daily_return.mean() # expected return vector\n",
      "AAR = (1+R)**252-1      # average annual return vector\n",
      "SD = daily_return.std()  # expected standard deviation vector\n",
      "C = np.matrix(daily_return.cov())  # covariance matrix\n",
      "Corr =  daily_return.corr() # and a correlation matrix for info"
     ],
     "language": "python",
     "metadata": {},
     "outputs": [],
     "prompt_number": 5
    },
    {
     "cell_type": "raw",
     "metadata": {},
     "source": [
      "Comment out R, SD and C in the cell below to run with real data from above"
     ]
    },
    {
     "cell_type": "code",
     "collapsed": false,
     "input": [
      "W = [1/3, 1/3, 1/3, 0]\n",
      "R = [.06, .02, .04]\n",
      "C = np.matrix([[8, -2, 4], [-2, 2, -2], [4, -2, 8]])/1000\n",
      "SD = [np.sqrt(C[i,j]) for i in range(len(R)) for j in range(len(R)) if i == j]\n",
      "r = .05    # an initial target return\n",
      "rf = 0.01  # risk free rate"
     ],
     "language": "python",
     "metadata": {},
     "outputs": [],
     "prompt_number": 24
    },
    {
     "cell_type": "code",
     "collapsed": false,
     "input": [
      "def make_Muvec(R):        # R is a list [] of returns as real numbers\n",
      "    Muvec = np.array(R)\n",
      "    return Muvec\n",
      "    \n",
      "def make_Onevec(R):\n",
      "    Onevec = np.ones(len(R))\n",
      "    return Onevec\n",
      "\n",
      "def make_Xvec(R):         # W is a list [] of weights as real numbers \n",
      "    Xvec = np.ones(len(R))/len(R)\n",
      "    return Xvec"
     ],
     "language": "python",
     "metadata": {},
     "outputs": [],
     "prompt_number": 25
    },
    {
     "cell_type": "code",
     "collapsed": false,
     "input": [
      "def make_LMtarget(r, R):      # r is a target return as a real number\n",
      "    LMtarget = np.append(np.zeros(len(R)), [r,1])\n",
      "    return np.matrix(LMtarget)"
     ],
     "language": "python",
     "metadata": {},
     "outputs": [],
     "prompt_number": 26
    },
    {
     "cell_type": "code",
     "collapsed": false,
     "input": [
      "def Initialize(R, r):\n",
      "    M = make_Muvec(R)\n",
      "    O = make_Onevec(R)\n",
      "    X = make_Xvec(R)\n",
      "    LMt = make_LMtarget(r,R)\n",
      "    return M, O, X, LMt"
     ],
     "language": "python",
     "metadata": {},
     "outputs": [],
     "prompt_number": 27
    },
    {
     "cell_type": "code",
     "collapsed": false,
     "input": [
      "Muvec, Onevec, Xvec, LMtarget = Initialize(R,r)"
     ],
     "language": "python",
     "metadata": {},
     "outputs": [],
     "prompt_number": 28
    },
    {
     "cell_type": "code",
     "collapsed": false,
     "input": [
      "Equal_return = np.sum(Muvec * Xvec)\n",
      "Equal_var = np.matrix(Xvec) * C * np.matrix(Xvec).T\n",
      "Equal_vol = np.sqrt(Equal_var)\n",
      "Equal_return, Equal_vol.item()"
     ],
     "language": "python",
     "metadata": {},
     "outputs": [
      {
       "metadata": {},
       "output_type": "pyout",
       "prompt_number": 11,
       "text": [
        "(0.00063396063948884006, 0.01841642417853499)"
       ]
      }
     ],
     "prompt_number": 11
    },
    {
     "cell_type": "code",
     "collapsed": false,
     "input": [
      "def make_LMmat(C, R, Muvec, Onevec):    # C is the covariance matrix as an NxN matrix of real numbers\n",
      "    D = np.append(2*C, [Muvec], axis=0)\n",
      "    E = np.append(D, [Onevec], axis=0)\n",
      "    F = np.insert(E, len(R), np.append(Muvec, [0,0])*-1, axis=1)\n",
      "    G = np.insert(F, len(R)+1, np.append(Onevec, [0,0])*-1, axis=1)               \n",
      "    return G"
     ],
     "language": "python",
     "metadata": {},
     "outputs": [],
     "prompt_number": 12
    },
    {
     "cell_type": "code",
     "collapsed": false,
     "input": [
      "LMmat = make_LMmat(C, R, Muvec, Onevec)"
     ],
     "language": "python",
     "metadata": {},
     "outputs": [],
     "prompt_number": 13
    },
    {
     "cell_type": "code",
     "collapsed": false,
     "input": [
      "def MinVar_target_return(C, LMmat, LMtarget):\n",
      "    Xvec_target = LMmat.I * LMtarget.T\n",
      "    Xvec_target = Xvec_target[:-2]\n",
      "    target_var = Xvec_target.T * C * Xvec_target\n",
      "    target_SD = np.sqrt(target_var)         \n",
      "    return Xvec_target, target_SD"
     ],
     "language": "python",
     "metadata": {},
     "outputs": [],
     "prompt_number": 14
    },
    {
     "cell_type": "code",
     "collapsed": false,
     "input": [
      "Target_weights, target_SD = MinVar_target_return(C, LMmat, LMtarget)\n",
      "Target_weights, target_SD"
     ],
     "language": "python",
     "metadata": {},
     "outputs": [
      {
       "metadata": {},
       "output_type": "pyout",
       "prompt_number": 15,
       "text": [
        "(matrix([[ -35.69726194],\n",
        "         [ 109.81744403],\n",
        "         [ -69.35448831],\n",
        "         [  -3.76569379]]), matrix([[ 4.21644187]]))"
       ]
      }
     ],
     "prompt_number": 15
    },
    {
     "cell_type": "code",
     "collapsed": false,
     "input": [
      "def MinVar_port(C, Muvec, Onevec):\n",
      "    Muvec = np.matrix(Muvec).T\n",
      "    Onevec = np.matrix(Onevec).T\n",
      "    Xminvec = 1/np.sum(C.I * Onevec) * C.I * Onevec\n",
      "    Xmin_return = 1/np.sum(C.I * Onevec) * Muvec.T * C.I * Onevec\n",
      "    Xmin_SD = np.sqrt(Xminvec.T * C * Xminvec)\n",
      "    return Xminvec, Xmin_return, Xmin_SD"
     ],
     "language": "python",
     "metadata": {},
     "outputs": [],
     "prompt_number": 16
    },
    {
     "cell_type": "code",
     "collapsed": false,
     "input": [
      "Xminvec, Xmin_return, Xmin_SD = MinVar_port(C, Muvec, Onevec)\n",
      "Xminvec, Xmin_return, Xmin_SD"
     ],
     "language": "python",
     "metadata": {},
     "outputs": [
      {
       "metadata": {},
       "output_type": "pyout",
       "prompt_number": 17,
       "text": [
        "(matrix([[ 0.63277676],\n",
        "         [-0.04233505],\n",
        "         [ 0.32724675],\n",
        "         [ 0.08231154]]), matrix([[ 0.00049657]]), matrix([[ 0.01352312]]))"
       ]
      }
     ],
     "prompt_number": 17
    },
    {
     "cell_type": "code",
     "collapsed": false,
     "input": [
      "def Sharpe_port(C, Muvec, rf):\n",
      "    Muvec = np.matrix(Muvec).T\n",
      "    Muhat = Muvec - rf\n",
      "    XShvec = 1/np.sum(C.I * Muhat) * C.I * Muhat\n",
      "    XSh_return = 1/np.sum(C.I * Muhat) * Muvec.T * C.I * Muhat\n",
      "    XSh_SD = np.sqrt(1/np.sum(C.I * Muhat)**2 * Muhat.T * C.I * C * C.I * Muhat)\n",
      "    Sharpe_ratio = (XSh_return - rf)/XSh_SD\n",
      "    return XShvec, XSh_return, XSh_SD, Sharpe_ratio"
     ],
     "language": "python",
     "metadata": {},
     "outputs": [],
     "prompt_number": 18
    },
    {
     "cell_type": "code",
     "collapsed": false,
     "input": [
      "XShvec, XSh_return, XSh_SD, Sharpe_ratio = Sharpe_port(C, Muvec, rf)\n",
      "XShvec, XSh_return, XSh_SD, Sharpe_ratio"
     ],
     "language": "python",
     "metadata": {},
     "outputs": [
      {
       "metadata": {},
       "output_type": "pyout",
       "prompt_number": 19,
       "text": [
        "(matrix([[ 0.63472341],\n",
        "         [-0.04822159],\n",
        "         [ 0.33098046],\n",
        "         [ 0.08251772]]),\n",
        " matrix([[ 0.00049392]]),\n",
        " matrix([[ 0.01352501]]),\n",
        " matrix([[-0.70285202]]))"
       ]
      }
     ],
     "prompt_number": 19
    },
    {
     "cell_type": "code",
     "collapsed": false,
     "input": [
      "def Find_Frontier(C, Muvec, rf):\n",
      "    frontier = []\n",
      "    frontier_weights = []\n",
      "    r_points = np.arange(min(Muvec)/1.2, max(Muvec)*1.2, (max(Muvec)-min(Muvec))/100)\n",
      "    for r in r_points:\n",
      "        LMtarget = make_LMtarget(r,R)\n",
      "        Target_weights, target_SD = MinVar_target_return(C, LMmat, LMtarget)\n",
      "        frontier.append([target_SD.item(), r])\n",
      "        frontier_weights.append((r, Target_weights))\n",
      "    return frontier, frontier_weights"
     ],
     "language": "python",
     "metadata": {},
     "outputs": [],
     "prompt_number": 20
    },
    {
     "cell_type": "code",
     "collapsed": false,
     "input": [
      "frontier, frontier_weights = Find_Frontier(C,Muvec,rf)"
     ],
     "language": "python",
     "metadata": {},
     "outputs": [],
     "prompt_number": 21
    },
    {
     "cell_type": "code",
     "collapsed": false,
     "input": [
      "fig = plt.figure()\n",
      "ax = fig.add_subplot(111)\n",
      "ax.set_title('Portfolio Analysis')\n",
      "ax.set_ylabel('Return')\n",
      "ax.set_xlabel('Volatility')\n",
      "\n",
      "x,y = zip(*frontier)\n",
      "line, = ax.plot(x, y, color='b', lw=1)\n",
      "\n",
      "ax.scatter(SD, Muvec, color='c')\n",
      "ax.scatter(Equal_vol.item(), Equal_return, color='k')\n",
      "\n",
      "ax.scatter(0, rf, color='orange')\n",
      "ax.scatter((max(Muvec)-rf)/Sharpe_ratio.item(), max(Muvec), color='orange')\n",
      "ax.scatter(max(SD), rf+max(SD)*Sharpe_ratio.item(), color='orange')\n",
      "\n",
      "ax.plot([0,max(SD)], [rf, rf+max(SD)*Sharpe_ratio.item()], color='y', lw=1)\n",
      "\n",
      "ax.scatter(XSh_SD.item(), XSh_return.item(), color='g')\n",
      "ax.scatter(Xmin_SD.item(), Xmin_return.item(), color='r')\n",
      "\n",
      "plt.grid(True)\n",
      "plt.show()"
     ],
     "language": "python",
     "metadata": {},
     "outputs": [
      {
       "metadata": {},
       "output_type": "display_data",
       "png": "[encoded data removed]",
       "text": [
        "<matplotlib.figure.Figure at 0x1083bffd0>"
       ]
      }
     ],
     "prompt_number": 22
    },
    {
     "cell_type": "code",
     "collapsed": false,
     "input": [
      "fig = plt.figure()\n",
      "ax = fig.add_subplot(111)\n",
      "ax.set_title('Portfolio Analysis')\n",
      "ax.set_ylabel('weight')\n",
      "ax.set_xlabel('Return')\n",
      "\n",
      "r, W = zip(*frontier_weights)\n",
      "y1=[]\n",
      "y2=[]\n",
      "y3=[]\n",
      "y4=[]\n",
      "for point in W:\n",
      "    y1.append(point[0].item())\n",
      "    y2.append(point[1].item())\n",
      "    y3.append(point[2].item())\n",
      "#    y4.append(point[3].item())\n",
      "\n",
      "plt.plot(r,y1, color='b')\n",
      "plt.plot(r,y2, color='c')\n",
      "plt.plot(r,y3, color='r')\n",
      "#plt.plot(r,y4, color='m')\n",
      "\n",
      "plt.plot([Xmin_return.item(), Xmin_return.item()], [0, 1], color='orange', lw=1)\n",
      "plt.plot([XSh_return.item(), XSh_return.item()], [0, 1], color='g', lw=1)\n",
      "\n",
      "# plt.grid(True)"
     ],
     "language": "python",
     "metadata": {},
     "outputs": [
      {
       "metadata": {},
       "output_type": "pyout",
       "prompt_number": 23,
       "text": [
        "[<matplotlib.lines.Line2D at 0x1085d4810>]"
       ]
      },
      {
       "metadata": {},
       "output_type": "display_data",
       "png": "[encoded data removed]",
       "text": [
        "<matplotlib.figure.Figure at 0x1083ee2d0>"
       ]
      }
     ],
     "prompt_number": 23
    },
    {
     "cell_type": "code",
     "collapsed": false,
     "input": [],
     "language": "python",
     "metadata": {},
     "outputs": []
    }
   ],
   "metadata": {}
  }
 ]
}