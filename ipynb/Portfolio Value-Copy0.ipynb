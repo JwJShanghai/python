{
 "metadata": {
  "name": ""
 },
 "nbformat": 3,
 "nbformat_minor": 0,
 "worksheets": [
  {
   "cells": [
    {
     "cell_type": "code",
     "collapsed": false,
     "input": [
      "import pandas as pd\n",
      "import numpy as np\n",
      "from scipy.optimize import minimize\n",
      "from matplotlib.pyplot import plot, scatter, show\n",
      "from pandas.io.data import DataReader\n",
      "from datetime import datetime"
     ],
     "language": "python",
     "metadata": {},
     "outputs": [],
     "prompt_number": 1
    },
    {
     "cell_type": "code",
     "collapsed": false,
     "input": [
      "%matplotlib inline"
     ],
     "language": "python",
     "metadata": {},
     "outputs": [],
     "prompt_number": 2
    },
    {
     "cell_type": "code",
     "collapsed": false,
     "input": [
      "start = datetime(2013,1,2)\n",
      "end = datetime.today()\n",
      "\n",
      "# stock list\n",
      "ticker = ['AAPL', 'AMZN', 'ATVI', 'BBBY', 'BRK.B', 'COST', 'DDD', 'DIS', 'DISCK', 'F', 'GLD', 'SBUX', 'SPY']\n",
      "share = [635, 850, 12313, 1104, 840, 2115, 922, 2007, 1840, 5000, 1124, 2542, 165]\n",
      "\n",
      "#set up DataFrames\n",
      "daily_stock_price  = pd.DataFrame(index=pd.bdate_range(start, end)) # business days\n",
      "daily_stock_share = pd.DataFrame(index=pd.bdate_range(start, end), columns=ticker)\n",
      "daily_stock_value = pd.DataFrame(index=pd.bdate_range(start, end), columns=ticker)\n",
      "daily_portfolio_value = pd.DataFrame(index=pd.bdate_range(start, end))"
     ],
     "language": "python",
     "metadata": {},
     "outputs": [],
     "prompt_number": 3
    },
    {
     "cell_type": "code",
     "collapsed": false,
     "input": [
      "daily_stock_price = DataReader(ticker, 'yahoo', start, end)['Adj Close']"
     ],
     "language": "python",
     "metadata": {},
     "outputs": [],
     "prompt_number": 35
    },
    {
     "cell_type": "code",
     "collapsed": false,
     "input": [
      "for i, s in enumerate(ticker):\n",
      "    daily_stock_share[s] = share[i]\n",
      "daily_stock_value = daily_stock_price * daily_stock_share\n",
      "daily_portfolio_value = daily_stock_value.sum(axis=1)"
     ],
     "language": "python",
     "metadata": {},
     "outputs": [],
     "prompt_number": 36
    },
    {
     "cell_type": "code",
     "collapsed": false,
     "input": [
      "daily_stock_price.values"
     ],
     "language": "python",
     "metadata": {},
     "outputs": [
      {
       "metadata": {},
       "output_type": "pyout",
       "prompt_number": 37,
       "text": [
        "array([[ 535.58,  257.31,   10.81, ...,  163.17,   54.28,  143.17],\n",
        "       [ 528.82,  258.48,   10.87, ...,  161.2 ,   54.65,  142.85],\n",
        "       [ 514.09,  259.15,   11.03, ...,  160.44,   54.96,  143.47],\n",
        "       ..., \n",
        "       [ 567.67,  399.2 ,   18.17, ...,  116.1 ,   78.57,  182.93],\n",
        "       [ 563.9 ,  404.39,   18.08, ...,  116.74,   78.88,  183.86],\n",
        "       [ 560.09,  398.08,   17.82, ...,  117.12,   78.57,  183.85]])"
       ]
      }
     ],
     "prompt_number": 37
    },
    {
     "cell_type": "code",
     "collapsed": false,
     "input": [
      "daily_stock_share.values"
     ],
     "language": "python",
     "metadata": {},
     "outputs": [
      {
       "metadata": {},
       "output_type": "pyout",
       "prompt_number": 38,
       "text": [
        "array([[  635,   850, 12313, ...,  1124,  2542,   165],\n",
        "       [  635,   850, 12313, ...,  1124,  2542,   165],\n",
        "       [  635,   850, 12313, ...,  1124,  2542,   165],\n",
        "       ..., \n",
        "       [  635,   850, 12313, ...,  1124,  2542,   165],\n",
        "       [  635,   850, 12313, ...,  1124,  2542,   165],\n",
        "       [  635,   850, 12313, ...,  1124,  2542,   165]])"
       ]
      }
     ],
     "prompt_number": 38
    },
    {
     "cell_type": "code",
     "collapsed": false,
     "input": [
      "daily_stock_value.values"
     ],
     "language": "python",
     "metadata": {},
     "outputs": [
      {
       "metadata": {},
       "output_type": "pyout",
       "prompt_number": 39,
       "text": [
        "array([[ 340093.3 ,  218713.5 ,  133103.53, ...,  183403.08,  137979.76,\n",
        "          23623.05],\n",
        "       [ 335800.7 ,  219708.  ,  133842.31, ...,  181188.8 ,  138920.3 ,\n",
        "          23570.25],\n",
        "       [ 326447.15,  220277.5 ,  135812.39, ...,  180334.56,  139708.32,\n",
        "          23672.55],\n",
        "       ..., \n",
        "       [ 358076.5 ,  343731.5 ,  222619.04, ...,  131215.76,  200512.96,\n",
        "          30336.9 ],\n",
        "       [ 355657.15,  338368.  ,  219417.66, ...,  131642.88,  199724.94,\n",
        "          30335.25],\n",
        "       [       nan,        nan,        nan, ...,        nan,        nan,\n",
        "               nan]])"
       ]
      }
     ],
     "prompt_number": 39
    },
    {
     "cell_type": "code",
     "collapsed": false,
     "input": [
      "daily_portfolio_value = daily_portfolio_value.dropna()"
     ],
     "language": "python",
     "metadata": {},
     "outputs": [],
     "prompt_number": 40
    },
    {
     "cell_type": "code",
     "collapsed": false,
     "input": [
      "daily_portfolio_value.plot()"
     ],
     "language": "python",
     "metadata": {},
     "outputs": [
      {
       "metadata": {},
       "output_type": "pyout",
       "prompt_number": 41,
       "text": [
        "<matplotlib.axes.AxesSubplot at 0x10b16b250>"
       ]
      },
      {
       "metadata": {},
       "output_type": "display_data",
       "png": "[encoded data removed]",
       "text": [
        "<matplotlib.figure.Figure at 0x10af1fe90>"
       ]
      }
     ],
     "prompt_number": 41
    },
    {
     "cell_type": "code",
     "collapsed": false,
     "input": [
      "year_return = daily_portfolio_value[-1:] - daily_portfolio_value[0]"
     ],
     "language": "python",
     "metadata": {},
     "outputs": [],
     "prompt_number": 42
    },
    {
     "cell_type": "code",
     "collapsed": false,
     "input": [
      "year_return"
     ],
     "language": "python",
     "metadata": {},
     "outputs": [
      {
       "metadata": {},
       "output_type": "pyout",
       "prompt_number": 43,
       "text": [
        "2013-12-27    473347.68\n",
        "dtype: float64"
       ]
      }
     ],
     "prompt_number": 43
    },
    {
     "cell_type": "code",
     "collapsed": false,
     "input": [
      "daily_portfolio_value.idxmin(), daily_portfolio_value.min()"
     ],
     "language": "python",
     "metadata": {},
     "outputs": [
      {
       "metadata": {},
       "output_type": "pyout",
       "prompt_number": 44,
       "text": [
        "(Timestamp('2013-02-04 00:00:00', tz=None), 1666887.1699999997)"
       ]
      }
     ],
     "prompt_number": 44
    },
    {
     "cell_type": "code",
     "collapsed": false,
     "input": [
      "daily_portfolio_value.idxmax(), daily_portfolio_value.max()"
     ],
     "language": "python",
     "metadata": {},
     "outputs": [
      {
       "metadata": {},
       "output_type": "pyout",
       "prompt_number": 45,
       "text": [
        "(Timestamp('2013-12-26 00:00:00', tz=None), 2187013.0900000003)"
       ]
      }
     ],
     "prompt_number": 45
    },
    {
     "cell_type": "code",
     "collapsed": false,
     "input": [
      "percent_return = year_return / daily_portfolio_value[0]"
     ],
     "language": "python",
     "metadata": {},
     "outputs": [],
     "prompt_number": 46
    },
    {
     "cell_type": "code",
     "collapsed": false,
     "input": [
      "percent_return"
     ],
     "language": "python",
     "metadata": {},
     "outputs": [
      {
       "metadata": {},
       "output_type": "pyout",
       "prompt_number": 47,
       "text": [
        "2013-12-27    0.278424\n",
        "dtype: float64"
       ]
      }
     ],
     "prompt_number": 47
    },
    {
     "cell_type": "code",
     "collapsed": false,
     "input": [],
     "language": "python",
     "metadata": {},
     "outputs": []
    }
   ],
   "metadata": {}
  }
 ]
}