{
 "metadata": {
  "name": ""
 },
 "nbformat": 3,
 "nbformat_minor": 0,
 "worksheets": [
  {
   "cells": [
    {
     "cell_type": "code",
     "collapsed": false,
     "input": [
      "import numpy as np"
     ],
     "language": "python",
     "metadata": {},
     "outputs": [],
     "prompt_number": 2
    },
    {
     "cell_type": "code",
     "collapsed": false,
     "input": [
      "muvec = np.matrix([[3.15], [1.75], [-6.39], [-2.86], [-6.75], [-.54], [-6.75], [-5.26]])/100\n",
      "Onevec = np.ones([len(muvec)])\n",
      "V = np.matrix([[0.001005,\t0.001328,\t-0.000579,\t-0.000675,\t0.000121,\t0.000128,\t-0.000445,\t-0.000437],\n",
      "               [0.001328,\t0.007277,\t-0.001307,\t-0.000610,\t-0.002237,\t-0.000989,\t0.001442,\t-0.001535],\n",
      "               [-0.000579,\t-0.001307,\t0.059852,\t0.027588,\t0.063497,\t0.023036,\t0.032967,\t0.048039],\n",
      "               [-0.000675,\t-0.000610,\t0.027588,\t0.029609,\t0.026572,\t0.021465,\t0.020697,\t0.029854],\n",
      "               [0.000121,\t-0.002237,\t0.063497,\t0.026572,\t0.102488,\t0.042744,\t0.039943,\t0.065994],\n",
      "               [0.000128,\t-0.000989,\t0.023036,\t0.021465,\t0.042744,\t0.032056,\t0.019881,\t0.032235],\n",
      "               [-0.000445,\t0.001442,\t0.032967,\t0.020697,\t0.039943,\t0.019881,\t0.028355,\t0.035064],\n",
      "               [-0.000437,\t-0.001535,\t0.048039,\t0.029854,\t0.065994,\t0.032235,\t0.035064,\t0.079958]])\n",
      "\n",
      "rf = .015"
     ],
     "language": "python",
     "metadata": {},
     "outputs": [],
     "prompt_number": 13
    },
    {
     "cell_type": "code",
     "collapsed": false,
     "input": [
      "Onevec = np.asmatrix(Onevec)\n",
      "Onevec = Onevec.T"
     ],
     "language": "python",
     "metadata": {},
     "outputs": [],
     "prompt_number": 14
    },
    {
     "cell_type": "code",
     "collapsed": false,
     "input": [
      "Xeq = np.ones([len(muvec)])/len(muvec)\n",
      "Xeq = np.asmatrix(Xeq)\n",
      "Xeq = Xeq.T"
     ],
     "language": "python",
     "metadata": {},
     "outputs": [],
     "prompt_number": 16
    },
    {
     "cell_type": "code",
     "collapsed": false,
     "input": [
      "Xeq_return = muvec.T * Xeq\n",
      "Xeq_return * 100"
     ],
     "language": "python",
     "metadata": {},
     "outputs": [
      {
       "metadata": {},
       "output_type": "pyout",
       "prompt_number": 17,
       "text": [
        "matrix([[-2.95625]])"
       ]
      }
     ],
     "prompt_number": 17
    },
    {
     "cell_type": "code",
     "collapsed": false,
     "input": [
      "Xeq_vol = np.sqrt(Xeq.T * V * Xeq)\n",
      "Xeq_vol * 100"
     ],
     "language": "python",
     "metadata": {},
     "outputs": [
      {
       "metadata": {},
       "output_type": "pyout",
       "prompt_number": 18,
       "text": [
        "matrix([[ 14.72753586]])"
       ]
      }
     ],
     "prompt_number": 18
    },
    {
     "cell_type": "code",
     "collapsed": false,
     "input": [
      "Xmin = 1/np.sum(V.I * Onevec) * V.I * Onevec\n",
      "Xmin"
     ],
     "language": "python",
     "metadata": {},
     "outputs": [
      {
       "metadata": {},
       "output_type": "pyout",
       "prompt_number": 19,
       "text": [
        "matrix([[ 1.02538216],\n",
        "        [-0.09407929],\n",
        "        [ 0.00151421],\n",
        "        [ 0.03121546],\n",
        "        [-0.02607141],\n",
        "        [-0.00893645],\n",
        "        [ 0.07840037],\n",
        "        [-0.00742505]])"
       ]
      }
     ],
     "prompt_number": 19
    },
    {
     "cell_type": "code",
     "collapsed": false,
     "input": [
      "Xmin_return = 1/np.sum(V.I * Onevec) * muvec.T * V.I * Onevec\n",
      "Xmin_return * 100"
     ],
     "language": "python",
     "metadata": {},
     "outputs": [
      {
       "metadata": {},
       "output_type": "pyout",
       "prompt_number": 20,
       "text": [
        "matrix([[ 2.65702396]])"
       ]
      }
     ],
     "prompt_number": 20
    },
    {
     "cell_type": "code",
     "collapsed": false,
     "input": [
      "muhat = muvec - rf\n",
      "Xsh = 1/np.sum(V.I * muhat) * V.I * muhat\n",
      "Xsh"
     ],
     "language": "python",
     "metadata": {},
     "outputs": [
      {
       "metadata": {},
       "output_type": "pyout",
       "prompt_number": 21,
       "text": [
        "matrix([[ 1.24605858],\n",
        "        [-0.1143667 ],\n",
        "        [ 0.12225143],\n",
        "        [-0.05317533],\n",
        "        [-0.10285739],\n",
        "        [ 0.19524158],\n",
        "        [-0.33557277],\n",
        "        [ 0.0424206 ]])"
       ]
      }
     ],
     "prompt_number": 21
    },
    {
     "cell_type": "code",
     "collapsed": false,
     "input": [
      "Xsh_return = 1/np.sum(V.I * muhat) * muvec.T * V.I * muhat\n",
      "Xsh_return * 100"
     ],
     "language": "python",
     "metadata": {},
     "outputs": [
      {
       "metadata": {},
       "output_type": "pyout",
       "prompt_number": 22,
       "text": [
        "matrix([[ 5.72667837]])"
       ]
      }
     ],
     "prompt_number": 22
    },
    {
     "cell_type": "code",
     "collapsed": false,
     "input": [
      "Xsh_var = 1/np.sum(V.I * muhat)**2 * muhat.T * V.I * V * V.I * muhat\n",
      "Xsh_vol = np.sqrt(Xsh_var)\n",
      "Xsh_vol *100"
     ],
     "language": "python",
     "metadata": {},
     "outputs": [
      {
       "metadata": {},
       "output_type": "pyout",
       "prompt_number": 23,
       "text": [
        "matrix([[ 5.56474258]])"
       ]
      }
     ],
     "prompt_number": 23
    },
    {
     "cell_type": "code",
     "collapsed": false,
     "input": [
      "Sharpe_ratio = (Xsh_return - rf)/Xsh_vol\n",
      "Sharpe_ratio"
     ],
     "language": "python",
     "metadata": {},
     "outputs": [
      {
       "metadata": {},
       "output_type": "pyout",
       "prompt_number": 24,
       "text": [
        "matrix([[ 0.75954607]])"
       ]
      }
     ],
     "prompt_number": 24
    },
    {
     "cell_type": "code",
     "collapsed": false,
     "input": [
      "opportunity_vol = .05\n",
      "opportunity_return = rf + Sharpe_ratio * opportunity_vol\n",
      "opportunity_return * 100"
     ],
     "language": "python",
     "metadata": {},
     "outputs": [
      {
       "metadata": {},
       "output_type": "pyout",
       "prompt_number": 25,
       "text": [
        "matrix([[ 5.29773036]])"
       ]
      }
     ],
     "prompt_number": 25
    },
    {
     "cell_type": "code",
     "collapsed": false,
     "input": [],
     "language": "python",
     "metadata": {},
     "outputs": []
    }
   ],
   "metadata": {}
  }
 ]
}