{
 "cells": [
  {
   "cell_type": "code",
   "execution_count": 2,
   "metadata": {
    "collapsed": false
   },
   "outputs": [],
   "source": [
    "import numpy as np\n",
    "from scipy.optimize import minimize"
   ]
  },
  {
   "cell_type": "code",
   "execution_count": 3,
   "metadata": {
    "collapsed": false
   },
   "outputs": [],
   "source": [
    "C = np.array([[8, -2, 4], [-2, 2, -2],[4,-2,8]])/1000    # C is the covariance array (analogous to V)\n",
    "R = np.array([.06, .02, .04])                            # R is a return array (analogous to muvec)\n",
    "W = np.ones([len(R)])/len(R)                             # W is the weight array (analogous to X): starts with equal weighting\n",
    "rf = .01"
   ]
  },
  {
   "cell_type": "code",
   "execution_count": 4,
   "metadata": {
    "collapsed": false
   },
   "outputs": [],
   "source": [
    "def mu_port(W, R):                      # Calculates the portfolio return\n",
    "    return np.dot(R, W)\n",
    "\n",
    "def var_port(W, C):                     # Calculates the portfolio variance (not the SD)\n",
    "    return np.dot(W, np.dot(C, W))"
   ]
  },
  {
   "cell_type": "code",
   "execution_count": 5,
   "metadata": {
    "collapsed": false
   },
   "outputs": [
    {
     "name": "stdout",
     "output_type": "stream",
     "text": [
      "Equal weights are: [ 0.33333333  0.33333333  0.33333333]\n",
      "Return with Equal weights is: 4.00% with volatility of: 4.47%\n"
     ]
    }
   ],
   "source": [
    "Mu = mu_port(W, R)\n",
    "Var = var_port(W, C)\n",
    "print(\"Equal weights are: {}\".format(W))\n",
    "print(\"Return with Equal weights is: {:.2%} with volatility of: {:.2%}\".format(Mu, np.sqrt(Var)))"
   ]
  },
  {
   "cell_type": "code",
   "execution_count": 6,
   "metadata": {
    "collapsed": false
   },
   "outputs": [],
   "source": [
    "def min_var_optimize(W, C, rf):                                                # takes W and C (doesn't use rf) and returns a new\n",
    "    def mvp(W, C, rf):                                                         # vector of optimum weights\n",
    "        return var_port(W, C)\n",
    "    W = np.ones([len(R)])/len(R)\n",
    "    b_ = [(0., 1.) for i in range(len(R))]                                     # weights between 0 and 100%, no shorts\n",
    "    c_ = ({'type':'eq', 'fun': lambda W: sum(W)-1. })                          # weights must add to 100%\n",
    "    res = minimize(mvp, W, (C, rf), method='SLSQP', constraints=c_, bounds=b_) # the magic scipy function! (look it up for more info)\n",
    "    if not res.success:\n",
    "        raise BaseException(res.message)\n",
    "    return res.x"
   ]
  },
  {
   "cell_type": "code",
   "execution_count": 7,
   "metadata": {
    "collapsed": false
   },
   "outputs": [
    {
     "name": "stdout",
     "output_type": "stream",
     "text": [
      "Min Var weights are: [ 0.16666666  0.66666667  0.16666666] (sum: 1.00)\n",
      "Min Var Portfolio return is: 3.00% with a volatility of: 2.58%\n"
     ]
    }
   ],
   "source": [
    "minvar_W = min_var_optimize(W, C, rf)\n",
    "print(\"Min Var weights are: {} (sum: {:.2f})\".format(minvar_W, minvar_W.sum()))\n",
    "print(\"Min Var Portfolio return is: {:.2%} with a volatility of: {:.2%}\".format(mu_port(minvar_W, R), np.sqrt(var_port(minvar_W, C))))"
   ]
  },
  {
   "cell_type": "code",
   "execution_count": 8,
   "metadata": {
    "collapsed": false
   },
   "outputs": [],
   "source": [
    "def tangent_optimize(W, C, rf):\n",
    "    def Sharpe(W, C, rf):\n",
    "        mean, var = mu_port(W, R), var_port(W, C) \n",
    "        util = (mean - rf) / np.sqrt(var)               # calculates the Sharpe Ratio\n",
    "        return 1/util                                   # maximize utility, minimize the function so we can use the minimize function\n",
    "    W = np.ones([len(R)])/len(R)                        # start with equal weights if not already set (not necessary)\n",
    "    b_ = [(0., 1.) for i in range(len(R))]              # weights between 0 and 100%, no shorts\n",
    "    c_ = ({'type':'eq', 'fun': lambda W: sum(W)-1. })   # weights must add to 100%\n",
    "    res = minimize(Sharpe, W, (C, rf), method='SLSQP', constraints=c_, bounds=b_) # the magic scipy function! (look it up for more info)\n",
    "    if not res.success:\n",
    "        raise BaseException(res.message)\n",
    "    return res.x"
   ]
  },
  {
   "cell_type": "code",
   "execution_count": 9,
   "metadata": {
    "collapsed": false
   },
   "outputs": [
    {
     "name": "stdout",
     "output_type": "stream",
     "text": [
      "Sharpe Optimal weights are: [ 0.29167043  0.58333032  0.12499925] (sum: 1.00)\n",
      "Sharpe Optimal Portfolio return is: 3.42% with a volatility of: 2.84%\n"
     ]
    }
   ],
   "source": [
    "Sharpe_W = tangent_optimize(W, C, rf)\n",
    "print(\"Sharpe Optimal weights are: {} (sum: {:.2f})\".format(Sharpe_W, Sharpe_W.sum())) # close to empirical solution but not exact\n",
    "print(\"Sharpe Optimal Portfolio return is: {:.2%} with a volatility of: {:.2%}\".format(mu_port(Sharpe_W, R), np.sqrt(var_port(Sharpe_W, C))))"
   ]
  },
  {
   "cell_type": "code",
   "execution_count": 10,
   "metadata": {
    "collapsed": false
   },
   "outputs": [
    {
     "name": "stdout",
     "output_type": "stream",
     "text": [
      "Sharpe ratio is: 0.85\n"
     ]
    }
   ],
   "source": [
    "Sharpe_ratio = (mu_port(Sharpe_W, R) - rf) / np.sqrt(var_port(Sharpe_W, C))\n",
    "print(\"Sharpe ratio is: {:.2}\".format(Sharpe_ratio))"
   ]
  },
  {
   "cell_type": "code",
   "execution_count": 11,
   "metadata": {
    "collapsed": false
   },
   "outputs": [
    {
     "name": "stdout",
     "output_type": "stream",
     "text": [
      "Expected return for a volatility of 5% is: 5.26%\n"
     ]
    }
   ],
   "source": [
    "Q7_return = rf + Sharpe_ratio*.05\n",
    "print(\"Expected return for a volatility of 5% is: {:.2%}\".format(Q7_return))"
   ]
  },
  {
   "cell_type": "code",
   "execution_count": null,
   "metadata": {
    "collapsed": false
   },
   "outputs": [],
   "source": []
  }
 ],
 "metadata": {
  "kernelspec": {
   "display_name": "Python 3",
   "language": "python",
   "name": "python3"
  },
  "language_info": {
   "codemirror_mode": {
    "name": "ipython",
    "version": 3
   },
   "file_extension": ".py",
   "mimetype": "text/x-python",
   "name": "python",
   "nbconvert_exporter": "python",
   "pygments_lexer": "ipython3",
   "version": "3.5.0"
  }
 },
 "nbformat": 4,
 "nbformat_minor": 0
}
