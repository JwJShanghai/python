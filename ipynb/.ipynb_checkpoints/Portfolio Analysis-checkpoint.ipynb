{
 "metadata": {
  "name": ""
 },
 "nbformat": 3,
 "nbformat_minor": 0,
 "worksheets": [
  {
   "cells": [
    {
     "cell_type": "code",
     "collapsed": false,
     "input": [
      "import numpy as np\n",
      "import matplotlib.pyplot as plt\n",
      "%matplotlib inline"
     ],
     "language": "python",
     "metadata": {},
     "outputs": [],
     "prompt_number": 25
    },
    {
     "cell_type": "code",
     "collapsed": false,
     "input": [
      "W = [1/3, 1/3, 1/3]\n",
      "R = [.06, .02, .04]\n",
      "C = np.matrix([[8, -2, 4], [-2, 2, -2], [4, -2, 8]])/1000\n",
      "SD = [np.sqrt(C[i,j]) for i in range(len(R)) for j in range(len(R)) if i == j]\n",
      "r = .05    # an initial target return\n",
      "rf = .01   # risk free rate"
     ],
     "language": "python",
     "metadata": {},
     "outputs": [],
     "prompt_number": 289
    },
    {
     "cell_type": "code",
     "collapsed": false,
     "input": [
      "def make_Muvec(R):        # R is a list [] of returns as real numbers\n",
      "    Muvec = np.array(R)\n",
      "    return Muvec\n",
      "    \n",
      "def make_Onevec(R):\n",
      "    Onevec = np.ones(len(R))\n",
      "    return Onevec\n",
      "\n",
      "def make_Xvec(W):         # W is a list [] of weights as real numbers \n",
      "    Xvec = np.array(W)\n",
      "    return Xvec"
     ],
     "language": "python",
     "metadata": {},
     "outputs": [],
     "prompt_number": 290
    },
    {
     "cell_type": "code",
     "collapsed": false,
     "input": [
      "Equal_return = np.sum(Muvec * Xvec)\n",
      "Equal_var = (np.matrix(Xvec) * C) * np.matrix(Xvec).T\n",
      "Equal_vol = np.sqrt(Equal_var)\n",
      "Equal_return, Equal_vol"
     ],
     "language": "python",
     "metadata": {},
     "outputs": [
      {
       "metadata": {},
       "output_type": "pyout",
       "prompt_number": 293,
       "text": [
        "(0.039999999999999994, matrix([[ 0.04472136]]))"
       ]
      }
     ],
     "prompt_number": 293
    },
    {
     "cell_type": "code",
     "collapsed": false,
     "input": [
      "def make_LMtarget(r, R):      # r is a target return as a real number\n",
      "    LMtarget = np.append(np.zeros(len(R)), [r,1])\n",
      "    return np.matrix(LMtarget)"
     ],
     "language": "python",
     "metadata": {},
     "outputs": [],
     "prompt_number": 294
    },
    {
     "cell_type": "code",
     "collapsed": false,
     "input": [
      "def Initialize(W, R, C, r, rf):\n",
      "    M = make_Muvec(R)\n",
      "    O = make_Onevec(R)\n",
      "    X = make_Xvec(W)\n",
      "    LMt = make_LMtarget(r,R)\n",
      "    return M, O, X, LMt"
     ],
     "language": "python",
     "metadata": {},
     "outputs": [],
     "prompt_number": 295
    },
    {
     "cell_type": "code",
     "collapsed": false,
     "input": [
      "Muvec, Onevec, Xvec, LMtarget = Initialize(W,R,C,r,rf)"
     ],
     "language": "python",
     "metadata": {},
     "outputs": [],
     "prompt_number": 296
    },
    {
     "cell_type": "code",
     "collapsed": false,
     "input": [
      "def make_LMmat(C, R, Muvec, Onevec): # C is the covariance matrix as an NxN matrix of real numbers\n",
      "    D = np.append(2*C, [Muvec], axis=0)\n",
      "    E = np.append(D, [Onevec], axis=0)\n",
      "    F = np.insert(E, len(R), np.append(Muvec, [0,0])*-1, axis=1)\n",
      "    G = np.insert(F, len(R)+1, np.append(Onevec, [0,0])*-1, axis=1)\n",
      "    return G"
     ],
     "language": "python",
     "metadata": {},
     "outputs": [],
     "prompt_number": 297
    },
    {
     "cell_type": "code",
     "collapsed": false,
     "input": [
      "LMmat = make_LMmat(C, R, Muvec, Onevec)"
     ],
     "language": "python",
     "metadata": {},
     "outputs": [],
     "prompt_number": 298
    },
    {
     "cell_type": "code",
     "collapsed": false,
     "input": [
      "def MinVar_target_return(C, LMmat, LMtarget):\n",
      "    Xvec_target = LMmat.I * LMtarget.T\n",
      "    Xvec_target = Xvec_target[:-2]\n",
      "    target_var = Xvec_target.T * C * Xvec_target\n",
      "    target_SD = np.sqrt(target_var)         # SD is standard deviation - measures volatility\n",
      "    return Xvec_target, target_SD"
     ],
     "language": "python",
     "metadata": {},
     "outputs": [],
     "prompt_number": 299
    },
    {
     "cell_type": "code",
     "collapsed": false,
     "input": [
      "Target_weights, target_SD = MinVar_target_return(C, LMmat, LMtarget)\n",
      "Target_weights, target_SD"
     ],
     "language": "python",
     "metadata": {},
     "outputs": [
      {
       "metadata": {},
       "output_type": "pyout",
       "prompt_number": 300,
       "text": [
        "(matrix([[ 0.76666667],\n",
        "        [ 0.26666667],\n",
        "        [-0.03333333]]),\n",
        " matrix([[ 0.06218253]]))"
       ]
      }
     ],
     "prompt_number": 300
    },
    {
     "cell_type": "code",
     "collapsed": false,
     "input": [
      "def MinVar_port(C, Muvec, Onevec):\n",
      "    Muvec = np.matrix(Muvec).T\n",
      "    Onevec = np.matrix(Onevec).T\n",
      "    Xminvec = 1/np.sum(C.I * Onevec) * C.I * Onevec\n",
      "    Xmin_return = 1/np.sum(C.I * Onevec) * Muvec.T * C.I * Onevec\n",
      "    Xmin_SD = np.sqrt(Xminvec.T * C * Xminvec)\n",
      "    return Xminvec, Xmin_return, Xmin_SD"
     ],
     "language": "python",
     "metadata": {},
     "outputs": [],
     "prompt_number": 301
    },
    {
     "cell_type": "code",
     "collapsed": false,
     "input": [
      "Xminvec, Xmin_return, Xmin_SD = MinVar_port(C, Muvec, Onevec)\n",
      "Xminvec, Xmin_return, Xmin_SD"
     ],
     "language": "python",
     "metadata": {},
     "outputs": [
      {
       "metadata": {},
       "output_type": "pyout",
       "prompt_number": 302,
       "text": [
        "(matrix([[ 0.16666667],\n",
        "        [ 0.66666667],\n",
        "        [ 0.16666667]]),\n",
        " matrix([[ 0.03]]),\n",
        " matrix([[ 0.02581989]]))"
       ]
      }
     ],
     "prompt_number": 302
    },
    {
     "cell_type": "code",
     "collapsed": false,
     "input": [
      "def Sharpe_port(C, Muvec, rf):\n",
      "    Muvec = np.matrix(Muvec).T\n",
      "    Muhat = Muvec - rf\n",
      "    XShvec = 1/np.sum(C.I * Muhat) * C.I * Muhat\n",
      "    XSh_return = 1/np.sum(C.I * Muhat) * Muvec.T * C.I * Muhat\n",
      "    XSh_SD = np.sqrt(1/np.sum(C.I * Muhat)**2 * Muhat.T * C.I * C * C.I * Muhat)\n",
      "    Sharpe_ratio = (XSh_return - rf)/XSh_SD\n",
      "    return XShvec, XSh_return, XSh_SD, Sharpe_ratio"
     ],
     "language": "python",
     "metadata": {},
     "outputs": [],
     "prompt_number": 303
    },
    {
     "cell_type": "code",
     "collapsed": false,
     "input": [
      "XShvec, XSh_return, XSh_SD, Sharpe_ratio = Sharpe_port(C, Muvec, rf)\n",
      "XShvec, XSh_return, XSh_SD, Sharpe_ratio"
     ],
     "language": "python",
     "metadata": {},
     "outputs": [
      {
       "metadata": {},
       "output_type": "pyout",
       "prompt_number": 304,
       "text": [
        "(matrix([[ 0.29166667],\n",
        "        [ 0.58333333],\n",
        "        [ 0.125     ]]),\n",
        " matrix([[ 0.03416667]]),\n",
        " matrix([[ 0.02838231]]),\n",
        " matrix([[ 0.85146932]]))"
       ]
      }
     ],
     "prompt_number": 304
    },
    {
     "cell_type": "code",
     "collapsed": false,
     "input": [
      "def Find_Frontier(C, Muvec, rf):\n",
      "    frontier = []\n",
      "    frontier_weights = []\n",
      "    r_points = np.arange(min(Muvec), max(Muvec)*1.1, .002)\n",
      "    for r in r_points:\n",
      "        LMtarget = make_LMtarget(r,R)\n",
      "        Target_weights, target_SD = MinVar_target_return(C, LMmat, LMtarget)\n",
      "        frontier.append([target_SD.item(), r])\n",
      "        frontier_weights.append(Target_weights)\n",
      "    return frontier, frontier_weights"
     ],
     "language": "python",
     "metadata": {},
     "outputs": [],
     "prompt_number": 305
    },
    {
     "cell_type": "code",
     "collapsed": false,
     "input": [
      "frontier, frontier_weights = Find_Frontier(C,Muvec,rf)"
     ],
     "language": "python",
     "metadata": {},
     "outputs": [],
     "prompt_number": 306
    },
    {
     "cell_type": "code",
     "collapsed": false,
     "input": [
      "fig = plt.figure()\n",
      "ax = fig.add_subplot(111)\n",
      "ax.set_title('Portfolio Analysis')\n",
      "ax.set_ylabel('Return')\n",
      "ax.set_xlabel('Volatility')\n",
      "\n",
      "x,y = zip(*frontier)\n",
      "line, = ax.plot(x, y, color='b', lw=1)\n",
      "\n",
      "ax.scatter(SD, Muvec, color='c')\n",
      "ax.scatter(Equal_vol, Equal_return, color='k')\n",
      "\n",
      "ax.scatter(0, rf, color='m')\n",
      "ax.scatter((max(Muvec)-rf)/Sharpe_ratio, max(Muvec), color='m')\n",
      "ax.scatter(max(SD), rf+max(SD)*Sharpe_ratio, color='m')\n",
      "\n",
      "ax.plot([0,max(SD)], [rf, rf+max(SD)*Sharpe_ratio], color='y')\n",
      "\n",
      "ax.scatter(XSh_SD, XSh_return, color='red')\n",
      "ax.scatter(Xmin_SD, Xmin_return, color='green')\n",
      "plt.show()"
     ],
     "language": "python",
     "metadata": {},
     "outputs": [
      {
       "metadata": {},
       "output_type": "display_data",
       "png": "[encoded data removed]",
       "text": [
        "<matplotlib.figure.Figure at 0x109190950>"
       ]
      }
     ],
     "prompt_number": 307
    },
    {
     "cell_type": "code",
     "collapsed": false,
     "input": [],
     "language": "python",
     "metadata": {},
     "outputs": []
    }
   ],
   "metadata": {}
  }
 ]
}