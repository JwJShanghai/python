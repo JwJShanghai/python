{
 "cells": [
  {
   "cell_type": "code",
   "execution_count": 1,
   "metadata": {
    "collapsed": false
   },
   "outputs": [],
   "source": [
    "import pandas as pd\n",
    "import numpy as np\n",
    "from scipy.optimize import minimize\n",
    "from matplotlib.pyplot import plot, scatter, show\n",
    "from pandas.io.data import DataReader\n",
    "from datetime import datetime"
   ]
  },
  {
   "cell_type": "code",
   "execution_count": 2,
   "metadata": {
    "collapsed": false
   },
   "outputs": [],
   "source": [
    "%matplotlib inline"
   ]
  },
  {
   "cell_type": "code",
   "execution_count": 3,
   "metadata": {
    "collapsed": false
   },
   "outputs": [],
   "source": [
    "start = datetime(2013,9,1)\n",
    "end = datetime.today()\n",
    "\n",
    "# stock list\n",
    "L = ['AAPL', 'SBUX', 'AMZN', 'DIS', 'BRK-B']\n",
    "\n",
    "#set up DataFrames\n",
    "daily_price  = pd.DataFrame(index=pd.bdate_range(start, end)) # business days\n",
    "daily_return = pd.DataFrame(index=pd.bdate_range(start, end))"
   ]
  },
  {
   "cell_type": "code",
   "execution_count": 4,
   "metadata": {
    "collapsed": false
   },
   "outputs": [],
   "source": [
    "# get daily equity \"Adj Close\" from start to end\n",
    "# would like to build a database of SP500 stocks instead\n",
    "\n",
    "daily_price = DataReader(L, 'yahoo', start, end)['Adj Close']\n",
    "\n",
    "daily_return = np.log(1+daily_price.pct_change())  # for a continuous return number\n",
    "# cumulative_return = daily_return.cumsum()        useful for a normalized return chart"
   ]
  },
  {
   "cell_type": "code",
   "execution_count": 5,
   "metadata": {
    "collapsed": false
   },
   "outputs": [],
   "source": [
    "# create expected return vector, stdev vector and covariance, correlation matrices\n",
    "\n",
    "R = daily_return.mean() # expected return vector\n",
    "AAR = (1+R)**250-1      # average annual return vector\n",
    "S = daily_return.std()  # expected standard deviation vector\n",
    "C = daily_return.cov()  # covariance matrix\n",
    "Corr =  daily_return.corr() # and a correlation matrix for info"
   ]
  },
  {
   "cell_type": "code",
   "execution_count": 6,
   "metadata": {
    "collapsed": false
   },
   "outputs": [
    {
     "data": {
      "text/plain": [
       "matrix([[  2.01924591e-04,   5.75941726e-05,   3.26352970e-05,\n",
       "           3.77219882e-05,   4.43847744e-05],\n",
       "        [  5.75941726e-05,   4.15797921e-04,   5.89620281e-05,\n",
       "           8.45870072e-05,   9.42722993e-05],\n",
       "        [  3.26352970e-05,   5.89620281e-05,   7.42413838e-05,\n",
       "           5.27294745e-05,   4.74114638e-05],\n",
       "        [  3.77219882e-05,   8.45870072e-05,   5.27294745e-05,\n",
       "           1.25073034e-04,   6.17063968e-05],\n",
       "        [  4.43847744e-05,   9.42722993e-05,   4.74114638e-05,\n",
       "           6.17063968e-05,   1.38266929e-04]])"
      ]
     },
     "execution_count": 6,
     "metadata": {},
     "output_type": "execute_result"
    }
   ],
   "source": [
    "np.matrix(C)"
   ]
  },
  {
   "cell_type": "code",
   "execution_count": 7,
   "metadata": {
    "collapsed": false
   },
   "outputs": [
    {
     "data": {
      "text/plain": [
       "AAPL     0.354992\n",
       "AMZN     0.229511\n",
       "BRK-B    0.129782\n",
       "DIS      0.360055\n",
       "SBUX     0.241513\n",
       "dtype: float64"
      ]
     },
     "execution_count": 7,
     "metadata": {},
     "output_type": "execute_result"
    }
   ],
   "source": [
    "R*252 # annualized continuous return"
   ]
  },
  {
   "cell_type": "code",
   "execution_count": 8,
   "metadata": {
    "collapsed": false
   },
   "outputs": [
    {
     "data": {
      "text/plain": [
       "AAPL     0.426169\n",
       "AMZN     0.257984\n",
       "BRK-B    0.138580\n",
       "DIS      0.433408\n",
       "SBUX     0.273174\n",
       "dtype: float64"
      ]
     },
     "execution_count": 8,
     "metadata": {},
     "output_type": "execute_result"
    }
   ],
   "source": [
    "np.exp(R*252)-1 # equivalent average annual return"
   ]
  },
  {
   "cell_type": "code",
   "execution_count": 9,
   "metadata": {
    "collapsed": false
   },
   "outputs": [
    {
     "data": {
      "text/plain": [
       "AAPL     0.225577\n",
       "AMZN     0.323699\n",
       "BRK-B    0.136780\n",
       "DIS      0.177534\n",
       "SBUX     0.186664\n",
       "dtype: float64"
      ]
     },
     "execution_count": 9,
     "metadata": {},
     "output_type": "execute_result"
    }
   ],
   "source": [
    "S*np.sqrt(252) # annualized STD"
   ]
  },
  {
   "cell_type": "code",
   "execution_count": 10,
   "metadata": {
    "collapsed": false
   },
   "outputs": [],
   "source": [
    "def port_return(W):\n",
    "    return np.dot(R, W)\n",
    "    \n",
    "def port_var(W):\n",
    "    return np.dot(W, np.dot(C, W))"
   ]
  },
  {
   "cell_type": "code",
   "execution_count": 11,
   "metadata": {
    "collapsed": false
   },
   "outputs": [],
   "source": [
    "# Given risk-free rate, assets returns and covariances, this function calculates\n",
    "# mean-variance frontier and associated weights\n",
    "\n",
    "def find_frontier(R, C, rf):\n",
    "        def fitness(W, R, C, r):\n",
    "                # For given level of return r, find weights that minimize portfolio variance.\n",
    "                mean, var = port_return(W), port_var(W)\n",
    "                # Big penalty for not meeting stated portfolio return effectively serves as optimization constraint\n",
    "                penalty = 50*abs(mean-r)\n",
    "                return var + penalty\n",
    "        frontier_mean, frontier_var, frontier_weights = [], [], []\n",
    "        for r in np.linspace(min(R), max(R), num=20):   # iterate through a range of returns on Y axis\n",
    "                W = np.ones([len(L)])/len(L)            # start optimization with equal weights\n",
    "                b_ = [(0.,1.) for i in range(len(L))]\n",
    "                c_ = ({'type':'eq', 'fun': lambda W: sum(W)-1. })\n",
    "                optimized = minimize(fitness, W, (R, C, r), method='SLSQP', constraints=c_, bounds=b_)   \n",
    "                if not optimized.success: \n",
    "                        raise BaseException(optimized.message)\n",
    "                # add point to the min-var frontier [x,y] = [optimized.x, r]\n",
    "                frontier_mean.append(r)                                                 # return\n",
    "                frontier_var.append(np.sqrt(port_var(optimized.x)))   # min-variance based on optimized weights\n",
    "                frontier_weights.append(optimized.x)\n",
    "        return np.array(frontier_mean), np.array(frontier_var), frontier_weights"
   ]
  },
  {
   "cell_type": "code",
   "execution_count": 12,
   "metadata": {
    "collapsed": false
   },
   "outputs": [],
   "source": [
    "# finds tangential optimum portfolio based on rf input\n",
    "\n",
    "def tangent_weights(C, rf):\n",
    "    def Sharpe(W, C, rf):\n",
    "        mean, var = port_return(W), port_var(W) \n",
    "        util = (mean - rf) / np.sqrt(var)               # calculates the Sharpe Ratio\n",
    "        return 1/util                                   # maximize utility, minimize the function\n",
    "    W = np.ones([len(L)])/len(L)\n",
    "    b_ = [(0., 1.) for i in range(len(L))]              # weights between 0 and 100%, no shorts\n",
    "    c_ = ({'type':'eq', 'fun': lambda W: sum(W)-1. })   # weights must add to 100%\n",
    "    res = minimize(Sharpe, W, (C, rf), method='SLSQP', constraints=c_, bounds=b_) # the magic scipy function!\n",
    "    if not res.success:\n",
    "        raise BaseException(res.message)\n",
    "    return res.x"
   ]
  },
  {
   "cell_type": "code",
   "execution_count": 13,
   "metadata": {
    "collapsed": false
   },
   "outputs": [],
   "source": [
    "def min_var_weights(C, rf):\n",
    "    def mvp(W, C, rf):\n",
    "        return port_var(W)\n",
    "    W = np.ones([len(L)])/len(L)\n",
    "    b_ = [(0., 1.) for i in range(len(L))]              # weights between 0 and 100%, no shorts\n",
    "    c_ = ({'type':'eq', 'fun': lambda W: sum(W)-1. })   # weights must add to 100%\n",
    "    res = minimize(mvp, W, (C, rf), method='SLSQP', constraints=c_, bounds=b_) # the magic scipy function!\n",
    "    if not res.success:\n",
    "        raise BaseException(res.message)\n",
    "    return res.x"
   ]
  },
  {
   "cell_type": "code",
   "execution_count": 14,
   "metadata": {
    "collapsed": false
   },
   "outputs": [],
   "source": [
    "rf = .01\n",
    "\n",
    "T_W = tangent_weights(C, rf)\n",
    "MV_W = min_var_weights(C, rf)\n",
    "F_M, F_S, F_W = find_frontier(R, C, rf)"
   ]
  },
  {
   "cell_type": "code",
   "execution_count": 15,
   "metadata": {
    "collapsed": false
   },
   "outputs": [
    {
     "name": "stdout",
     "output_type": "stream",
     "text": [
      "tangential weights:\n",
      "AAPL      -0.00%\n",
      "SBUX      100.00%\n",
      "AMZN      -0.00%\n",
      "DIS      -0.00%\n",
      "BRK-B      -0.00%\n",
      "minimum variance weights:\n",
      "AAPL      20.00%\n",
      "SBUX      20.00%\n",
      "AMZN      20.00%\n",
      "DIS      20.00%\n",
      "BRK-B      20.00%\n"
     ]
    }
   ],
   "source": [
    "print('tangential weights:')\n",
    "for i, stock in enumerate(T_W):\n",
    "    print('{}      {:.2%}'.format(L[i],stock))\n",
    "    \n",
    "print('minimum variance weights:')\n",
    "for i, stock in enumerate(MV_W):\n",
    "    print('{}      {:.2%}'.format(L[i],stock))"
   ]
  },
  {
   "cell_type": "code",
   "execution_count": 16,
   "metadata": {
    "collapsed": false
   },
   "outputs": [
    {
     "name": "stdout",
     "output_type": "stream",
     "text": [
      "tangent portfolio has a 0.09% average daily return with a 2.04% standard deviation\n",
      "This portfolio has a Sharpe ratio of -0.446 using a risk free rate of 0.01\n"
     ]
    }
   ],
   "source": [
    "sharpe = (port_return(T_W) - rf) / np.sqrt(port_var(T_W))\n",
    "mean, std = port_return(T_W), np.sqrt(port_var(T_W))\n",
    "print('tangent portfolio has a {:.2%} average daily return with a {:.2%} standard deviation'.format(mean, std))\n",
    "print('This portfolio has a Sharpe ratio of {:.3} using a risk free rate of {:.2}'.format(sharpe,rf))"
   ]
  },
  {
   "cell_type": "code",
   "execution_count": 17,
   "metadata": {
    "collapsed": false
   },
   "outputs": [
    {
     "data": {
      "image/png": "[encoded data removed]",
      "text/plain": [
       "<matplotlib.figure.Figure at 0x10daa04a8>"
      ]
     },
     "metadata": {},
     "output_type": "display_data"
    }
   ],
   "source": [
    "plot(F_S,F_M)\n",
    "scatter(S,R)\n",
    "show()"
   ]
  },
  {
   "cell_type": "code",
   "execution_count": 18,
   "metadata": {
    "collapsed": false
   },
   "outputs": [
    {
     "data": {
      "image/png": "[encoded data removed]",
      "text/plain": [
       "<matplotlib.figure.Figure at 0x10db05fd0>"
      ]
     },
     "metadata": {},
     "output_type": "display_data"
    }
   ],
   "source": [
    "F_W = pd.DataFrame(F_W)\n",
    "F_W.plot()\n",
    "show()"
   ]
  },
  {
   "cell_type": "code",
   "execution_count": 19,
   "metadata": {
    "collapsed": false
   },
   "outputs": [],
   "source": [
    "W = np.ones([len(L)])/len(L)"
   ]
  },
  {
   "cell_type": "code",
   "execution_count": 20,
   "metadata": {
    "collapsed": false
   },
   "outputs": [
    {
     "name": "stdout",
     "output_type": "stream",
     "text": [
      "equal weight portfolio has a 0.10% average annual return with a 0.01% standard deviation\n"
     ]
    }
   ],
   "source": [
    "port_exp_return = np.exp(port_return(W)*252)-1\n",
    "port_exp_return = port_return(W)\n",
    "port_std = np.sqrt(port_var(W)*252)\n",
    "port_std = port_var(W)\n",
    "print('equal weight portfolio has a {:.2%} average annual return with a {:.2%} standard deviation'.format(port_exp_return, port_std))"
   ]
  },
  {
   "cell_type": "code",
   "execution_count": null,
   "metadata": {
    "collapsed": false
   },
   "outputs": [],
   "source": []
  }
 ],
 "metadata": {
  "kernelspec": {
   "display_name": "Python 3",
   "language": "python",
   "name": "python3"
  },
  "language_info": {
   "codemirror_mode": {
    "name": "ipython",
    "version": 3
   },
   "file_extension": ".py",
   "mimetype": "text/x-python",
   "name": "python",
   "nbconvert_exporter": "python",
   "pygments_lexer": "ipython3",
   "version": "3.4.3"
  }
 },
 "nbformat": 4,
 "nbformat_minor": 0
}
