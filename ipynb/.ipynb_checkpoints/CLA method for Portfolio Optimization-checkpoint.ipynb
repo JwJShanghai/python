{
 "cells": [
  {
   "cell_type": "code",
   "execution_count": 1,
   "metadata": {
    "collapsed": false
   },
   "outputs": [
    {
     "name": "stderr",
     "output_type": "stream",
     "text": [
      "/Users/davekensinger/anaconda/lib/python3.5/site-packages/pandas/io/data.py:35: FutureWarning: \n",
      "The pandas.io.data module is moved to a separate package (pandas-datareader) and will be removed from pandas in a future version.\n",
      "After installing the pandas-datareader package (https://github.com/pydata/pandas-datareader), you can change the import ``from pandas.io import data, wb`` to ``from pandas_datareader import data, wb``.\n",
      "  FutureWarning)\n"
     ]
    }
   ],
   "source": [
    "import pandas as pd\n",
    "import numpy as np\n",
    "from scipy.optimize import minimize\n",
    "from matplotlib.pyplot import plot, scatter, show\n",
    "from pandas.io.data import DataReader\n",
    "from datetime import datetime"
   ]
  },
  {
   "cell_type": "code",
   "execution_count": 2,
   "metadata": {
    "collapsed": false
   },
   "outputs": [],
   "source": [
    "#---------------------------------------------------------------\n",
    "# Class CLA (algorithm for solving efficient portfolios)\n",
    "#---------------------------------------------------------------\n",
    "class CLA:\n",
    "    def __init__(self,mean,covar,lB,uB):\n",
    "        # Initialize the class\n",
    "        self.mean=mean\n",
    "        self.covar=covar\n",
    "        self.lB=lB\n",
    "        self.uB=uB\n",
    "        self.w=[] # solution\n",
    "        self.l=[] # lambdas\n",
    "        self.g=[] # gammas\n",
    "        self.f=[] # free weights\n",
    "#---------------------------------------------------------------\n",
    "    def solve(self):\n",
    "        # Compute the turning points,free sets and weights\n",
    "        f,w=self.initAlgo()\n",
    "        self.w.append(np.copy(w)) # store solution\n",
    "        self.l.append(None)\n",
    "        self.g.append(None)\n",
    "        self.f.append(f[:])\n",
    "        while True:\n",
    "            #1) case a): Bound one free weight\n",
    "            l_in=None\n",
    "            if len(f)>1:\n",
    "                covarF,covarFB,meanF,wB=self.getMatrices(f)\n",
    "                covarF_inv=np.linalg.inv(covarF)\n",
    "                j=0\n",
    "                for i in f:\n",
    "                    l,bi=self.computeLambda(covarF_inv,covarFB,meanF,wB,j,[self.lB[i],self.uB[i]])\n",
    "                    if l>l_in:l_in,i_in,bi_in=l,i,bi\n",
    "                    j+=1\n",
    "            #2) case b): Free one bounded weight\n",
    "            l_out=None\n",
    "            if len(f)<self.mean.shape[0]:\n",
    "                b=self.getB(f)\n",
    "                for i in b:\n",
    "                    covarF,covarFB,meanF,wB=self.getMatrices(f+[i])\n",
    "                    covarF_inv=np.linalg.inv(covarF)\n",
    "                    l,bi=self.computeLambda(covarF_inv,covarFB,meanF,wB,meanF.shape[0]-1, \\\n",
    "                        self.w[-1][i])\n",
    "                    if (self.l[-1]==None or l<self.l[-1]) and l>l_out:l_out,i_out=l,i                \n",
    "            if (l_in==None or l_in<0) and (l_out==None or l_out<0):\n",
    "                #3) compute minimum variance solution\n",
    "                self.l.append(0)\n",
    "                covarF,covarFB,meanF,wB=self.getMatrices(f)\n",
    "                covarF_inv=np.linalg.inv(covarF)\n",
    "                meanF=np.zeros(meanF.shape)\n",
    "            else:\n",
    "                #4) decide lambda\n",
    "                if l_in>l_out:\n",
    "                    self.l.append(l_in)\n",
    "                    f.remove(i_in)\n",
    "                    w[i_in]=bi_in # set value at the correct boundary\n",
    "                else:\n",
    "                    self.l.append(l_out)\n",
    "                    f.append(i_out)\n",
    "                covarF,covarFB,meanF,wB=self.getMatrices(f)\n",
    "                covarF_inv=np.linalg.inv(covarF)\n",
    "            #5) compute solution vector\n",
    "            wF,g=self.computeW(covarF_inv,covarFB,meanF,wB)\n",
    "            for i in range(len(f)):w[f[i]]=wF[i]\n",
    "            self.w.append(np.copy(w)) # store solution\n",
    "            self.g.append(g)\n",
    "            self.f.append(f[:])\n",
    "            if self.l[-1]==0:break\n",
    "        #6) Purge turning points\n",
    "        self.purgeNumErr(10e-10)\n",
    "        self.purgeExcess()\n",
    "#---------------------------------------------------------------    \n",
    "    def initAlgo(self):\n",
    "        # Initialize the algo\n",
    "        #1) Form structured array\n",
    "        a=np.zeros((self.mean.shape[0]),dtype=[('id',int),('mu',float)])\n",
    "        b=[self.mean[i] for i in range(self.mean.shape[0])] # dump array into list\n",
    "        a[:]=zip(range(self.mean.shape[0]),b) # fill structured array\n",
    "        #2) Sort structured array\n",
    "        b=np.sort(a,order='mu')\n",
    "        #3) First free weight\n",
    "        i,w=b.shape[0],np.copy(self.lB)\n",
    "        while sum(w)<1:\n",
    "            i-=1\n",
    "            w[b[i][0]]=self.uB[b[i][0]]\n",
    "        w[b[i][0]]+=1-sum(w)\n",
    "        return [b[i][0]],w\n",
    "#---------------------------------------------------------------    \n",
    "    def computeBi(self,c,bi):\n",
    "        if c>0:\n",
    "            bi=bi[1][0]\n",
    "        if c<0:\n",
    "            bi=bi[0][0]\n",
    "        return bi\n",
    "#---------------------------------------------------------------\n",
    "    def computeW(self,covarF_inv,covarFB,meanF,wB):\n",
    "        #1) compute gamma\n",
    "        onesF=np.ones(meanF.shape)\n",
    "        g1=np.dot(np.dot(onesF.T,covarF_inv),meanF)\n",
    "        g2=np.dot(np.dot(onesF.T,covarF_inv),onesF)\n",
    "        if wB==None:\n",
    "            g,w1=float(-self.l[-1]*g1/g2+1/g2),0\n",
    "        else:\n",
    "            onesB=np.ones(wB.shape)\n",
    "            g3=np.dot(onesB.T,wB)\n",
    "            g4=np.dot(covarF_inv,covarFB)\n",
    "            w1=np.dot(g4,wB)\n",
    "            g4=np.dot(onesF.T,w1)\n",
    "            g=float(-self.l[-1]*g1/g2+(1-g3+g4)/g2)\n",
    "        #2) compute weights\n",
    "        w2=np.dot(covarF_inv,onesF)\n",
    "        w3=np.dot(covarF_inv,meanF)\n",
    "        return -w1+g*w2+self.l[-1]*w3,g\n",
    "#---------------------------------------------------------------\n",
    "    def computeLambda(self,covarF_inv,covarFB,meanF,wB,i,bi):\n",
    "        #1) C\n",
    "        onesF=np.ones(meanF.shape)\n",
    "        c1=np.dot(np.dot(onesF.T,covarF_inv),onesF)\n",
    "        c2=np.dot(covarF_inv,meanF)\n",
    "        c3=np.dot(np.dot(onesF.T,covarF_inv),meanF)\n",
    "        c4=np.dot(covarF_inv,onesF)\n",
    "        c=-c1*c2[i]+c3*c4[i]\n",
    "        if c==0:return None,None\n",
    "        #2) bi\n",
    "        if type(bi)==list:bi=self.computeBi(c,bi)\n",
    "        #3) Lambda\n",
    "        if wB==None:\n",
    "            # All free assets\n",
    "            return float((c4[i]-c1*bi)/c),bi\n",
    "        else:\n",
    "            onesB=np.ones(wB.shape)\n",
    "            l1=np.dot(onesB.T,wB)\n",
    "            l2=np.dot(covarF_inv,covarFB)\n",
    "            l3=np.dot(l2,wB)\n",
    "            l2=np.dot(onesF.T,l3)\n",
    "            return float(((1-l1+l2)*c4[i]-c1*(bi+l3[i]))/c),bi\n",
    "#---------------------------------------------------------------\n",
    "    def getMatrices(self,f):\n",
    "        # Slice covarF,covarFB,covarB,meanF,meanB,wF,wB\n",
    "        covarF=self.reduceMatrix(self.covar,f,f)\n",
    "        meanF=self.reduceMatrix(self.mean,f,[0])\n",
    "        b=self.getB(f)\n",
    "        covarFB=self.reduceMatrix(self.covar,f,b)\n",
    "        wB=self.reduceMatrix(self.w[-1],b,[0])\n",
    "        return covarF,covarFB,meanF,wB\n",
    "#---------------------------------------------------------------\n",
    "    def getB(self,f):\n",
    "        return self.diffLists(range(self.mean.shape[0]),f)\n",
    "#---------------------------------------------------------------\n",
    "    def diffLists(self,list1,list2):\n",
    "        return list(set(list1)-set(list2))\n",
    "#---------------------------------------------------------------\n",
    "    def reduceMatrix(self,matrix,listX,listY):\n",
    "        # Reduce a matrix to the provided list of rows and columns\n",
    "        if len(listX)==0 or len(listY)==0:return\n",
    "        matrix_=matrix[:,listY[0]:listY[0]+1]\n",
    "        for i in listY[1:]:\n",
    "            a=matrix[:,i:i+1]\n",
    "            matrix_=np.append(matrix_,a,1)\n",
    "        matrix__=matrix_[listX[0]:listX[0]+1,:]\n",
    "        for i in listX[1:]:\n",
    "            a=matrix_[i:i+1,:]\n",
    "            matrix__=np.append(matrix__,a,0)\n",
    "        return matrix__\n",
    "#---------------------------------------------------------------    \n",
    "    def purgeNumErr(self,tol):\n",
    "        # Purge violations of inequality constraints (associated with ill-conditioned covar matrix)\n",
    "        i=0\n",
    "        while True:\n",
    "            flag=False\n",
    "            if i==len(self.w):break\n",
    "            if abs(sum(self.w[i])-1)>tol:\n",
    "                flag=True\n",
    "            else:\n",
    "                for j in range(self.w[i].shape[0]):\n",
    "                    if self.w[i][j]-self.lB[j]<-tol or self.w[i][j]-self.uB[j]>tol:\n",
    "                        flag=True;break\n",
    "            if flag==True:\n",
    "                del self.w[i]\n",
    "                del self.l[i]\n",
    "                del self.g[i]\n",
    "                del self.f[i]\n",
    "            else:\n",
    "                i+=1\n",
    "        return\n",
    "#---------------------------------------------------------------    \n",
    "    def purgeExcess(self):\n",
    "        # Remove violations of the convex hull\n",
    "        i,repeat=0,False\n",
    "        while True:\n",
    "            if repeat==False:i+=1\n",
    "            if i==len(self.w)-1:break\n",
    "            w=self.w[i]\n",
    "            mu=np.dot(w.T,self.mean)[0,0]\n",
    "            j,repeat=i+1,False\n",
    "            while True:\n",
    "                if j==len(self.w):break\n",
    "                w=self.w[j]\n",
    "                mu_=np.dot(w.T,self.mean)[0,0]\n",
    "                if mu<mu_:\n",
    "                    del self.w[i]\n",
    "                    del self.l[i]\n",
    "                    del self.g[i]\n",
    "                    del self.f[i]\n",
    "                    repeat=True\n",
    "                    break\n",
    "                else:\n",
    "                    j+=1\n",
    "        return\n",
    "#---------------------------------------------------------------\n",
    "    def getMinVar(self):\n",
    "        # Get the minimum variance solution\n",
    "        var=[]\n",
    "        for w in self.w:\n",
    "            a=np.dot(np.dot(w.T,self.covar),w)\n",
    "            var.append(a)\n",
    "        return min(var)**.5,self.w[var.index(min(var))]\n",
    "#---------------------------------------------------------------\n",
    "    def getMaxSR(self):\n",
    "        # Get the max Sharpe ratio portfolio\n",
    "        #1) Compute the local max SR portfolio between any two neighbor turning points\n",
    "        w_sr,sr=[],[]\n",
    "        for i in range(len(self.w)-1):\n",
    "            w0=np.copy(self.w[i])\n",
    "            w1=np.copy(self.w[i+1])\n",
    "            kargs={'minimum':False,'args':(w0,w1)}\n",
    "            a,b=self.goldenSection(self.evalSR,0,1,**kargs)\n",
    "            w_sr.append(a*w0+(1-a)*w1)\n",
    "            sr.append(b)\n",
    "        return max(sr),w_sr[sr.index(max(sr))]\n",
    "#---------------------------------------------------------------\n",
    "    def evalSR(self,a,w0,w1):\n",
    "        # Evaluate SR of the portfolio within the convex combination\n",
    "        w=a*w0+(1-a)*w1\n",
    "        b=np.dot(w.T,self.mean)[0,0]\n",
    "        c=np.dot(np.dot(w.T,self.covar),w)[0,0]**.5\n",
    "        return b/c\n",
    "#---------------------------------------------------------------\n",
    "    def goldenSection(self,obj,a,b,**kargs):\n",
    "        # Golden section method. Maximum if kargs['minimum']==False is passed \n",
    "        from math import log,ceil\n",
    "        tol,sign,args=1.0e-9,1,None\n",
    "        if 'minimum' in kargs and kargs['minimum']==False:sign=-1\n",
    "        if 'args' in kargs:args=kargs['args']\n",
    "        numIter=int(ceil(-2.078087*log(tol/abs(b-a))))\n",
    "        r=0.618033989\n",
    "        c=1.0-r\n",
    "        # Initialize\n",
    "        x1=r*a+c*b;x2=c*a+r*b\n",
    "        f1=sign*obj(x1,*args);f2=sign*obj(x2,*args)\n",
    "        # Loop\n",
    "        for i in range(numIter):\n",
    "            if f1>f2:\n",
    "                a=x1\n",
    "                x1=x2;f1=f2\n",
    "                x2=c*a+r*b;f2=sign*obj(x2,*args)\n",
    "            else:\n",
    "                b=x2\n",
    "                x2=x1;f2=f1\n",
    "                x1=r*a+c*b;f1=sign*obj(x1,*args)\n",
    "        if f1<f2:return x1,sign*f1\n",
    "        else:return x2,sign*f2\n",
    "#---------------------------------------------------------------\n",
    "    def efFrontier(self,points):\n",
    "        # Get the efficient frontier\n",
    "        mu,sigma,weights=[],[],[]\n",
    "        a=np.linspace(0,1,points/len(self.w))[:-1] # remove the 1, to avoid duplications\n",
    "        b=range(len(self.w)-1)\n",
    "        for i in b:\n",
    "            w0,w1=self.w[i],self.w[i+1]\n",
    "            if i==b[-1]:a=np.linspace(0,1,points/len(self.w)) # include the 1 in the last iteration\n",
    "            for j in a:\n",
    "                w=w1*j+(1-j)*w0\n",
    "                weights.append(np.copy(w))\n",
    "                mu.append(np.dot(w.T,self.mean)[0,0])\n",
    "                sigma.append(np.dot(np.dot(w.T,self.covar),w)[0,0]**.5)\n",
    "        return mu,sigma,weights\n",
    "#---------------------------------------------------------------\n",
    "# end Class CLA\n",
    "#---------------------------------------------------------------"
   ]
  },
  {
   "cell_type": "code",
   "execution_count": 3,
   "metadata": {
    "collapsed": false
   },
   "outputs": [],
   "source": [
    "#---------------------------------------------------------------\n",
    "def plot2D(x,y,xLabel='',yLabel='',title='',pathChart=None):\n",
    "    import matplotlib.pyplot as mpl\n",
    "    fig=mpl.figure()\n",
    "    ax=fig.add_subplot(1,1,1) #one row, one column, first plot\n",
    "    ax.plot(x,y,color='blue')\n",
    "    ax.set_xlabel(xLabel)\n",
    "    ax.set_ylabel(yLabel,rotation=90)\n",
    "    mpl.xticks(rotation='vertical')\n",
    "    mpl.title(title)\n",
    "    if pathChart==None:\n",
    "        mpl.show()\n",
    "    else:\n",
    "        mpl.savefig(pathChart)\n",
    "    mpl.clf() # reset pylab\n",
    "    return"
   ]
  },
  {
   "cell_type": "code",
   "execution_count": 4,
   "metadata": {
    "collapsed": false
   },
   "outputs": [],
   "source": [
    "#---------------------------------------------------------------\n",
    "# Main Section\n",
    "#---------------------------------------------------------------\n",
    "start = datetime(2011,8,11)\n",
    "end = datetime.today()\n",
    "\n",
    "# stock list\n",
    "L = np.array(['AAPL', 'SPY', 'DDD', 'SBUX'])\n",
    "\n",
    "#set up DataFrames\n",
    "daily_price  = pd.DataFrame(index=pd.bdate_range(start, end)) # business days\n",
    "daily_return = pd.DataFrame(index=pd.bdate_range(start, end))"
   ]
  },
  {
   "cell_type": "code",
   "execution_count": 5,
   "metadata": {
    "collapsed": false
   },
   "outputs": [],
   "source": [
    "# get daily equity \"Adj Close\" from start to end\n",
    "# would like to build a database of SP500 stocks instead\n",
    "\n",
    "daily_price = DataReader(L, 'yahoo', start, end)['Adj Close']\n",
    "daily_return = np.log(1+daily_price.pct_change())  # for a continuous return number\n",
    "# cumulative_return = daily_return.cumsum()        useful for a normalized return chart"
   ]
  },
  {
   "cell_type": "code",
   "execution_count": 6,
   "metadata": {
    "collapsed": false
   },
   "outputs": [],
   "source": [
    "# create expected return vector, stdev vector and covariance, correlation matrices\n",
    "\n",
    "R = daily_return.mean() # expected return vector\n",
    "S = daily_return.std()  # expected standard deviation vector\n",
    "C = daily_return.cov()  # covariance matrix\n",
    "Corr =  daily_return.corr() # and a correlation matrix for info"
   ]
  },
  {
   "cell_type": "code",
   "execution_count": 7,
   "metadata": {
    "collapsed": false
   },
   "outputs": [
    {
     "data": {
      "text/plain": [
       "AAPL    0.000614\n",
       "DDD     0.000159\n",
       "SBUX    0.000927\n",
       "SPY     0.000566\n",
       "dtype: float64"
      ]
     },
     "execution_count": 7,
     "metadata": {},
     "output_type": "execute_result"
    }
   ],
   "source": [
    "R"
   ]
  },
  {
   "cell_type": "code",
   "execution_count": 8,
   "metadata": {
    "collapsed": false
   },
   "outputs": [
    {
     "data": {
      "text/plain": [
       "array(['AAPL', 'SPY', 'DDD', 'SBUX'], \n",
       "      dtype='<U4')"
      ]
     },
     "execution_count": 8,
     "metadata": {},
     "output_type": "execute_result"
    }
   ],
   "source": [
    "#2) Load data, set seed\n",
    "headers=L\n",
    "headers"
   ]
  },
  {
   "cell_type": "code",
   "execution_count": 9,
   "metadata": {
    "collapsed": false
   },
   "outputs": [
    {
     "data": {
      "text/plain": [
       "4"
      ]
     },
     "execution_count": 9,
     "metadata": {},
     "output_type": "execute_result"
    }
   ],
   "source": [
    "mean=np.array(R)\n",
    "type(mean)\n",
    "mean.shape[0]"
   ]
  },
  {
   "cell_type": "code",
   "execution_count": 10,
   "metadata": {
    "collapsed": false
   },
   "outputs": [
    {
     "data": {
      "text/plain": [
       "array([ 0.,  0.,  0.,  0.])"
      ]
     },
     "execution_count": 10,
     "metadata": {},
     "output_type": "execute_result"
    }
   ],
   "source": [
    "lB=np.array([0.]*len(L))\n",
    "lB"
   ]
  },
  {
   "cell_type": "code",
   "execution_count": 11,
   "metadata": {
    "collapsed": false
   },
   "outputs": [
    {
     "data": {
      "text/plain": [
       "array([ 1.,  1.,  1.,  1.])"
      ]
     },
     "execution_count": 11,
     "metadata": {},
     "output_type": "execute_result"
    }
   ],
   "source": [
    "uB=np.array([1.]*len(L))\n",
    "uB"
   ]
  },
  {
   "cell_type": "code",
   "execution_count": 12,
   "metadata": {
    "collapsed": false
   },
   "outputs": [
    {
     "data": {
      "text/plain": [
       "array([[  2.83023908e-04,   1.54988750e-04,   8.51512971e-05,\n",
       "          7.88953313e-05],\n",
       "       [  1.54988750e-04,   1.36426469e-03,   1.15119500e-04,\n",
       "          1.46760138e-04],\n",
       "       [  8.51512971e-05,   1.15119500e-04,   2.26223156e-04,\n",
       "          8.45306242e-05],\n",
       "       [  7.88953313e-05,   1.46760138e-04,   8.45306242e-05,\n",
       "          8.48804481e-05]])"
      ]
     },
     "execution_count": 12,
     "metadata": {},
     "output_type": "execute_result"
    }
   ],
   "source": [
    "covar=np.array(C)\n",
    "covar"
   ]
  },
  {
   "cell_type": "code",
   "execution_count": 13,
   "metadata": {
    "collapsed": false
   },
   "outputs": [
    {
     "ename": "TypeError",
     "evalue": "a bytes-like object is required, not 'zip'",
     "output_type": "error",
     "traceback": [
      "\u001b[0;31m---------------------------------------------------------------------------\u001b[0m",
      "\u001b[0;31mTypeError\u001b[0m                                 Traceback (most recent call last)",
      "\u001b[0;32m<ipython-input-13-86c9b1845d69>\u001b[0m in \u001b[0;36m<module>\u001b[0;34m()\u001b[0m\n\u001b[1;32m      1\u001b[0m \u001b[0;31m#3) Invoke object\u001b[0m\u001b[0;34m\u001b[0m\u001b[0;34m\u001b[0m\u001b[0m\n\u001b[1;32m      2\u001b[0m \u001b[0mcla\u001b[0m\u001b[0;34m=\u001b[0m\u001b[0mCLA\u001b[0m\u001b[0;34m(\u001b[0m\u001b[0mmean\u001b[0m\u001b[0;34m,\u001b[0m\u001b[0mcovar\u001b[0m\u001b[0;34m,\u001b[0m\u001b[0mlB\u001b[0m\u001b[0;34m,\u001b[0m\u001b[0muB\u001b[0m\u001b[0;34m)\u001b[0m\u001b[0;34m\u001b[0m\u001b[0m\n\u001b[0;32m----> 3\u001b[0;31m \u001b[0mcla\u001b[0m\u001b[0;34m.\u001b[0m\u001b[0msolve\u001b[0m\u001b[0;34m(\u001b[0m\u001b[0;34m)\u001b[0m\u001b[0;34m\u001b[0m\u001b[0m\n\u001b[0m\u001b[1;32m      4\u001b[0m \u001b[0mprint\u001b[0m\u001b[0;34m(\u001b[0m\u001b[0mcla\u001b[0m\u001b[0;34m.\u001b[0m\u001b[0mw\u001b[0m\u001b[0;34m)\u001b[0m \u001b[0;31m# print all turning points\u001b[0m\u001b[0;34m\u001b[0m\u001b[0m\n",
      "\u001b[0;32m<ipython-input-2-45dac6181cbd>\u001b[0m in \u001b[0;36msolve\u001b[0;34m(self)\u001b[0m\n\u001b[1;32m     16\u001b[0m     \u001b[0;32mdef\u001b[0m \u001b[0msolve\u001b[0m\u001b[0;34m(\u001b[0m\u001b[0mself\u001b[0m\u001b[0;34m)\u001b[0m\u001b[0;34m:\u001b[0m\u001b[0;34m\u001b[0m\u001b[0m\n\u001b[1;32m     17\u001b[0m         \u001b[0;31m# Compute the turning points,free sets and weights\u001b[0m\u001b[0;34m\u001b[0m\u001b[0;34m\u001b[0m\u001b[0m\n\u001b[0;32m---> 18\u001b[0;31m         \u001b[0mf\u001b[0m\u001b[0;34m,\u001b[0m\u001b[0mw\u001b[0m\u001b[0;34m=\u001b[0m\u001b[0mself\u001b[0m\u001b[0;34m.\u001b[0m\u001b[0minitAlgo\u001b[0m\u001b[0;34m(\u001b[0m\u001b[0;34m)\u001b[0m\u001b[0;34m\u001b[0m\u001b[0m\n\u001b[0m\u001b[1;32m     19\u001b[0m         \u001b[0mself\u001b[0m\u001b[0;34m.\u001b[0m\u001b[0mw\u001b[0m\u001b[0;34m.\u001b[0m\u001b[0mappend\u001b[0m\u001b[0;34m(\u001b[0m\u001b[0mnp\u001b[0m\u001b[0;34m.\u001b[0m\u001b[0mcopy\u001b[0m\u001b[0;34m(\u001b[0m\u001b[0mw\u001b[0m\u001b[0;34m)\u001b[0m\u001b[0;34m)\u001b[0m \u001b[0;31m# store solution\u001b[0m\u001b[0;34m\u001b[0m\u001b[0m\n\u001b[1;32m     20\u001b[0m         \u001b[0mself\u001b[0m\u001b[0;34m.\u001b[0m\u001b[0ml\u001b[0m\u001b[0;34m.\u001b[0m\u001b[0mappend\u001b[0m\u001b[0;34m(\u001b[0m\u001b[0;32mNone\u001b[0m\u001b[0;34m)\u001b[0m\u001b[0;34m\u001b[0m\u001b[0m\n",
      "\u001b[0;32m<ipython-input-2-45dac6181cbd>\u001b[0m in \u001b[0;36minitAlgo\u001b[0;34m(self)\u001b[0m\n\u001b[1;32m     74\u001b[0m         \u001b[0ma\u001b[0m\u001b[0;34m=\u001b[0m\u001b[0mnp\u001b[0m\u001b[0;34m.\u001b[0m\u001b[0mzeros\u001b[0m\u001b[0;34m(\u001b[0m\u001b[0;34m(\u001b[0m\u001b[0mself\u001b[0m\u001b[0;34m.\u001b[0m\u001b[0mmean\u001b[0m\u001b[0;34m.\u001b[0m\u001b[0mshape\u001b[0m\u001b[0;34m[\u001b[0m\u001b[0;36m0\u001b[0m\u001b[0;34m]\u001b[0m\u001b[0;34m)\u001b[0m\u001b[0;34m,\u001b[0m\u001b[0mdtype\u001b[0m\u001b[0;34m=\u001b[0m\u001b[0;34m[\u001b[0m\u001b[0;34m(\u001b[0m\u001b[0;34m'id'\u001b[0m\u001b[0;34m,\u001b[0m\u001b[0mint\u001b[0m\u001b[0;34m)\u001b[0m\u001b[0;34m,\u001b[0m\u001b[0;34m(\u001b[0m\u001b[0;34m'mu'\u001b[0m\u001b[0;34m,\u001b[0m\u001b[0mfloat\u001b[0m\u001b[0;34m)\u001b[0m\u001b[0;34m]\u001b[0m\u001b[0;34m)\u001b[0m\u001b[0;34m\u001b[0m\u001b[0m\n\u001b[1;32m     75\u001b[0m         \u001b[0mb\u001b[0m\u001b[0;34m=\u001b[0m\u001b[0;34m[\u001b[0m\u001b[0mself\u001b[0m\u001b[0;34m.\u001b[0m\u001b[0mmean\u001b[0m\u001b[0;34m[\u001b[0m\u001b[0mi\u001b[0m\u001b[0;34m]\u001b[0m \u001b[0;32mfor\u001b[0m \u001b[0mi\u001b[0m \u001b[0;32min\u001b[0m \u001b[0mrange\u001b[0m\u001b[0;34m(\u001b[0m\u001b[0mself\u001b[0m\u001b[0;34m.\u001b[0m\u001b[0mmean\u001b[0m\u001b[0;34m.\u001b[0m\u001b[0mshape\u001b[0m\u001b[0;34m[\u001b[0m\u001b[0;36m0\u001b[0m\u001b[0;34m]\u001b[0m\u001b[0;34m)\u001b[0m\u001b[0;34m]\u001b[0m \u001b[0;31m# dump array into list\u001b[0m\u001b[0;34m\u001b[0m\u001b[0m\n\u001b[0;32m---> 76\u001b[0;31m         \u001b[0ma\u001b[0m\u001b[0;34m[\u001b[0m\u001b[0;34m:\u001b[0m\u001b[0;34m]\u001b[0m\u001b[0;34m=\u001b[0m\u001b[0mzip\u001b[0m\u001b[0;34m(\u001b[0m\u001b[0mrange\u001b[0m\u001b[0;34m(\u001b[0m\u001b[0mself\u001b[0m\u001b[0;34m.\u001b[0m\u001b[0mmean\u001b[0m\u001b[0;34m.\u001b[0m\u001b[0mshape\u001b[0m\u001b[0;34m[\u001b[0m\u001b[0;36m0\u001b[0m\u001b[0;34m]\u001b[0m\u001b[0;34m)\u001b[0m\u001b[0;34m,\u001b[0m\u001b[0mb\u001b[0m\u001b[0;34m)\u001b[0m \u001b[0;31m# fill structured array\u001b[0m\u001b[0;34m\u001b[0m\u001b[0m\n\u001b[0m\u001b[1;32m     77\u001b[0m         \u001b[0;31m#2) Sort structured array\u001b[0m\u001b[0;34m\u001b[0m\u001b[0;34m\u001b[0m\u001b[0m\n\u001b[1;32m     78\u001b[0m         \u001b[0mb\u001b[0m\u001b[0;34m=\u001b[0m\u001b[0mnp\u001b[0m\u001b[0;34m.\u001b[0m\u001b[0msort\u001b[0m\u001b[0;34m(\u001b[0m\u001b[0ma\u001b[0m\u001b[0;34m,\u001b[0m\u001b[0morder\u001b[0m\u001b[0;34m=\u001b[0m\u001b[0;34m'mu'\u001b[0m\u001b[0;34m)\u001b[0m\u001b[0;34m\u001b[0m\u001b[0m\n",
      "\u001b[0;31mTypeError\u001b[0m: a bytes-like object is required, not 'zip'"
     ]
    }
   ],
   "source": [
    "#3) Invoke object\n",
    "cla=CLA(mean,covar,lB,uB)\n",
    "cla.solve()\n",
    "print(cla.w) # print all turning points"
   ]
  },
  {
   "cell_type": "code",
   "execution_count": 15,
   "metadata": {
    "collapsed": false
   },
   "outputs": [
    {
     "ename": "ZeroDivisionError",
     "evalue": "division by zero",
     "output_type": "error",
     "traceback": [
      "\u001b[0;31m---------------------------------------------------------------------------\u001b[0m\n\u001b[0;31mZeroDivisionError\u001b[0m                         Traceback (most recent call last)",
      "\u001b[0;32m<ipython-input-15-753363e43f72>\u001b[0m in \u001b[0;36m<module>\u001b[0;34m()\u001b[0m\n\u001b[1;32m      1\u001b[0m \u001b[0;31m#4) Plot frontier\u001b[0m\u001b[0;34m\u001b[0m\u001b[0;34m\u001b[0m\u001b[0m\n\u001b[0;32m----> 2\u001b[0;31m \u001b[0mmu\u001b[0m\u001b[0;34m,\u001b[0m\u001b[0msigma\u001b[0m\u001b[0;34m,\u001b[0m\u001b[0mweights\u001b[0m\u001b[0;34m=\u001b[0m\u001b[0mcla\u001b[0m\u001b[0;34m.\u001b[0m\u001b[0mefFrontier\u001b[0m\u001b[0;34m(\u001b[0m\u001b[0;36m100\u001b[0m\u001b[0;34m)\u001b[0m\u001b[0;34m\u001b[0m\u001b[0m\n\u001b[0m\u001b[1;32m      3\u001b[0m \u001b[0mplot2D\u001b[0m\u001b[0;34m(\u001b[0m\u001b[0msigma\u001b[0m\u001b[0;34m,\u001b[0m\u001b[0mmu\u001b[0m\u001b[0;34m,\u001b[0m\u001b[0;34m'Risk'\u001b[0m\u001b[0;34m,\u001b[0m\u001b[0;34m'Expected Excess Return'\u001b[0m\u001b[0;34m,\u001b[0m\u001b[0;34m'CLA-derived Efficient Frontier'\u001b[0m\u001b[0;34m)\u001b[0m\u001b[0;34m\u001b[0m\u001b[0m\n",
      "\u001b[0;32m<ipython-input-3-45dac6181cbd>\u001b[0m in \u001b[0;36mefFrontier\u001b[0;34m(self, points)\u001b[0m\n\u001b[1;32m    263\u001b[0m         \u001b[0;31m# Get the efficient frontier\u001b[0m\u001b[0;34m\u001b[0m\u001b[0;34m\u001b[0m\u001b[0m\n\u001b[1;32m    264\u001b[0m         \u001b[0mmu\u001b[0m\u001b[0;34m,\u001b[0m\u001b[0msigma\u001b[0m\u001b[0;34m,\u001b[0m\u001b[0mweights\u001b[0m\u001b[0;34m=\u001b[0m\u001b[0;34m[\u001b[0m\u001b[0;34m]\u001b[0m\u001b[0;34m,\u001b[0m\u001b[0;34m[\u001b[0m\u001b[0;34m]\u001b[0m\u001b[0;34m,\u001b[0m\u001b[0;34m[\u001b[0m\u001b[0;34m]\u001b[0m\u001b[0;34m\u001b[0m\u001b[0m\n\u001b[0;32m--> 265\u001b[0;31m         \u001b[0ma\u001b[0m\u001b[0;34m=\u001b[0m\u001b[0mnp\u001b[0m\u001b[0;34m.\u001b[0m\u001b[0mlinspace\u001b[0m\u001b[0;34m(\u001b[0m\u001b[0;36m0\u001b[0m\u001b[0;34m,\u001b[0m\u001b[0;36m1\u001b[0m\u001b[0;34m,\u001b[0m\u001b[0mpoints\u001b[0m\u001b[0;34m/\u001b[0m\u001b[0mlen\u001b[0m\u001b[0;34m(\u001b[0m\u001b[0mself\u001b[0m\u001b[0;34m.\u001b[0m\u001b[0mw\u001b[0m\u001b[0;34m)\u001b[0m\u001b[0;34m)\u001b[0m\u001b[0;34m[\u001b[0m\u001b[0;34m:\u001b[0m\u001b[0;34m-\u001b[0m\u001b[0;36m1\u001b[0m\u001b[0;34m]\u001b[0m \u001b[0;31m# remove the 1, to avoid duplications\u001b[0m\u001b[0;34m\u001b[0m\u001b[0m\n\u001b[0m\u001b[1;32m    266\u001b[0m         \u001b[0mb\u001b[0m\u001b[0;34m=\u001b[0m\u001b[0mrange\u001b[0m\u001b[0;34m(\u001b[0m\u001b[0mlen\u001b[0m\u001b[0;34m(\u001b[0m\u001b[0mself\u001b[0m\u001b[0;34m.\u001b[0m\u001b[0mw\u001b[0m\u001b[0;34m)\u001b[0m\u001b[0;34m-\u001b[0m\u001b[0;36m1\u001b[0m\u001b[0;34m)\u001b[0m\u001b[0;34m\u001b[0m\u001b[0m\n\u001b[1;32m    267\u001b[0m         \u001b[0;32mfor\u001b[0m \u001b[0mi\u001b[0m \u001b[0;32min\u001b[0m \u001b[0mb\u001b[0m\u001b[0;34m:\u001b[0m\u001b[0;34m\u001b[0m\u001b[0m\n",
      "\u001b[0;31mZeroDivisionError\u001b[0m: division by zero"
     ]
    }
   ],
   "source": [
    "#4) Plot frontier\n",
    "mu,sigma,weights=cla.efFrontier(100)\n",
    "plot2D(sigma,mu,'Risk','Expected Excess Return','CLA-derived Efficient Frontier')"
   ]
  },
  {
   "cell_type": "code",
   "execution_count": 16,
   "metadata": {
    "collapsed": false
   },
   "outputs": [
    {
     "ename": "ValueError",
     "evalue": "max() arg is an empty sequence",
     "output_type": "error",
     "traceback": [
      "\u001b[0;31m---------------------------------------------------------------------------\u001b[0m\n\u001b[0;31mValueError\u001b[0m                                Traceback (most recent call last)",
      "\u001b[0;32m<ipython-input-16-f30279bb0718>\u001b[0m in \u001b[0;36m<module>\u001b[0;34m()\u001b[0m\n\u001b[1;32m      1\u001b[0m \u001b[0;31m#5) Get Maximum Sharpe ratio portfolio\u001b[0m\u001b[0;34m\u001b[0m\u001b[0;34m\u001b[0m\u001b[0m\n\u001b[0;32m----> 2\u001b[0;31m \u001b[0msr\u001b[0m\u001b[0;34m,\u001b[0m\u001b[0mw_sr\u001b[0m\u001b[0;34m=\u001b[0m\u001b[0mcla\u001b[0m\u001b[0;34m.\u001b[0m\u001b[0mgetMaxSR\u001b[0m\u001b[0;34m(\u001b[0m\u001b[0;34m)\u001b[0m\u001b[0;34m\u001b[0m\u001b[0m\n\u001b[0m\u001b[1;32m      3\u001b[0m \u001b[0mprint\u001b[0m\u001b[0;34m(\u001b[0m\u001b[0mnp\u001b[0m\u001b[0;34m.\u001b[0m\u001b[0mdot\u001b[0m\u001b[0;34m(\u001b[0m\u001b[0mnp\u001b[0m\u001b[0;34m.\u001b[0m\u001b[0mdot\u001b[0m\u001b[0;34m(\u001b[0m\u001b[0mw_sr\u001b[0m\u001b[0;34m.\u001b[0m\u001b[0mT\u001b[0m\u001b[0;34m,\u001b[0m\u001b[0mcla\u001b[0m\u001b[0;34m.\u001b[0m\u001b[0mcovar\u001b[0m\u001b[0;34m)\u001b[0m\u001b[0;34m,\u001b[0m\u001b[0mw_sr\u001b[0m\u001b[0;34m)\u001b[0m\u001b[0;34m[\u001b[0m\u001b[0;36m0\u001b[0m\u001b[0;34m,\u001b[0m\u001b[0;36m0\u001b[0m\u001b[0;34m]\u001b[0m\u001b[0;34m**\u001b[0m\u001b[0;36m.5\u001b[0m\u001b[0;34m,\u001b[0m\u001b[0msr\u001b[0m\u001b[0;34m)\u001b[0m\u001b[0;34m\u001b[0m\u001b[0m\n\u001b[1;32m      4\u001b[0m \u001b[0mprint\u001b[0m\u001b[0;34m(\u001b[0m\u001b[0mw_sr\u001b[0m\u001b[0;34m)\u001b[0m\u001b[0;34m\u001b[0m\u001b[0m\n",
      "\u001b[0;32m<ipython-input-3-45dac6181cbd>\u001b[0m in \u001b[0;36mgetMaxSR\u001b[0;34m(self)\u001b[0m\n\u001b[1;32m    226\u001b[0m             \u001b[0mw_sr\u001b[0m\u001b[0;34m.\u001b[0m\u001b[0mappend\u001b[0m\u001b[0;34m(\u001b[0m\u001b[0ma\u001b[0m\u001b[0;34m*\u001b[0m\u001b[0mw0\u001b[0m\u001b[0;34m+\u001b[0m\u001b[0;34m(\u001b[0m\u001b[0;36m1\u001b[0m\u001b[0;34m-\u001b[0m\u001b[0ma\u001b[0m\u001b[0;34m)\u001b[0m\u001b[0;34m*\u001b[0m\u001b[0mw1\u001b[0m\u001b[0;34m)\u001b[0m\u001b[0;34m\u001b[0m\u001b[0m\n\u001b[1;32m    227\u001b[0m             \u001b[0msr\u001b[0m\u001b[0;34m.\u001b[0m\u001b[0mappend\u001b[0m\u001b[0;34m(\u001b[0m\u001b[0mb\u001b[0m\u001b[0;34m)\u001b[0m\u001b[0;34m\u001b[0m\u001b[0m\n\u001b[0;32m--> 228\u001b[0;31m         \u001b[0;32mreturn\u001b[0m \u001b[0mmax\u001b[0m\u001b[0;34m(\u001b[0m\u001b[0msr\u001b[0m\u001b[0;34m)\u001b[0m\u001b[0;34m,\u001b[0m\u001b[0mw_sr\u001b[0m\u001b[0;34m[\u001b[0m\u001b[0msr\u001b[0m\u001b[0;34m.\u001b[0m\u001b[0mindex\u001b[0m\u001b[0;34m(\u001b[0m\u001b[0mmax\u001b[0m\u001b[0;34m(\u001b[0m\u001b[0msr\u001b[0m\u001b[0;34m)\u001b[0m\u001b[0;34m)\u001b[0m\u001b[0;34m]\u001b[0m\u001b[0;34m\u001b[0m\u001b[0m\n\u001b[0m\u001b[1;32m    229\u001b[0m \u001b[0;31m#---------------------------------------------------------------\u001b[0m\u001b[0;34m\u001b[0m\u001b[0;34m\u001b[0m\u001b[0m\n\u001b[1;32m    230\u001b[0m     \u001b[0;32mdef\u001b[0m \u001b[0mevalSR\u001b[0m\u001b[0;34m(\u001b[0m\u001b[0mself\u001b[0m\u001b[0;34m,\u001b[0m\u001b[0ma\u001b[0m\u001b[0;34m,\u001b[0m\u001b[0mw0\u001b[0m\u001b[0;34m,\u001b[0m\u001b[0mw1\u001b[0m\u001b[0;34m)\u001b[0m\u001b[0;34m:\u001b[0m\u001b[0;34m\u001b[0m\u001b[0m\n",
      "\u001b[0;31mValueError\u001b[0m: max() arg is an empty sequence"
     ]
    }
   ],
   "source": [
    "#5) Get Maximum Sharpe ratio portfolio\n",
    "sr,w_sr=cla.getMaxSR()\n",
    "print(np.dot(np.dot(w_sr.T,cla.covar),w_sr)[0,0]**.5,sr)\n",
    "print(w_sr)"
   ]
  },
  {
   "cell_type": "code",
   "execution_count": 17,
   "metadata": {
    "collapsed": false
   },
   "outputs": [
    {
     "ename": "ValueError",
     "evalue": "min() arg is an empty sequence",
     "output_type": "error",
     "traceback": [
      "\u001b[0;31m---------------------------------------------------------------------------\u001b[0m\n\u001b[0;31mValueError\u001b[0m                                Traceback (most recent call last)",
      "\u001b[0;32m<ipython-input-17-e11e3fc1e732>\u001b[0m in \u001b[0;36m<module>\u001b[0;34m()\u001b[0m\n\u001b[1;32m      1\u001b[0m \u001b[0;31m#6) Get Minimum Variance portfolio\u001b[0m\u001b[0;34m\u001b[0m\u001b[0;34m\u001b[0m\u001b[0m\n\u001b[0;32m----> 2\u001b[0;31m \u001b[0mmv\u001b[0m\u001b[0;34m,\u001b[0m\u001b[0mw_mv\u001b[0m\u001b[0;34m=\u001b[0m\u001b[0mcla\u001b[0m\u001b[0;34m.\u001b[0m\u001b[0mgetMinVar\u001b[0m\u001b[0;34m(\u001b[0m\u001b[0;34m)\u001b[0m\u001b[0;34m\u001b[0m\u001b[0m\n\u001b[0m\u001b[1;32m      3\u001b[0m \u001b[0mprint\u001b[0m\u001b[0;34m(\u001b[0m\u001b[0mmv\u001b[0m\u001b[0;34m)\u001b[0m\u001b[0;34m\u001b[0m\u001b[0m\n\u001b[1;32m      4\u001b[0m \u001b[0mprint\u001b[0m\u001b[0;34m(\u001b[0m\u001b[0mw_mv\u001b[0m\u001b[0;34m)\u001b[0m\u001b[0;34m\u001b[0m\u001b[0m\n",
      "\u001b[0;32m<ipython-input-3-45dac6181cbd>\u001b[0m in \u001b[0;36mgetMinVar\u001b[0;34m(self)\u001b[0m\n\u001b[1;32m    213\u001b[0m             \u001b[0ma\u001b[0m\u001b[0;34m=\u001b[0m\u001b[0mnp\u001b[0m\u001b[0;34m.\u001b[0m\u001b[0mdot\u001b[0m\u001b[0;34m(\u001b[0m\u001b[0mnp\u001b[0m\u001b[0;34m.\u001b[0m\u001b[0mdot\u001b[0m\u001b[0;34m(\u001b[0m\u001b[0mw\u001b[0m\u001b[0;34m.\u001b[0m\u001b[0mT\u001b[0m\u001b[0;34m,\u001b[0m\u001b[0mself\u001b[0m\u001b[0;34m.\u001b[0m\u001b[0mcovar\u001b[0m\u001b[0;34m)\u001b[0m\u001b[0;34m,\u001b[0m\u001b[0mw\u001b[0m\u001b[0;34m)\u001b[0m\u001b[0;34m\u001b[0m\u001b[0m\n\u001b[1;32m    214\u001b[0m             \u001b[0mvar\u001b[0m\u001b[0;34m.\u001b[0m\u001b[0mappend\u001b[0m\u001b[0;34m(\u001b[0m\u001b[0ma\u001b[0m\u001b[0;34m)\u001b[0m\u001b[0;34m\u001b[0m\u001b[0m\n\u001b[0;32m--> 215\u001b[0;31m         \u001b[0;32mreturn\u001b[0m \u001b[0mmin\u001b[0m\u001b[0;34m(\u001b[0m\u001b[0mvar\u001b[0m\u001b[0;34m)\u001b[0m\u001b[0;34m**\u001b[0m\u001b[0;36m.5\u001b[0m\u001b[0;34m,\u001b[0m\u001b[0mself\u001b[0m\u001b[0;34m.\u001b[0m\u001b[0mw\u001b[0m\u001b[0;34m[\u001b[0m\u001b[0mvar\u001b[0m\u001b[0;34m.\u001b[0m\u001b[0mindex\u001b[0m\u001b[0;34m(\u001b[0m\u001b[0mmin\u001b[0m\u001b[0;34m(\u001b[0m\u001b[0mvar\u001b[0m\u001b[0;34m)\u001b[0m\u001b[0;34m)\u001b[0m\u001b[0;34m]\u001b[0m\u001b[0;34m\u001b[0m\u001b[0m\n\u001b[0m\u001b[1;32m    216\u001b[0m \u001b[0;31m#---------------------------------------------------------------\u001b[0m\u001b[0;34m\u001b[0m\u001b[0;34m\u001b[0m\u001b[0m\n\u001b[1;32m    217\u001b[0m     \u001b[0;32mdef\u001b[0m \u001b[0mgetMaxSR\u001b[0m\u001b[0;34m(\u001b[0m\u001b[0mself\u001b[0m\u001b[0;34m)\u001b[0m\u001b[0;34m:\u001b[0m\u001b[0;34m\u001b[0m\u001b[0m\n",
      "\u001b[0;31mValueError\u001b[0m: min() arg is an empty sequence"
     ]
    }
   ],
   "source": [
    "#6) Get Minimum Variance portfolio\n",
    "mv,w_mv=cla.getMinVar()\n",
    "print(mv)\n",
    "print(w_mv)"
   ]
  },
  {
   "cell_type": "code",
   "execution_count": null,
   "metadata": {
    "collapsed": false
   },
   "outputs": [],
   "source": []
  }
 ],
 "metadata": {
  "anaconda-cloud": {},
  "kernelspec": {
   "display_name": "Python [default]",
   "language": "python",
   "name": "python3"
  },
  "language_info": {
   "codemirror_mode": {
    "name": "ipython",
    "version": 3
   },
   "file_extension": ".py",
   "mimetype": "text/x-python",
   "name": "python",
   "nbconvert_exporter": "python",
   "pygments_lexer": "ipython3",
   "version": "3.5.2"
  }
 },
 "nbformat": 4,
 "nbformat_minor": 0
}
