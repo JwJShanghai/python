{
 "cells": [
  {
   "cell_type": "code",
   "execution_count": 3,
   "metadata": {
    "collapsed": false
   },
   "outputs": [],
   "source": [
    "import random\n",
    "import itertools\n",
    "\n",
    "def deal(numhands, n=5, whole_cards=0, deck = [r+s for r in '23456789TJQKA' for s in 'SHDC']):\n",
    "\trandom.shuffle(deck)\n",
    "\treturn [deck[n*i:n*(i+1)] for i in range(numhands)], deck[-1-whole_cards:-1]\n",
    "\n",
    "def hand_rank(hand):\n",
    "\t\"Return a value indicating how high the hand ranks.\"\n",
    "\t# counts is the count of each rank; ranks lists corresponding ranks\n",
    "\t# e.g. '7 T 7 9 7' => counts = (3, 1, 1); ranks = (7, 10, 9)\n",
    "\tgroups = group(['--23456789TJQKA'.index(r) for r,s in hand])\n",
    "\tcounts, ranks = unzip(groups)\n",
    "\tif ranks == (14, 5, 4, 3, 2):\n",
    "\t\tranks = (5, 4, 3, 2, 1)\n",
    "\tstraight = len(ranks) == 5 and max(ranks)-min(ranks) == 4\n",
    "\tflush = len(set([s for r,s in hand])) == 1\n",
    "\treturn max(count_rankings[counts], 4*straight + 5*flush), ranks\n",
    "\n",
    "count_rankings = {(5,):10, (4, 1):7, (3, 2):6, (3, 1, 1):3, (2, 2, 1):2, (2, 1, 1, 1):1, (1, 1, 1, 1, 1):0}\t\n",
    "\n",
    "def group(items):\n",
    "\t\"Return a list of [(count, x)...], highest count first, then highest x first.\"\n",
    "\tgroups = [(items.count(x), x) for x in set(items)]\n",
    "\treturn sorted(groups, reverse=True)\n",
    "\n",
    "def unzip(pairs): return zip(*pairs)\n",
    "\n",
    "hand_names = ['High Card', 'Pair', '2 Pair', '3 of a Kind', 'Straight', 'Flush', 'Full House', '4 of a Kind', '***', 'Straight Flush', '5 of a Kind']"
   ]
  },
  {
   "cell_type": "code",
   "execution_count": 5,
   "metadata": {
    "collapsed": false
   },
   "outputs": [
    {
     "name": "stdout",
     "output_type": "stream",
     "text": [
      "5 of a Kind:        0.000%\n",
      "Straight Flush:        0.000%\n",
      "***:        0.000%\n",
      "4 of a Kind:        0.000%\n",
      "Full House:        0.000%\n",
      "Flush:        0.143%\n",
      "Straight:        0.429%\n",
      "3 of a Kind:        1.429%\n",
      "2 Pair:        4.857%\n",
      "Pair:        40.429%\n",
      "High Card:        52.714%\n"
     ]
    }
   ],
   "source": [
    "def hand_percentages(n=700):\n",
    "    \"Sample n random hands and print a table of percentages for each type of hand.\"\n",
    "    counts = [0] * 11\n",
    "    for i in range(n):\n",
    "        cards_dealt, whole_cards = deal(1)\n",
    "        for hand in cards_dealt:\n",
    "            ranking = hand_rank(hand)[0]\n",
    "            counts[ranking] += 1\n",
    "    for i in reversed(range(11)):\n",
    "        print('{}:        {:.3%}'.format(hand_names[i], counts[i]/n))\n",
    "\n",
    "hand_percentages(700)"
   ]
  },
  {
   "cell_type": "code",
   "execution_count": 7,
   "metadata": {
    "collapsed": false
   },
   "outputs": [
    {
     "name": "stdout",
     "output_type": "stream",
     "text": [
      "['AD', 'KD'] [['KH', '9D', '7H', 'TH', '5D'], ['JD', 'QD', '4C', '4D', '3C'], ['TD', '8H', 'KS', 'QS', '8C'], ['TS', 'QH', 'JS', 'AS', '2D']]\n",
      "((1, (13, 14, 10, 9)), ('KH', '9D', 'TH', 'AD', 'KD'))\n",
      "((5, (14, 13, 12, 11, 4)), ('JD', 'QD', '4D', 'AD', 'KD'))\n",
      "((2, (13, 8, 14)), ('8H', 'KS', '8C', 'AD', 'KD'))\n",
      "((4, (14, 13, 12, 11, 10)), ('TS', 'QH', 'JS', 'AS', 'KD'))\n",
      "winner:  ((5, (14, 13, 12, 11, 4)), ('JD', 'QD', '4D', 'AD', 'KD'))\n"
     ]
    }
   ],
   "source": [
    "# 7-card Stud using a deal(players, cards, whole cards)\n",
    "cards_dealt, whole_cards = deal(4, 5, 2)\n",
    "print (whole_cards, cards_dealt)\n",
    "winner = []\n",
    "for player in cards_dealt:\n",
    "\tplayer_hand_ranks = []\n",
    "\tfor hand in itertools.combinations(player + whole_cards, 5):\n",
    "\t\tplayer_hand_ranks.append((hand_rank(hand), hand))\n",
    "\tbest_hand = max(player_hand_ranks)\n",
    "\tprint(best_hand)\n",
    "\twinner.append(best_hand)\n",
    "print( 'winner: ', max(winner))"
   ]
  },
  {
   "cell_type": "code",
   "execution_count": 4,
   "metadata": {
    "collapsed": false
   },
   "outputs": [],
   "source": []
  },
  {
   "cell_type": "code",
   "execution_count": null,
   "metadata": {
    "collapsed": false
   },
   "outputs": [],
   "source": []
  }
 ],
 "metadata": {
  "anaconda-cloud": {},
  "kernelspec": {
   "display_name": "Python [default]",
   "language": "python",
   "name": "python3"
  },
  "language_info": {
   "codemirror_mode": {
    "name": "ipython",
    "version": 3
   },
   "file_extension": ".py",
   "mimetype": "text/x-python",
   "name": "python",
   "nbconvert_exporter": "python",
   "pygments_lexer": "ipython3",
   "version": "3.5.2"
  }
 },
 "nbformat": 4,
 "nbformat_minor": 0
}
