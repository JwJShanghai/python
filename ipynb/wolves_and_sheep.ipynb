{
 "metadata": {
  "name": "",
  "signature": "sha256:d7ede9220c778732fc8d5b1773d4ef75b62608c568c0631f4cc1cbade46dd6eb"
 },
 "nbformat": 3,
 "nbformat_minor": 0,
 "worksheets": [
  {
   "cells": [
    {
     "cell_type": "code",
     "collapsed": false,
     "input": [
      "import matplotlib.pyplot as plt\n",
      "%matplotlib inline"
     ],
     "language": "python",
     "metadata": {},
     "outputs": [],
     "prompt_number": 1
    },
    {
     "cell_type": "code",
     "collapsed": false,
     "input": [
      "def next_gen(wp, sp, rp):\n",
      "    wp_next = wp + wp * wb - (rp * wp * rwm * rwk) + (sp/ws)\n",
      "    sp_next = sp + sp * sb - (wp * sp * wsm * wsk) + (sp/ws)\n",
      "    rp_next = rp + rp * (rb - rd) - (wp * rp * rwm * wrk) + (sp/rs)\n",
      "    return wp_next, sp_next, rp_next"
     ],
     "language": "python",
     "metadata": {},
     "outputs": [],
     "prompt_number": 54
    },
    {
     "cell_type": "code",
     "collapsed": false,
     "input": [
      "def next_gen2(Pw, Ps, Pr):\n",
      "    Pw_next = Pw + (Ps * Pw * Msw * Ksw) - (Pr * Pw * Mrw * Krw)\n",
      "    Ps_next = Ps - (Ps * Pw * Msw * Ksw)\n",
      "    Pr_next = Pr + (Ps//1000)\n",
      "    return Pw_next, Ps_next, Pr_next"
     ],
     "language": "python",
     "metadata": {},
     "outputs": [],
     "prompt_number": 77
    },
    {
     "cell_type": "code",
     "collapsed": false,
     "input": [
      "Pw = 20\n",
      "Ps = 10000\n",
      "Pr = 20\n",
      "    \n",
      "Bw = .02\n",
      "Bs = .02\n",
      "\n",
      "Msw = .05\n",
      "Ksw = .5\n",
      "\n",
      "Mrw = .01\n",
      "Krw = .2\n",
      "\n",
      "    \n",
      "T = [t for t in range(101)]"
     ],
     "language": "python",
     "metadata": {},
     "outputs": [],
     "prompt_number": 78
    },
    {
     "cell_type": "code",
     "collapsed": false,
     "input": [
      "population = [(Pw, Ps, Pr)]"
     ],
     "language": "python",
     "metadata": {},
     "outputs": [],
     "prompt_number": 79
    },
    {
     "cell_type": "code",
     "collapsed": false,
     "input": [
      "for year in T:\n",
      "    Pw, Ps, Pr = next_gen2(Pw, Ps, Pr)\n",
      "    population.append((Pw, Ps, Pr))"
     ],
     "language": "python",
     "metadata": {},
     "outputs": [],
     "prompt_number": 80
    },
    {
     "cell_type": "code",
     "collapsed": false,
     "input": [
      "population[:20]"
     ],
     "language": "python",
     "metadata": {},
     "outputs": [
      {
       "metadata": {},
       "output_type": "pyout",
       "prompt_number": 81,
       "text": [
        "[(20, 10000, 20),\n",
        " (5019.2, 5000.0, 30),\n",
        " (632118.048, -622400.0, 35.0),\n",
        " (-9835168957.095358, 9835134426.88, -588.0),\n",
        " (-2.418255241504078e+18, 2.4182552299378847e+18, 9834546.0),\n",
        " (-1.461989596272509e+35, 1.4619895962729846e+35, 2418255239772430.0),\n",
        " (-5.343533949024373e+68, 5.343533949024373e+68, 1.4619895962729846e+32),\n",
        " (-7.138338766094004e+135, 7.138338766094004e+135, 5.3435339490243735e+65),\n",
        " (-1.273897008488012e+270, 1.273897008488012e+270, 7.138338766094004e+132),\n",
        " (nan, inf, 1.273897008488012e+267),\n",
        " (nan, nan, nan),\n",
        " (nan, nan, nan),\n",
        " (nan, nan, nan),\n",
        " (nan, nan, nan),\n",
        " (nan, nan, nan),\n",
        " (nan, nan, nan),\n",
        " (nan, nan, nan),\n",
        " (nan, nan, nan),\n",
        " (nan, nan, nan),\n",
        " (nan, nan, nan)]"
       ]
      }
     ],
     "prompt_number": 81
    },
    {
     "cell_type": "code",
     "collapsed": false,
     "input": [
      "plt.plot(population)"
     ],
     "language": "python",
     "metadata": {},
     "outputs": [
      {
       "metadata": {},
       "output_type": "pyout",
       "prompt_number": 68,
       "text": [
        "[<matplotlib.lines.Line2D at 0x108fd3850>,\n",
        " <matplotlib.lines.Line2D at 0x108faef50>,\n",
        " <matplotlib.lines.Line2D at 0x108fd3e50>]"
       ]
      },
      {
       "metadata": {},
       "output_type": "display_data",
       "png": "[encoded data removed]",
       "text": [
        "<matplotlib.figure.Figure at 0x108df0790>"
       ]
      }
     ],
     "prompt_number": 68
    }
   ],
   "metadata": {}
  }
 ]
}