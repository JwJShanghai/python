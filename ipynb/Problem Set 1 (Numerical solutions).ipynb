{
 "metadata": {
  "name": ""
 },
 "nbformat": 3,
 "nbformat_minor": 0,
 "worksheets": [
  {
   "cells": [
    {
     "cell_type": "code",
     "collapsed": false,
     "input": [
      "import numpy as np\n",
      "from scipy.optimize import minimize"
     ],
     "language": "python",
     "metadata": {},
     "outputs": [],
     "prompt_number": 1
    },
    {
     "cell_type": "code",
     "collapsed": false,
     "input": [
      "C = np.array([[8, -2, 4], [-2, 2, -2],[4,-2,8]])/1000    # C is the covariance array (analogous to V)\n",
      "R = np.array([.06, .02, .04])                            # R is a return array (analogous to muvec)\n",
      "W = np.ones([len(R)])/len(R)                             # W is the weight array (analogous to X): starts with equal weighting\n",
      "rf = .01"
     ],
     "language": "python",
     "metadata": {},
     "outputs": [],
     "prompt_number": 2
    },
    {
     "cell_type": "code",
     "collapsed": false,
     "input": [
      "def mu_port(W, R):                      # Calculates the portfolio return\n",
      "    return np.dot(R, W)\n",
      "\n",
      "def var_port(W, C):                     # Calculates the portfolio variance (not the SD)\n",
      "    return np.dot(W, np.dot(C, W))"
     ],
     "language": "python",
     "metadata": {},
     "outputs": [],
     "prompt_number": 3
    },
    {
     "cell_type": "code",
     "collapsed": false,
     "input": [
      "Mu = mu_port(W, R)\n",
      "Var = var_port(W, C)\n",
      "print(\"Equal weights are: {}\".format(W))\n",
      "print(\"Return with Equal weights is: {:.2%} with volatility of: {:.2%}\".format(Mu, np.sqrt(Var)))"
     ],
     "language": "python",
     "metadata": {},
     "outputs": [
      {
       "output_type": "stream",
       "stream": "stdout",
       "text": [
        "Equal weights are: [ 0.33333333  0.33333333  0.33333333]\n",
        "Return with Equal weights is: 4.00% with volatility of: 4.47%\n"
       ]
      }
     ],
     "prompt_number": 4
    },
    {
     "cell_type": "code",
     "collapsed": false,
     "input": [
      "def min_var_optimize(W, C, rf):                                                # takes W and C (doesn't use rf) and returns a new\n",
      "    def mvp(W, C, rf):                                                         # vector of optimum weights\n",
      "        return var_port(W, C)\n",
      "    W = np.ones([len(R)])/len(R)\n",
      "    b_ = [(0., 1.) for i in range(len(R))]                                     # weights between 0 and 100%, no shorts\n",
      "    c_ = ({'type':'eq', 'fun': lambda W: sum(W)-1. })                          # weights must add to 100%\n",
      "    res = minimize(mvp, W, (C, rf), method='SLSQP', constraints=c_, bounds=b_) # the magic scipy function! (look it up for more info)\n",
      "    if not res.success:\n",
      "        raise BaseException(res.message)\n",
      "    return res.x"
     ],
     "language": "python",
     "metadata": {},
     "outputs": [],
     "prompt_number": 5
    },
    {
     "cell_type": "code",
     "collapsed": false,
     "input": [
      "minvar_W = min_var_optimize(W, C, rf)\n",
      "print(\"Min Var weights are: {} (sum: {:.2f})\".format(minvar_W, minvar_W.sum()))\n",
      "print(\"Min Var Portfolio return is: {:.2%} with a volatility of: {:.2%}\".format(mu_port(minvar_W, R), np.sqrt(var_port(minvar_W, C))))"
     ],
     "language": "python",
     "metadata": {},
     "outputs": [
      {
       "output_type": "stream",
       "stream": "stdout",
       "text": [
        "Min Var weights are: [ 0.16666666  0.66666667  0.16666666] (sum: 1.00)\n",
        "Min Var Portfolio return is: 3.00% with a volatility of: 2.58%\n"
       ]
      }
     ],
     "prompt_number": 6
    },
    {
     "cell_type": "code",
     "collapsed": false,
     "input": [
      "def tangent_optimize(W, C, rf):\n",
      "    def Sharpe(W, C, rf):\n",
      "        mean, var = mu_port(W, R), var_port(W, C) \n",
      "        util = (mean - rf) / np.sqrt(var)               # calculates the Sharpe Ratio\n",
      "        return 1/util                                   # maximize utility, minimize the function so we can use the minimize function\n",
      "    W = np.ones([len(R)])/len(R)                        # start with equal weights if not already set (not necessary)\n",
      "    b_ = [(0., 1.) for i in range(len(R))]              # weights between 0 and 100%, no shorts\n",
      "    c_ = ({'type':'eq', 'fun': lambda W: sum(W)-1. })   # weights must add to 100%\n",
      "    res = minimize(Sharpe, W, (C, rf), method='SLSQP', constraints=c_, bounds=b_) # the magic scipy function! (look it up for more info)\n",
      "    if not res.success:\n",
      "        raise BaseException(res.message)\n",
      "    return res.x"
     ],
     "language": "python",
     "metadata": {},
     "outputs": [],
     "prompt_number": 7
    },
    {
     "cell_type": "code",
     "collapsed": false,
     "input": [
      "Sharpe_W = tangent_optimize(W, C, rf)\n",
      "print(\"Sharpe Optimal weights are: {} (sum: {:.2f})\".format(Sharpe_W, Sharpe_W.sum())) # close to empirical solution but not exact\n",
      "print(\"Sharpe Optimal Portfolio return is: {:.2%} with a volatility of: {:.2%}\".format(mu_port(Sharpe_W, R), np.sqrt(var_port(Sharpe_W, C))))"
     ],
     "language": "python",
     "metadata": {},
     "outputs": [
      {
       "output_type": "stream",
       "stream": "stdout",
       "text": [
        "Sharpe Optimal weights are: [ 0.29167043  0.58333032  0.12499925] (sum: 1.00)\n",
        "Sharpe Optimal Portfolio return is: 3.42% with a volatility of: 2.84%\n"
       ]
      }
     ],
     "prompt_number": 8
    },
    {
     "cell_type": "code",
     "collapsed": false,
     "input": [
      "Sharpe_ratio = (mu_port(Sharpe_W, R) - rf) / np.sqrt(var_port(Sharpe_W, C))\n",
      "print(\"Sharpe ratio is: {:.2}\".format(Sharpe_ratio))"
     ],
     "language": "python",
     "metadata": {},
     "outputs": [
      {
       "output_type": "stream",
       "stream": "stdout",
       "text": [
        "Sharpe ratio is: 0.85\n"
       ]
      }
     ],
     "prompt_number": 9
    },
    {
     "cell_type": "code",
     "collapsed": false,
     "input": [
      "Q7_return = rf + Sharpe_ratio*.05\n",
      "print(\"Expected return for a volatility of 5% is: {:.2%}\".format(Q7_return))"
     ],
     "language": "python",
     "metadata": {},
     "outputs": [
      {
       "output_type": "stream",
       "stream": "stdout",
       "text": [
        "Expected return for a volatility of 5% is: 5.26%\n"
       ]
      }
     ],
     "prompt_number": 10
    },
    {
     "cell_type": "code",
     "collapsed": false,
     "input": [],
     "language": "python",
     "metadata": {},
     "outputs": []
    }
   ],
   "metadata": {}
  }
 ]
}