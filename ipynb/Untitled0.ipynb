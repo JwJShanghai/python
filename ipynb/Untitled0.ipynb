{
 "metadata": {
  "language": "Julia",
  "name": "",
  "signature": "sha256:b93a12761fd9981f687598c79bc95b2d7c18ba433d90423b441d6b3a840305f4"
 },
 "nbformat": 3,
 "nbformat_minor": 0,
 "worksheets": [
  {
   "cells": [
    {
     "cell_type": "code",
     "collapsed": false,
     "input": [
      "using RDatasets\n",
      "using Gadfly\n",
      "set_default_plot_size(9inch, 9inch/golden);\n",
      "using Stats"
     ],
     "language": "python",
     "metadata": {},
     "outputs": [],
     "prompt_number": 6
    },
    {
     "cell_type": "code",
     "collapsed": false,
     "input": [
      "plot(dataset(\"ggplot2\", \"diamonds\"), x=\"Price\", color=\"Cut\", Geom.density)"
     ],
     "language": "python",
     "metadata": {},
     "outputs": [
      {
       "ename": "ErrorException",
       "evalue": "KDE is currently not available for your version of Julia.",
       "output_type": "pyerr",
       "traceback": [
        "KDE is currently not available for your version of Julia.",
        " in apply_statistic at /Users/davekensinger/.julia/Gadfly/src/statistics.jl:220",
        " in apply_statistics at /Users/davekensinger/.julia/Gadfly/src/statistics.jl:35",
        " in render at /Users/davekensinger/.julia/Gadfly/src/Gadfly.jl:640",
        " in writemime at /Users/davekensinger/.julia/Gadfly/src/Gadfly.jl:751",
        " in sprint at io.jl:434",
        " in display_dict at /Users/davekensinger/.julia/IJulia/src/execute_request.jl:35"
       ]
      }
     ],
     "prompt_number": 7
    },
    {
     "cell_type": "code",
     "collapsed": false,
     "input": [],
     "language": "python",
     "metadata": {},
     "outputs": []
    }
   ],
   "metadata": {}
  }
 ]
}