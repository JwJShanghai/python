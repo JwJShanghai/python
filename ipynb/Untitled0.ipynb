{
 "metadata": {
  "name": ""
 },
 "nbformat": 3,
 "nbformat_minor": 0,
 "worksheets": [
  {
   "cells": [
    {
     "cell_type": "code",
     "collapsed": false,
     "input": [
      "'''\n",
      "Brute-force, backtracking Sudoku solver in about fifteen lines.\n",
      "\n",
      "Works on Python 2.6 and Python 3.\n",
      "'''\n",
      "def solve(s):\n",
      "    ''' \n",
      "    Solve a Sudoku:\n",
      "\n",
      "    - Accepts s, a sequence of 81 integers from 0 to 9 in row of\n",
      "    column order, zeros indicating the cells to fill.\n",
      "\n",
      "    - Returns the first found solution as a sequence of 81 integers in\n",
      "    the 1 to 9 interval (same row or column order than input), or None\n",
      "    if no solution exists.\n",
      "    '''\n",
      "    try:\n",
      "        i  = s.index(0)\n",
      "    except ValueError: \n",
      "        # No empty cell left: solution found\n",
      "        return s\n",
      "\n",
      "    c = [s[j] for j in range(81)\n",
      "         if not ((i-j)%9 * (i//9^j//9) * (i//27^j//27 | (i%9//3^j%9//3)))]\n",
      "\n",
      "    for v in range(1, 10):\n",
      "        if v not in c:\n",
      "            r = solve(s[:i]+[v]+s[i+1:])\n",
      "            if r is not None:\n",
      "                return r\n",
      "\n",
      "#-------------------------------------------------------------------------------\n",
      "# Let's test it!\n",
      "#\n",
      "if __name__ == '__main__':\n",
      "    class Sudoku(list):\n",
      "        '''Sudokus with nicer IO'''\n",
      "        def __init__(self, content):\n",
      "            list.__init__(self, [int(i) for i in content.split()] \n",
      "                          if isinstance(content, str) else content)\n",
      "        def __str__(self):\n",
      "            return '\\n'.join(\n",
      "                ' '.join([(str(j) if j != 0 else '-') \n",
      "                          for j in self[i*9:(i+1)*9]]) for i in range(9))"
     ],
     "language": "python",
     "metadata": {},
     "outputs": [],
     "prompt_number": 21
    },
    {
     "cell_type": "code",
     "collapsed": false,
     "input": [
      "problem = Sudoku('''\n",
      "        5 3 0 0 7 0 0 0 0\n",
      "        6 0 0 1 9 5 0 0 0\n",
      "        0 9 8 0 0 0 0 6 0\n",
      "        8 0 0 0 6 0 0 0 3\n",
      "        4 0 0 8 0 3 0 0 1\n",
      "        7 0 0 0 2 0 0 0 6\n",
      "        0 6 0 0 0 0 2 8 0\n",
      "        0 0 0 4 1 9 0 0 5\n",
      "        0 0 0 0 8 0 0 7 9\n",
      "        ''')\n",
      "\n",
      "solution = Sudoku('''\n",
      "        5 3 4 6 7 8 9 1 2\n",
      "        6 7 2 1 9 5 3 4 8\n",
      "        1 9 8 3 4 2 5 6 7\n",
      "        8 5 9 7 6 1 4 2 3\n",
      "        4 2 6 8 5 3 7 9 1\n",
      "        7 1 3 9 2 4 8 5 6\n",
      "        9 6 1 5 3 7 2 8 4\n",
      "        2 8 7 4 1 9 6 3 5\n",
      "        3 4 5 2 8 6 1 7 9\n",
      "        ''')\n",
      "\n",
      "result = Sodoku(solve(problem))\n",
      "\n",
      "print('==== Problem ====\\n{0}\\n\\n=== Solution ====\\n{1}'.format(\n",
      "            problem, result))\n",
      "    \n",
      "assert(result == solution)"
     ],
     "language": "python",
     "metadata": {},
     "outputs": [
      {
       "ename": "NameError",
       "evalue": "name 'Sodoku' is not defined",
       "output_type": "pyerr",
       "traceback": [
        "\u001b[0;31m---------------------------------------------------------------------------\u001b[0m\n\u001b[0;31mNameError\u001b[0m                                 Traceback (most recent call last)",
        "\u001b[0;32m<ipython-input-22-0f1d086fe571>\u001b[0m in \u001b[0;36m<module>\u001b[0;34m()\u001b[0m\n\u001b[1;32m     23\u001b[0m         ''')\n\u001b[1;32m     24\u001b[0m \u001b[0;34m\u001b[0m\u001b[0m\n\u001b[0;32m---> 25\u001b[0;31m \u001b[0mresult\u001b[0m \u001b[0;34m=\u001b[0m \u001b[0mSodoku\u001b[0m\u001b[0;34m(\u001b[0m\u001b[0msolve\u001b[0m\u001b[0;34m(\u001b[0m\u001b[0mproblem\u001b[0m\u001b[0;34m)\u001b[0m\u001b[0;34m)\u001b[0m\u001b[0;34m\u001b[0m\u001b[0m\n\u001b[0m\u001b[1;32m     26\u001b[0m \u001b[0;34m\u001b[0m\u001b[0m\n\u001b[1;32m     27\u001b[0m print('==== Problem ====\\n{0}\\n\\n=== Solution ====\\n{1}'.format(\n",
        "\u001b[0;31mNameError\u001b[0m: name 'Sodoku' is not defined"
       ]
      }
     ],
     "prompt_number": 22
    },
    {
     "cell_type": "code",
     "collapsed": false,
     "input": [
      "puzzle = '4.....8.5.3..........7......2.....6.....8.4......1.......6.3.7.5..2.....1.4......'\n",
      "puzzle = puzzle.replace('.', '0')\n",
      "print(puzzle)"
     ],
     "language": "python",
     "metadata": {},
     "outputs": [
      {
       "output_type": "stream",
       "stream": "stdout",
       "text": [
        "400000805030000000000700000020000060000080400000010000000603070500200000104000000\n"
       ]
      }
     ],
     "prompt_number": 4
    },
    {
     "cell_type": "code",
     "collapsed": false,
     "input": [
      "puzzle = Soduku(puzzle)"
     ],
     "language": "python",
     "metadata": {},
     "outputs": [
      {
       "ename": "NameError",
       "evalue": "name 'Soduku' is not defined",
       "output_type": "pyerr",
       "traceback": [
        "\u001b[0;31m---------------------------------------------------------------------------\u001b[0m\n\u001b[0;31mNameError\u001b[0m                                 Traceback (most recent call last)",
        "\u001b[0;32m<ipython-input-6-fac4a1d563a2>\u001b[0m in \u001b[0;36m<module>\u001b[0;34m()\u001b[0m\n\u001b[0;32m----> 1\u001b[0;31m \u001b[0mpuzzle\u001b[0m \u001b[0;34m=\u001b[0m \u001b[0mSoduku\u001b[0m\u001b[0;34m(\u001b[0m\u001b[0mpuzzle\u001b[0m\u001b[0;34m)\u001b[0m\u001b[0;34m\u001b[0m\u001b[0m\n\u001b[0m",
        "\u001b[0;31mNameError\u001b[0m: name 'Soduku' is not defined"
       ]
      }
     ],
     "prompt_number": 6
    },
    {
     "cell_type": "code",
     "collapsed": false,
     "input": [],
     "language": "python",
     "metadata": {},
     "outputs": []
    }
   ],
   "metadata": {}
  }
 ]
}