{
 "metadata": {
  "name": ""
 },
 "nbformat": 3,
 "nbformat_minor": 0,
 "worksheets": [
  {
   "cells": [
    {
     "cell_type": "code",
     "collapsed": false,
     "input": [
      "import random\n",
      "import itertools\n",
      "\n",
      "def deal(numhands, n=5, whole_cards=0, deck = [r+s for r in '23456789TJQKA' for s in 'SHDC']):\n",
      "\trandom.shuffle(deck)\n",
      "\treturn [deck[n*i:n*(i+1)] for i in range(numhands)], deck[-1-whole_cards:-1]\n",
      "\n",
      "def hand_rank(hand):\n",
      "\t\"Return a value indicating how high the hand ranks.\"\n",
      "\t# counts is the count of each rank; ranks lists corresponding ranks\n",
      "\t# e.g. '7 T 7 9 7' => counts = (3, 1, 1); ranks = (7, 10, 9)\n",
      "\tgroups = group(['--23456789TJQKA'.index(r) for r,s in hand])\n",
      "\tcounts, ranks = unzip(groups)\n",
      "\tif ranks == (14, 5, 4, 3, 2):\n",
      "\t\tranks = (5, 4, 3, 2, 1)\n",
      "\tstraight = len(ranks) == 5 and max(ranks)-min(ranks) == 4\n",
      "\tflush = len(set([s for r,s in hand])) == 1\n",
      "\treturn max(count_rankings[counts], 4*straight + 5*flush), ranks\n",
      "\n",
      "count_rankings = {(5,):10, (4, 1):7, (3, 2):6, (3, 1, 1):3, (2, 2, 1):2, (2, 1, 1, 1):1, (1, 1, 1, 1, 1):0}\t\n",
      "\n",
      "def group(items):\n",
      "\t\"Return a list of [(count, x)...], highest count first, then highest x first.\"\n",
      "\tgroups = [(items.count(x), x) for x in set(items)]\n",
      "\treturn sorted(groups, reverse=True)\n",
      "\n",
      "def unzip(pairs): return zip(*pairs)\n",
      "\n",
      "hand_names = ['High Card', 'Pair', '2 Pair', '3 of a Kind', 'Straight', 'Flush', 'Full House', '4 of a Kind', '', 'Straight Flush', '5 of a Kind']"
     ],
     "language": "python",
     "metadata": {},
     "outputs": [],
     "prompt_number": 1
    },
    {
     "cell_type": "code",
     "collapsed": false,
     "input": [
      "def hand_percentages(n=700*1000):\n",
      "    \"Sample n random hands and print a table of percentages for each type of hand.\"\n",
      "    counts = [0] * 11\n",
      "    for i in range(n):\n",
      "        cards_dealt, whole_cards = deal(1)\n",
      "        for hand in cards_dealt:\n",
      "            ranking = hand_rank(hand)[0]\n",
      "            counts[ranking] += 1\n",
      "    for i in reversed(range(11)):\n",
      "        print(hand_names[i], 100.*counts[i]/n)\n",
      "\n",
      "hand_percentages(1000*1000)"
     ],
     "language": "python",
     "metadata": {},
     "outputs": [
      {
       "output_type": "stream",
       "stream": "stdout",
       "text": [
        "5 of a Kind 0.0\n",
        "Straight Flush 0.0012\n",
        " 0.0\n",
        "4 of a Kind 0.0251\n",
        "Full House 0.1464\n",
        "Flush 0.2029\n",
        "Straight 0.3919\n",
        "3 of a Kind 2.1117\n",
        "2 Pair 4.754\n",
        "Pair 42.311\n",
        "High Card 50.0558\n"
       ]
      }
     ],
     "prompt_number": 10
    },
    {
     "cell_type": "code",
     "collapsed": false,
     "input": [
      "# 7-card Stud using a deal(players, cards, whole cards)\n",
      "cards_dealt, whole_cards = deal(4, 5, 2)\n",
      "print (whole_cards, cards_dealt)\n",
      "winner = []\n",
      "for player in cards_dealt:\n",
      "\tplayer_hand_ranks = []\n",
      "\tfor hand in itertools.combinations(player + whole_cards, 5):\n",
      "\t\tplayer_hand_ranks.append((hand_rank(hand), hand))\n",
      "\tbest_hand = max(player_hand_ranks)\n",
      "\tprint(best_hand)\n",
      "\twinner.append(best_hand)\n",
      "print( 'winner: ', max(winner))"
     ],
     "language": "python",
     "metadata": {},
     "outputs": [
      {
       "output_type": "stream",
       "stream": "stdout",
       "text": [
        "['JS', '5D'] [['6H', 'KH', '3D', '4D', '5H'], ['3H', '4H', '7C', '4S', '9D'], ['5C', 'JC', '3S', '6S', '5S'], ['QC', 'AD', 'QH', 'QS', 'KS']]\n",
        "((1, (5, 13, 11, 6)), ('6H', 'KH', '5H', 'JS', '5D'))\n",
        "((1, (4, 11, 9, 7)), ('4H', '7C', '4S', '9D', 'JS'))\n",
        "((6, (5, 11)), ('5C', 'JC', '5S', 'JS', '5D'))\n",
        "((3, (12, 14, 13)), ('QC', 'AD', 'QH', 'QS', 'KS'))\n",
        "winner:  ((6, (5, 11)), ('5C', 'JC', '5S', 'JS', '5D'))\n"
       ]
      }
     ],
     "prompt_number": 35
    },
    {
     "cell_type": "code",
     "collapsed": false,
     "input": [],
     "language": "python",
     "metadata": {},
     "outputs": [],
     "prompt_number": 21
    },
    {
     "cell_type": "code",
     "collapsed": false,
     "input": [],
     "language": "python",
     "metadata": {},
     "outputs": []
    }
   ],
   "metadata": {}
  }
 ]
}